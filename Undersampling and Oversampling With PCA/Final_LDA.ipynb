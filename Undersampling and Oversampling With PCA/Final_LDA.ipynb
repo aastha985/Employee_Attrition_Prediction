{
  "nbformat": 4,
  "nbformat_minor": 0,
  "metadata": {
    "colab": {
      "name": "Final LDA.ipynb",
      "provenance": [],
      "collapsed_sections": [
        "_mRm7fQ7mwvq",
        "ga-47TMSmzmq"
      ]
    },
    "kernelspec": {
      "name": "python3",
      "display_name": "Python 3"
    },
    "language_info": {
      "name": "python"
    }
  },
  "cells": [
    {
      "cell_type": "markdown",
      "metadata": {
        "id": "_2SVpvK3jqdo"
      },
      "source": [
        "# Importing Modules"
      ]
    },
    {
      "cell_type": "code",
      "metadata": {
        "id": "svdasjARhQdX"
      },
      "source": [
        "import pandas as pd\n",
        "import numpy as np\n",
        "import matplotlib.pyplot as plt\n",
        "from sklearn.model_selection import train_test_split, GridSearchCV, cross_validate\n",
        "from sklearn.preprocessing import StandardScaler, OneHotEncoder, LabelEncoder, MinMaxScaler\n",
        "from sklearn.linear_model import LogisticRegression\n",
        "from sklearn.metrics import accuracy_score,precision_score, recall_score, confusion_matrix, f1_score, roc_curve,auc\n",
        "import warnings\n",
        "from sklearn.exceptions import FitFailedWarning\n",
        "warnings.simplefilter('ignore', FitFailedWarning)\n",
        "from imblearn.over_sampling import RandomOverSampler\n",
        "from sklearn.discriminant_analysis import LinearDiscriminantAnalysis\n",
        "from sklearn.decomposition import PCA"
      ],
      "execution_count": null,
      "outputs": []
    },
    {
      "cell_type": "markdown",
      "metadata": {
        "id": "8xfMmoLAjyJj"
      },
      "source": [
        "# Importing Dataset"
      ]
    },
    {
      "cell_type": "code",
      "metadata": {
        "id": "1oC43f6mjvpO"
      },
      "source": [
        "df = pd.read_csv('WA_Fn-UseC_-HR-Employee-Attrition.csv')"
      ],
      "execution_count": null,
      "outputs": []
    },
    {
      "cell_type": "code",
      "metadata": {
        "colab": {
          "base_uri": "https://localhost:8080/",
          "height": 313
        },
        "id": "Bx6Q6cb_j695",
        "outputId": "b706770f-80b0-44f5-c1b3-d75aa6351d7e"
      },
      "source": [
        "df.head()"
      ],
      "execution_count": null,
      "outputs": [
        {
          "output_type": "execute_result",
          "data": {
            "text/html": [
              "<div>\n",
              "<style scoped>\n",
              "    .dataframe tbody tr th:only-of-type {\n",
              "        vertical-align: middle;\n",
              "    }\n",
              "\n",
              "    .dataframe tbody tr th {\n",
              "        vertical-align: top;\n",
              "    }\n",
              "\n",
              "    .dataframe thead th {\n",
              "        text-align: right;\n",
              "    }\n",
              "</style>\n",
              "<table border=\"1\" class=\"dataframe\">\n",
              "  <thead>\n",
              "    <tr style=\"text-align: right;\">\n",
              "      <th></th>\n",
              "      <th>Age</th>\n",
              "      <th>Attrition</th>\n",
              "      <th>BusinessTravel</th>\n",
              "      <th>DailyRate</th>\n",
              "      <th>Department</th>\n",
              "      <th>DistanceFromHome</th>\n",
              "      <th>Education</th>\n",
              "      <th>EducationField</th>\n",
              "      <th>EmployeeCount</th>\n",
              "      <th>EmployeeNumber</th>\n",
              "      <th>EnvironmentSatisfaction</th>\n",
              "      <th>Gender</th>\n",
              "      <th>HourlyRate</th>\n",
              "      <th>JobInvolvement</th>\n",
              "      <th>JobLevel</th>\n",
              "      <th>JobRole</th>\n",
              "      <th>JobSatisfaction</th>\n",
              "      <th>MaritalStatus</th>\n",
              "      <th>MonthlyIncome</th>\n",
              "      <th>MonthlyRate</th>\n",
              "      <th>NumCompaniesWorked</th>\n",
              "      <th>Over18</th>\n",
              "      <th>OverTime</th>\n",
              "      <th>PercentSalaryHike</th>\n",
              "      <th>PerformanceRating</th>\n",
              "      <th>RelationshipSatisfaction</th>\n",
              "      <th>StandardHours</th>\n",
              "      <th>StockOptionLevel</th>\n",
              "      <th>TotalWorkingYears</th>\n",
              "      <th>TrainingTimesLastYear</th>\n",
              "      <th>WorkLifeBalance</th>\n",
              "      <th>YearsAtCompany</th>\n",
              "      <th>YearsInCurrentRole</th>\n",
              "      <th>YearsSinceLastPromotion</th>\n",
              "      <th>YearsWithCurrManager</th>\n",
              "    </tr>\n",
              "  </thead>\n",
              "  <tbody>\n",
              "    <tr>\n",
              "      <th>0</th>\n",
              "      <td>41</td>\n",
              "      <td>Yes</td>\n",
              "      <td>Travel_Rarely</td>\n",
              "      <td>1102</td>\n",
              "      <td>Sales</td>\n",
              "      <td>1</td>\n",
              "      <td>2</td>\n",
              "      <td>Life Sciences</td>\n",
              "      <td>1</td>\n",
              "      <td>1</td>\n",
              "      <td>2</td>\n",
              "      <td>Female</td>\n",
              "      <td>94</td>\n",
              "      <td>3</td>\n",
              "      <td>2</td>\n",
              "      <td>Sales Executive</td>\n",
              "      <td>4</td>\n",
              "      <td>Single</td>\n",
              "      <td>5993</td>\n",
              "      <td>19479</td>\n",
              "      <td>8</td>\n",
              "      <td>Y</td>\n",
              "      <td>Yes</td>\n",
              "      <td>11</td>\n",
              "      <td>3</td>\n",
              "      <td>1</td>\n",
              "      <td>80</td>\n",
              "      <td>0</td>\n",
              "      <td>8</td>\n",
              "      <td>0</td>\n",
              "      <td>1</td>\n",
              "      <td>6</td>\n",
              "      <td>4</td>\n",
              "      <td>0</td>\n",
              "      <td>5</td>\n",
              "    </tr>\n",
              "    <tr>\n",
              "      <th>1</th>\n",
              "      <td>49</td>\n",
              "      <td>No</td>\n",
              "      <td>Travel_Frequently</td>\n",
              "      <td>279</td>\n",
              "      <td>Research &amp; Development</td>\n",
              "      <td>8</td>\n",
              "      <td>1</td>\n",
              "      <td>Life Sciences</td>\n",
              "      <td>1</td>\n",
              "      <td>2</td>\n",
              "      <td>3</td>\n",
              "      <td>Male</td>\n",
              "      <td>61</td>\n",
              "      <td>2</td>\n",
              "      <td>2</td>\n",
              "      <td>Research Scientist</td>\n",
              "      <td>2</td>\n",
              "      <td>Married</td>\n",
              "      <td>5130</td>\n",
              "      <td>24907</td>\n",
              "      <td>1</td>\n",
              "      <td>Y</td>\n",
              "      <td>No</td>\n",
              "      <td>23</td>\n",
              "      <td>4</td>\n",
              "      <td>4</td>\n",
              "      <td>80</td>\n",
              "      <td>1</td>\n",
              "      <td>10</td>\n",
              "      <td>3</td>\n",
              "      <td>3</td>\n",
              "      <td>10</td>\n",
              "      <td>7</td>\n",
              "      <td>1</td>\n",
              "      <td>7</td>\n",
              "    </tr>\n",
              "    <tr>\n",
              "      <th>2</th>\n",
              "      <td>37</td>\n",
              "      <td>Yes</td>\n",
              "      <td>Travel_Rarely</td>\n",
              "      <td>1373</td>\n",
              "      <td>Research &amp; Development</td>\n",
              "      <td>2</td>\n",
              "      <td>2</td>\n",
              "      <td>Other</td>\n",
              "      <td>1</td>\n",
              "      <td>4</td>\n",
              "      <td>4</td>\n",
              "      <td>Male</td>\n",
              "      <td>92</td>\n",
              "      <td>2</td>\n",
              "      <td>1</td>\n",
              "      <td>Laboratory Technician</td>\n",
              "      <td>3</td>\n",
              "      <td>Single</td>\n",
              "      <td>2090</td>\n",
              "      <td>2396</td>\n",
              "      <td>6</td>\n",
              "      <td>Y</td>\n",
              "      <td>Yes</td>\n",
              "      <td>15</td>\n",
              "      <td>3</td>\n",
              "      <td>2</td>\n",
              "      <td>80</td>\n",
              "      <td>0</td>\n",
              "      <td>7</td>\n",
              "      <td>3</td>\n",
              "      <td>3</td>\n",
              "      <td>0</td>\n",
              "      <td>0</td>\n",
              "      <td>0</td>\n",
              "      <td>0</td>\n",
              "    </tr>\n",
              "    <tr>\n",
              "      <th>3</th>\n",
              "      <td>33</td>\n",
              "      <td>No</td>\n",
              "      <td>Travel_Frequently</td>\n",
              "      <td>1392</td>\n",
              "      <td>Research &amp; Development</td>\n",
              "      <td>3</td>\n",
              "      <td>4</td>\n",
              "      <td>Life Sciences</td>\n",
              "      <td>1</td>\n",
              "      <td>5</td>\n",
              "      <td>4</td>\n",
              "      <td>Female</td>\n",
              "      <td>56</td>\n",
              "      <td>3</td>\n",
              "      <td>1</td>\n",
              "      <td>Research Scientist</td>\n",
              "      <td>3</td>\n",
              "      <td>Married</td>\n",
              "      <td>2909</td>\n",
              "      <td>23159</td>\n",
              "      <td>1</td>\n",
              "      <td>Y</td>\n",
              "      <td>Yes</td>\n",
              "      <td>11</td>\n",
              "      <td>3</td>\n",
              "      <td>3</td>\n",
              "      <td>80</td>\n",
              "      <td>0</td>\n",
              "      <td>8</td>\n",
              "      <td>3</td>\n",
              "      <td>3</td>\n",
              "      <td>8</td>\n",
              "      <td>7</td>\n",
              "      <td>3</td>\n",
              "      <td>0</td>\n",
              "    </tr>\n",
              "    <tr>\n",
              "      <th>4</th>\n",
              "      <td>27</td>\n",
              "      <td>No</td>\n",
              "      <td>Travel_Rarely</td>\n",
              "      <td>591</td>\n",
              "      <td>Research &amp; Development</td>\n",
              "      <td>2</td>\n",
              "      <td>1</td>\n",
              "      <td>Medical</td>\n",
              "      <td>1</td>\n",
              "      <td>7</td>\n",
              "      <td>1</td>\n",
              "      <td>Male</td>\n",
              "      <td>40</td>\n",
              "      <td>3</td>\n",
              "      <td>1</td>\n",
              "      <td>Laboratory Technician</td>\n",
              "      <td>2</td>\n",
              "      <td>Married</td>\n",
              "      <td>3468</td>\n",
              "      <td>16632</td>\n",
              "      <td>9</td>\n",
              "      <td>Y</td>\n",
              "      <td>No</td>\n",
              "      <td>12</td>\n",
              "      <td>3</td>\n",
              "      <td>4</td>\n",
              "      <td>80</td>\n",
              "      <td>1</td>\n",
              "      <td>6</td>\n",
              "      <td>3</td>\n",
              "      <td>3</td>\n",
              "      <td>2</td>\n",
              "      <td>2</td>\n",
              "      <td>2</td>\n",
              "      <td>2</td>\n",
              "    </tr>\n",
              "  </tbody>\n",
              "</table>\n",
              "</div>"
            ],
            "text/plain": [
              "   Age Attrition  ... YearsSinceLastPromotion  YearsWithCurrManager\n",
              "0   41       Yes  ...                       0                     5\n",
              "1   49        No  ...                       1                     7\n",
              "2   37       Yes  ...                       0                     0\n",
              "3   33        No  ...                       3                     0\n",
              "4   27        No  ...                       2                     2\n",
              "\n",
              "[5 rows x 35 columns]"
            ]
          },
          "metadata": {},
          "execution_count": 100
        }
      ]
    },
    {
      "cell_type": "markdown",
      "metadata": {
        "id": "_mRm7fQ7mwvq"
      },
      "source": [
        "# No Missing Values"
      ]
    },
    {
      "cell_type": "code",
      "metadata": {
        "colab": {
          "base_uri": "https://localhost:8080/"
        },
        "id": "plrHD1Koj73G",
        "outputId": "9b2b9279-c9ee-41a8-960a-f78d9513262b"
      },
      "source": [
        "df.isna().any().any()"
      ],
      "execution_count": null,
      "outputs": [
        {
          "output_type": "execute_result",
          "data": {
            "text/plain": [
              "False"
            ]
          },
          "metadata": {},
          "execution_count": 101
        }
      ]
    },
    {
      "cell_type": "markdown",
      "metadata": {
        "id": "ga-47TMSmzmq"
      },
      "source": [
        "# Encoding Categorical Values"
      ]
    },
    {
      "cell_type": "code",
      "metadata": {
        "id": "qKzH-roNkh2h"
      },
      "source": [
        "#Columns with string values\n",
        "categorical_column = ['Attrition', 'BusinessTravel', 'Department','Gender', 'JobRole', 'MaritalStatus', 'OverTime','EducationField']\n",
        "encoder=LabelEncoder()\n",
        "df[categorical_column]=df[categorical_column].apply(encoder.fit_transform)"
      ],
      "execution_count": null,
      "outputs": []
    },
    {
      "cell_type": "markdown",
      "metadata": {
        "id": "6UkQJOPXn1bY"
      },
      "source": [
        "# Seperating into X and y"
      ]
    },
    {
      "cell_type": "code",
      "metadata": {
        "id": "Z_F5HO95nRME"
      },
      "source": [
        "y=df['Attrition']\n",
        "X=df.drop(['EmployeeCount','Attrition','EmployeeNumber','Over18','StandardHours'],axis=1)"
      ],
      "execution_count": null,
      "outputs": []
    },
    {
      "cell_type": "code",
      "metadata": {
        "id": "vSdAjn0egPdM"
      },
      "source": [
        "from imblearn.over_sampling import RandomOverSampler\n",
        "from imblearn.under_sampling import RandomUnderSampler\n",
        "\n",
        "rus = RandomUnderSampler(random_state=42,replacement=True)\n",
        "X_, Y1 = rus.fit_resample(X,y)\n",
        "X1 = pd.DataFrame(X_,columns=X.columns)\n",
        "\n",
        "ros = RandomOverSampler(random_state=42)\n",
        "X_, Y2 = ros.fit_resample(X,y)\n",
        "X2 = pd.DataFrame(X_,columns=X.columns)"
      ],
      "execution_count": null,
      "outputs": []
    },
    {
      "cell_type": "markdown",
      "metadata": {
        "id": "TF4e4uIjSiYX"
      },
      "source": [
        "#Undersampling"
      ]
    },
    {
      "cell_type": "code",
      "metadata": {
        "id": "7OiFwmOOfnp9"
      },
      "source": [
        "X=X1\n",
        "y=Y1"
      ],
      "execution_count": null,
      "outputs": []
    },
    {
      "cell_type": "markdown",
      "metadata": {
        "id": "ON7ZM52roZi3"
      },
      "source": [
        "# Spliting into Train and Test Sets"
      ]
    },
    {
      "cell_type": "code",
      "metadata": {
        "id": "s4lsXDvon7LE"
      },
      "source": [
        "X_train, X_test, y_train, y_test = train_test_split(X,y,test_size=0.3,random_state=1)\n"
      ],
      "execution_count": null,
      "outputs": []
    },
    {
      "cell_type": "markdown",
      "metadata": {
        "id": "_65K6KjBsC60"
      },
      "source": [
        "## PCA"
      ]
    },
    {
      "cell_type": "code",
      "metadata": {
        "colab": {
          "base_uri": "https://localhost:8080/",
          "height": 399
        },
        "id": "X2LokT5njOSK",
        "outputId": "f95a478e-1a8b-47d4-fa6c-4cbace5d5654"
      },
      "source": [
        "from sklearn.preprocessing import StandardScaler\n",
        "pca = PCA(random_state=0)\n",
        "principalComponents = pca.fit_transform(StandardScaler().fit_transform(X_train))\n",
        "print(pca.explained_variance_ratio_)\n",
        "print('Two PCs explain', sum(pca.explained_variance_ratio_)*100, '% of variance cumulatively')\n",
        "# scree plot\n",
        "PC_values = np.arange(pca.n_components_) + 1\n",
        "plt.plot(PC_values, pca.explained_variance_ratio_, 'ro-', linewidth=2)\n",
        "plt.title('Scree Plot')\n",
        "plt.xlabel('Principal Component')\n",
        "plt.ylabel('Proportion of Variance Explained')\n",
        "plt.show()"
      ],
      "execution_count": null,
      "outputs": [
        {
          "output_type": "stream",
          "name": "stdout",
          "text": [
            "[0.17445552 0.0699519  0.06218277 0.05725446 0.05020425 0.04788498\n",
            " 0.04052414 0.03895564 0.03780679 0.03636596 0.03612603 0.03376543\n",
            " 0.03244581 0.03095886 0.02949425 0.028637   0.02676959 0.02558136\n",
            " 0.02322786 0.02290547 0.02084384 0.01638863 0.01252833 0.01023981\n",
            " 0.00937677 0.00734672 0.00644248 0.00611985 0.00391797 0.00129754]\n",
            "Two PCs explain 99.99999999999997 % of variance cumulatively\n"
          ]
        },
        {
          "output_type": "display_data",
          "data": {
            "image/png": "[encoded data removed]",
            "text/plain": [
              "<Figure size 432x288 with 1 Axes>"
            ]
          },
          "metadata": {
            "needs_background": "light"
          }
        }
      ]
    },
    {
      "cell_type": "code",
      "metadata": {
        "colab": {
          "base_uri": "https://localhost:8080/",
          "height": 451
        },
        "id": "QbdzJujEeIQI",
        "outputId": "8d46a8f7-89f2-4887-c715-177cc87f786b"
      },
      "source": [
        "pca = PCA(random_state=0)\n",
        "principalComponents = pca.fit_transform(X_train)\n",
        "print(pca.explained_variance_ratio_)\n",
        "print('Two PCs explain ', sum(pca.explained_variance_ratio_)*100, '% of variance cumulatively')\n",
        "# scree plot\n",
        "PC_values = np.arange(pca.n_components_) + 1\n",
        "plt.plot(PC_values, pca.explained_variance_ratio_, 'ro-', linewidth=2)\n",
        "plt.title('Scree Plot')\n",
        "plt.xlabel('Principal Component')\n",
        "plt.ylabel('Proportion of Variance Explained')\n",
        "plt.show()"
      ],
      "execution_count": null,
      "outputs": [
        {
          "output_type": "stream",
          "name": "stdout",
          "text": [
            "[7.07406869e-01 2.90221289e-01 2.36234386e-03 5.97440876e-06\n",
            " 1.15981582e-06 8.95438373e-07 6.02246140e-07 1.92869783e-07\n",
            " 1.82251798e-07 8.49179133e-08 7.85911659e-08 6.56258045e-08\n",
            " 6.11524850e-08 3.95425679e-08 2.85565854e-08 2.34040072e-08\n",
            " 1.72544723e-08 1.64626190e-08 1.57284739e-08 1.49521618e-08\n",
            " 1.29689310e-08 7.40915683e-09 6.39818634e-09 5.67571090e-09\n",
            " 3.31543749e-09 2.95487040e-09 2.42336169e-09 1.93983180e-09\n",
            " 1.09053057e-09 6.35438677e-10]\n",
            "Two PCs explain  99.99999999999999 % of variance cumulatively\n"
          ]
        },
        {
          "output_type": "display_data",
          "data": {
            "image/png": "[encoded data removed]",
            "text/plain": [
              "<Figure size 432x288 with 1 Axes>"
            ]
          },
          "metadata": {
            "needs_background": "light"
          }
        }
      ]
    },
    {
      "cell_type": "code",
      "metadata": {
        "colab": {
          "base_uri": "https://localhost:8080/",
          "height": 330
        },
        "id": "hlXeoZFYlkc-",
        "outputId": "8854a259-6292-4aec-cee2-1ce964b3a719"
      },
      "source": [
        "pca = PCA(n_components=2, random_state=0)\n",
        "principalComponents = pca.fit_transform(X_train)\n",
        "print(pca.explained_variance_ratio_)\n",
        "print('Two PCs explain ', sum(pca.explained_variance_ratio_)*100, '% of variance cumulatively')\n",
        "# scree plot\n",
        "PC_values = np.arange(pca.n_components_) + 1\n",
        "plt.plot(PC_values, pca.explained_variance_ratio_, 'ro-', linewidth=2)\n",
        "plt.title('Scree Plot')\n",
        "plt.xlabel('Principal Component')\n",
        "plt.ylabel('Proportion of Variance Explained')\n",
        "plt.show()"
      ],
      "execution_count": null,
      "outputs": [
        {
          "output_type": "stream",
          "name": "stdout",
          "text": [
            "[0.70740687 0.29022129]\n",
            "Two PCs explain  99.76281581107092 % of variance cumulatively\n"
          ]
        },
        {
          "output_type": "display_data",
          "data": {
            "image/png": "[encoded data removed]",
            "text/plain": [
              "<Figure size 432x288 with 1 Axes>"
            ]
          },
          "metadata": {
            "needs_background": "light"
          }
        }
      ]
    },
    {
      "cell_type": "code",
      "metadata": {
        "colab": {
          "base_uri": "https://localhost:8080/",
          "height": 542
        },
        "id": "kOIeZGJPoTXR",
        "outputId": "af1f72f6-eb5a-430c-e518-e3f400efb2cf"
      },
      "source": [
        "import plotly.express as px\n",
        "fig = px.scatter(principalComponents, x=0, y=1, color=y_train)\n",
        "fig.show()\n",
        "X_train = principalComponents\n",
        "X_test = pca.transform(X_test)"
      ],
      "execution_count": null,
      "outputs": [
        {
          "output_type": "display_data",
          "data": {
            "text/html": [
              "<html>\n",
              "<head><meta charset=\"utf-8\" /></head>\n",
              "<body>\n",
              "    <div>\n",
              "            <script src=\"https://cdnjs.cloudflare.com/ajax/libs/mathjax/2.7.5/MathJax.js?config=TeX-AMS-MML_SVG\"></script><script type=\"text/javascript\">if (window.MathJax) {MathJax.Hub.Config({SVG: {font: \"STIX-Web\"}});}</script>\n",
              "                <script type=\"text/javascript\">window.PlotlyConfig = {MathJaxConfig: 'local'};</script>\n",
              "        <script src=\"https://cdn.plot.ly/plotly-latest.min.js\"></script>    \n",
              "            <div id=\"7c0fe9a9-4909-4279-9530-4c4b96c36000\" class=\"plotly-graph-div\" style=\"height:525px; width:100%;\"></div>\n",
              "            <script type=\"text/javascript\">\n",
              "                \n",
              "                    window.PLOTLYENV=window.PLOTLYENV || {};\n",
              "                    \n",
              "                if (document.getElementById(\"7c0fe9a9-4909-4279-9530-4c4b96c36000\")) {\n",
              "                    Plotly.newPlot(\n",
              "                        '7c0fe9a9-4909-4279-9530-4c4b96c36000',\n",
              "                        [{\"hoverlabel\": {\"namelength\": 0}, \"hovertemplate\": \"0=%{x}<br>1=%{y}<br>color=%{marker.color}\", \"legendgroup\": \"\", \"marker\": {\"color\": [0, 1, 0, 0, 1, 1, 1, 1, 0, 0, 1, 0, 0, 0, 1, 0, 0, 0, 1, 0, 1, 1, 1, 0, 1, 1, 0, 0, 0, 1, 1, 1, 1, 0, 1, 1, 1, 1, 0, 1, 1, 0, 0, 1, 0, 0, 0, 1, 0, 1, 0, 0, 0, 0, 0, 0, 0, 0, 0, 1, 0, 1, 0, 1, 1, 1, 1, 1, 0, 1, 1, 1, 0, 0, 1, 1, 0, 0, 1, 0, 1, 1, 1, 0, 1, 1, 1, 1, 1, 0, 0, 1, 1, 1, 1, 1, 1, 1, 1, 1, 0, 1, 1, 1, 0, 1, 0, 0, 0, 1, 0, 0, 0, 0, 0, 1, 1, 0, 1, 0, 0, 0, 1, 0, 0, 0, 0, 1, 0, 0, 0, 0, 1, 1, 0, 0, 1, 0, 1, 1, 0, 1, 1, 0, 0, 0, 1, 0, 1, 0, 0, 0, 1, 1, 0, 1, 0, 0, 0, 0, 0, 0, 1, 0, 0, 1, 1, 1, 0, 0, 0, 1, 1, 1, 0, 0, 0, 1, 0, 1, 0, 1, 0, 0, 0, 0, 0, 1, 0, 0, 0, 1, 0, 0, 0, 0, 0, 0, 0, 1, 1, 0, 1, 0, 0, 1, 0, 1, 1, 0, 1, 0, 1, 1, 0, 0, 0, 1, 1, 0, 1, 0, 0, 1, 1, 1, 1, 1, 1, 0, 0, 1, 1, 0, 0, 1, 1, 1, 0, 1, 0, 1, 1, 1, 0, 0, 0, 1, 0, 1, 1, 1, 0, 0, 1, 1, 0, 0, 1, 1, 0, 1, 0, 0, 0, 0, 1, 1, 0, 1, 1, 0, 0, 0, 1, 0, 1, 0, 1, 1, 1, 0, 0, 0, 1, 0, 1, 0, 1, 1, 0, 1, 0, 1, 1, 0, 1, 0, 0, 1, 1, 0, 0, 0, 1, 1, 0, 1, 1, 1, 1, 1, 1, 0, 1, 1, 1, 0, 1, 0, 0, 1, 1, 0, 0, 1, 1, 0, 1, 0, 0], \"coloraxis\": \"coloraxis\", \"symbol\": \"circle\"}, \"mode\": \"markers\", \"name\": \"\", \"showlegend\": false, \"type\": \"scatter\", \"x\": [-4181.7534874264065, -10937.387700310192, -4366.528051613791, 8338.045983920298, -8440.644693735936, -4277.599774244786, 8655.170056189485, -9669.727291816589, 11046.62193609117, -10275.109147561494, -2626.80831369955, 9063.920957704007, -2537.699459645483, -748.6620687844518, -1932.6018363617754, -2244.490134277617, 10113.974094306215, -364.02347229723176, 12177.16567696096, 9544.929003256993, 1216.4633575675573, 11056.899501865819, 11356.086129675552, 5604.013333870631, 8505.631388267977, 10446.284711291286, -4968.272371034987, -5277.54246948362, 3330.9357562710416, 2871.3696128831116, -9351.724304748292, 2330.6492225413367, 8305.787677030772, -7267.421168075538, 9933.239148517416, -9823.835027406576, 4426.577646433708, -10142.610058864988, 7270.335960422658, 12245.318141780574, -11267.65068994285, -6444.458913502547, -4667.803516510098, -819.2567325944619, 4487.384639566189, 10961.778758683557, -7411.87619654628, 1720.6039979015939, -7606.393260424049, 2910.6219933318216, -12204.746859848885, -11141.884726959493, 6379.721725896402, 11977.769728149678, 5922.4003169337275, -7286.39072360057, 9564.508477950038, -6708.782412827399, 2356.4160491233542, -10795.301369442546, 545.5511449364765, 11618.568985653455, 9409.396360426745, -2891.972450559103, 4093.169606202957, 383.98926144569333, -5874.611820785133, -2483.0438864542407, 11384.695975625364, -7650.647314769145, -3538.499461124605, 10226.613769587397, -3412.0278459633905, 1385.2156277935499, 8582.034600773708, -11036.09701308604, -1293.0453397993049, -10366.588964603334, -3180.0838697102204, 5314.752070199082, 8946.6886185212, 7877.372873395227, -9797.264395627342, -5914.640173793889, -11936.879000819172, 11311.606783341073, -689.4502023724724, -7682.237827612239, -4323.794328035653, 5831.132584243553, -7943.616375916055, -2165.787153668901, 7767.551924017563, -8228.170228780808, -1352.2866528148077, 4404.777313639304, -198.27969438432774, 12576.280984712826, -11657.531161407474, 6728.425946178108, -4662.6771101279, 2029.3156960817728, 297.02283196594874, -10702.659169433371, -9329.661168984388, 589.5192170302564, -7676.194011373469, 1041.1801177783923, -1224.3456486480293, -11768.016866858312, 9370.765640891923, -3047.064845498216, 7263.226290596712, -3567.4538150072335, 3826.001703437456, 265.459834746513, -57.74081403659495, -7267.421168075538, -676.784374234608, -9023.218748238101, 696.0655287687044, -497.0391781484927, -4047.663755884852, -5140.834688731672, 8676.655288838698, -1457.9232060010465, 3520.512471595233, 1625.921465505399, 11039.787836947027, 1515.3084713490332, -4784.6407704205785, -2381.537920476575, -5373.815550779097, -8947.96681851883, -6159.683131563977, -924.881606244446, 662.6305659030644, 5701.3707567881465, -8119.989468548398, 8360.990039596743, -2796.414511938994, 10941.293184817658, 4999.154894008799, 7741.61495488375, -10299.074492071175, -8453.938649572887, -8205.399503762485, -5508.184289427928, 9078.151158478324, 1503.7884110402422, 1725.6864956572142, -430.7612761671595, -6096.995873565763, -10942.987985406138, 6861.638343637943, 4963.589533081096, -2252.8414210757737, -7336.467589506864, -8814.657128420225, 9770.196385709347, -1929.318254031427, -2038.3940895583705, -2116.293093519073, 5737.553295907465, -4662.6771101279, 4038.528795885839, -10190.160034570794, -8712.537562917036, -8216.5452557118, 2108.2200067779595, 3003.6396403795434, -7208.371342249557, -8743.883466050465, -4425.66654125142, -6636.874180498386, -5968.414037795393, -9271.62031597822, -2702.040460408468, 3112.954066053065, 3905.224276790248, -10454.145980647434, 839.737099661391, -697.6686991685382, 5737.553295907465, 10876.570588572555, 5997.740350834536, 2250.350850752081, -11001.101689862007, 5659.578556192772, 9364.563950908807, -3829.088262971009, 3357.7263129665575, 5322.8555304632155, 6140.893394790449, -3346.681321781155, 8275.511935653918, 5652.875457677844, -9574.286988004307, -2344.3233814343375, -986.9828945870473, 6233.846662849802, 1549.684991086113, 11547.019876316153, -8229.037784384009, 8791.709373173897, -7372.24818104228, -6901.715921551151, 4069.1867402329653, -6478.796824977033, -5129.075475873559, 352.79004184727046, -12246.300998753979, -6525.497808922728, 7186.150571306535, -5333.841775302841, 1549.684991086113, -4200.546919966699, 6617.248965569458, 6747.080989600999, 5753.927795418903, 3162.0298076118684, 2494.717109892067, -126.59594755181097, -4123.111668400068, 5418.392196746638, 12439.190506551937, 6525.652842678323, -9749.182905276059, 5998.826222634578, -1929.318254031427, 6419.024638558103, 7265.428365295299, 10396.551739289886, -4200.546919966699, 10113.974094306215, 11858.073233817964, -11039.416273647483, -295.3298343467588, -2211.134119373046, -1425.938452332529, -10111.576338848941, 2956.2675467762665, 1174.4775371041255, -9612.768592929155, 6060.13338626479, 8391.959937255431, -7040.267604273478, -6800.384287156188, 890.0962944513049, 41.83022121436514, -4843.935422983603, 579.8118603044161, -4537.536083854091, 10961.778758683557, 7364.120029425963, 10730.87483374101, -8845.361000975112, 9911.120220392595, -193.86613985681578, 2926.4786764964315, -9329.661168984388, -3942.1299083477206, 6110.540507610413, 5539.652415992822, -2274.479697169452, 11043.149111049723, -4951.908218752605, -11378.809367012731, -2344.3233814343375, 3651.8182329529686, -6320.360599236888, -11533.771774868928, -8193.477204829765, 5078.710540780748, -3974.3218946410257, -6366.7809702279965, 10464.609957435707, 9420.619794913033, 8629.735293144087, -6346.751522114864, -4108.419660521103, -5914.640173793889, 411.8448102087252, 9409.396360426745, -4640.583983646767, 5974.157784169955, -5144.888741528185, -7272.239301252394, 12605.790518242267, 5917.13867230075, 10230.739843788117, -2836.140633688902, 1710.7259498903063, -11194.090672048595, 9140.543506446413, -9864.43232602179, -8419.841183168644, -736.6737910248606, -12252.355300167448, -2832.5363366066717, 2738.8156104571453, 6060.13338626479, 5419.306649528567, -1918.1506839826732, -2244.101129371313, -11294.390373830045, -4537.536083854091, 9271.74585606701, 7243.118320874682, 6738.395101023526, 7478.243503981169, 12634.295726784727, -4780.290598496809, -8103.513607976139, 5558.351637109057, -219.79820604244014, 5154.904613883795, -4674.188270881988, 87.17245991185716, 11203.716464544392, -4366.5280516137955, -830.6864981955564, 9157.467834579185, 3808.6853982041375, -12122.802895193241, 7804.439982659681, 8565.46063950439, -2252.8414210757733, -6053.664181160483, 6682.588157710666, -5867.535375921041], \"xaxis\": \"x\", \"y\": [6432.363784287779, -4063.2197160746523, -3641.770525530173, 574.7683501144388, 1956.7893912605366, -2008.9215380978146, 770.4597907256186, -1761.7292402262558, -2986.749290609139, -1923.8170963092446, -3119.5945115601467, 3272.2167449552608, -1342.447055216411, -597.5643935347139, 2936.233231326713, 11228.008723252397, -186.2348612686714, -873.1012200747135, -648.5357004628045, 1551.914555385745, -3389.939285352203, -3241.765186656817, -3539.6479565391855, -3876.3456768101, -1043.2601076666924, -1391.6608609015166, -707.9134472632238, 4787.779814805388, 13334.573107144843, -4435.238326659127, -1469.3997889054672, 5014.090338144082, 4126.893456851331, -3169.227992282106, 6991.151633305869, -713.1903167504315, -3457.5755290349543, -2821.901396349554, -576.2334197150636, -3899.6852629485397, -333.0884257664252, -2063.435545574572, -3040.240921681247, -3893.5803554686877, 13869.918238701854, 7801.29291081228, -3472.7414702690885, 4264.402797309369, -3319.022380459838, -1122.1779839690416, -179.45090894329732, 888.5224847586239, 3809.369232176846, -764.2192018193078, 986.3205331089742, 4677.471970918251, -32.64832164943017, -1281.3681516744255, 2994.0217167526753, 4650.476344122118, -2883.7446598527886, 13281.7203440219, -3239.226196383086, -3367.767777500253, 2359.3367052091558, -3375.5211586967494, 96.72090790005304, -2991.56141419665, -2990.1061055952323, -2298.2192070993738, -2827.612020322779, 1693.0341820070266, 13329.451308931617, 3029.373896791215, -3413.8775098506344, -3497.0997978984788, 13443.180390054595, -2605.8741325939586, -2328.587774978225, 2088.837873636575, -1316.7862072747346, -4654.031843402507, -2997.4238809050194, -3551.2498324374396, 4831.648917334674, -3567.127882633538, 6370.747231659191, -3387.648938910763, -1580.256115129385, -401.1561417877909, -2104.883395874343, 953.6051795191904, -475.11787355796196, -3839.3000769315927, -2816.875734588767, -3505.1134594763685, -2923.4405590503916, -4190.024773292468, 13170.324983157829, -2178.397375236199, -4547.614949637341, -1456.066241888219, -3452.9539349557995, -3325.0562337877677, 1176.2459217193198, -3429.798728228481, 13832.20318347769, -3594.7408245176534, -2502.0923269537857, 8108.725936007864, 867.2894954254085, -2278.3595059291356, -3183.2957478992853, -1750.8266269806431, -3707.3241150570884, -3052.7720266786473, 918.4134488351716, -3169.227992282106, 3818.746123081192, -3545.58557392171, -2520.2181015441997, -1694.282661627005, -3433.169546815569, 2634.543688844616, 3808.537331933336, 483.6989386404689, -2101.72264450173, -3436.190069771238, 7706.609537646013, -668.55608297788, -1471.518209202312, -3456.883506766584, 1706.3827334724388, 4025.325403348798, 12472.657636373955, -1379.8191943220359, 4790.882961879639, 2691.3005031954062, -352.50449589647786, -1641.6623823948357, 10836.530008840951, -3331.5213377369932, -3502.910218045378, -2703.7942507293656, -1766.7116676360374, 14304.725601367001, 681.5686274771734, -1668.0408519221312, 3919.0688848389887, -3717.760294569959, -2931.543125376602, 571.3211964841205, -2985.2681942446056, -3376.3926977645024, 922.5165739576513, -495.71516681450186, -1293.1780500636517, -2170.9401480203037, -3565.985794195153, -1566.8140062814828, -2743.999575994475, -1783.7434774368708, -3429.1406218049397, 4622.519500144048, -4547.614949637341, -4295.303480173773, -1587.7352319106017, -1404.8379586501599, -3423.5263704189324, -3413.0177572020793, -2417.2598610532714, -3117.7372881859933, 4634.359744427498, -3628.383431225736, -424.4448140355423, 4153.8181974941745, 832.7076963832956, -2293.172440058028, -1478.1328289968624, -3264.319783908896, -2878.8987442134335, -1420.246357242567, 7873.079899024528, 4622.519500144048, 7386.761371278478, 8386.881549147083, -3282.4634268196755, -3452.425061872269, 13153.554233920426, 21.357669632134698, -2529.3440211824436, -3078.8067315833764, 4392.169794740037, 7346.1544147791965, -2690.793215423625, -3646.3190540591117, 2059.7807405542985, -589.2590742609407, 7344.30622146086, -3417.0533650517214, -1907.436818910679, -1074.021394973819, 4433.259237968018, 2146.953031995028, -3022.3288375145194, -2305.15680818211, -1214.0325299688802, -3300.4380988852295, -888.2062747227402, -2932.9950695769453, 4355.143838063839, -1935.3448426249574, -1123.0062246108778, -746.1121765910165, 4115.001591195668, -1074.021394973819, 13038.906022403738, -3574.309948484532, -284.26886322725676, -1413.3530514154163, -85.59916321302607, -335.3374282563987, -1939.5709691138818, -1555.3771750240853, -2957.9655092977036, -4302.816326081792, -3533.0154522594717, -1988.9969263943005, -3133.005148749209, -2743.999575994475, -642.3324630704155, 4398.192440716392, 7658.271754092996, 13038.906022403738, -186.2348612686714, -3490.0161155023434, -3575.5586456492856, 1506.3905313111236, -2840.0131990971468, -3760.844575986564, 14046.776890982059, 3245.839189517008, 90.7714903449525, -3559.8840835036513, -3886.2201157363643, 10260.788816827375, -2781.394922397217, -3354.561362631963, -1143.7947584400924, -1035.0090952927258, -400.70385914682845, -2332.313977476346, -3372.8169661823454, 7801.29291081228, -2771.894835977218, -3679.3192789780137, -3648.23962952145, 751.5597511034521, -3437.1009505225115, -2510.975940371806, 1176.2459217193198, 3824.0344825523916, -2834.2187261148706, -3102.559062356209, -1315.1813180772372, 5598.3706376940045, -1712.0269703808863, -3344.3974451072468, 7344.30622146086, -3063.3809947471213, -3848.84311646668, 4012.0634404937728, 13735.650748852951, 661.3484136851197, 6093.521544866448, -4212.668813941387, -4560.645129372897, -3065.9213873324043, 1627.865824791137, -4606.115047307494, -3169.154129999031, -3551.2498324374396, -2905.1250248644455, -3239.226196383086, -3567.0754399734074, -2961.7680559271503, -4637.3450706748845, -3679.3200524905283, -4973.97869413022, -3783.87592603389, -3841.890760725185, -1540.9226369056387, 10184.168560701784, -2311.9902701085357, 863.1589374893597, 8659.316576653602, 4750.79037056483, -3770.7023760857096, -3501.895108595582, -3637.934171294522, -2887.1180063195034, -3886.2201157363643, 13308.371311888453, -1120.5313586073087, 4229.251658303967, -2916.811075200073, -3372.8169661823454, -3862.884797655193, 2537.3385918117933, 279.34412821902936, -940.5517064146845, -235.0975702746449, -2014.7654641813224, -442.8405152880384, -2724.9550832888, 2171.5909426843173, 112.09365696675692, 12107.928853835107, -3505.2505401035637, -1626.3017867828817, -3641.7705255301753, 15.749572651859635, -3132.6839730756956, -1605.0897455288, 4808.090606319947, -2010.3653370677714, 148.51629339946442, -1293.1780500636517, -3427.5410974412844, 4563.53211097396, 4954.614515510234], \"yaxis\": \"y\"}],\n",
              "                        {\"coloraxis\": {\"colorbar\": {\"title\": {\"text\": \"color\"}}, \"colorscale\": [[0.0, \"#0d0887\"], [0.1111111111111111, \"#46039f\"], [0.2222222222222222, \"#7201a8\"], [0.3333333333333333, \"#9c179e\"], [0.4444444444444444, \"#bd3786\"], [0.5555555555555556, \"#d8576b\"], [0.6666666666666666, \"#ed7953\"], [0.7777777777777778, \"#fb9f3a\"], [0.8888888888888888, \"#fdca26\"], [1.0, \"#f0f921\"]]}, \"legend\": {\"tracegroupgap\": 0}, \"margin\": {\"t\": 60}, \"template\": {\"data\": {\"bar\": [{\"error_x\": {\"color\": \"#2a3f5f\"}, \"error_y\": {\"color\": \"#2a3f5f\"}, \"marker\": {\"line\": {\"color\": \"#E5ECF6\", \"width\": 0.5}}, \"type\": \"bar\"}], \"barpolar\": [{\"marker\": {\"line\": {\"color\": \"#E5ECF6\", \"width\": 0.5}}, \"type\": \"barpolar\"}], \"carpet\": [{\"aaxis\": {\"endlinecolor\": \"#2a3f5f\", \"gridcolor\": \"white\", \"linecolor\": \"white\", \"minorgridcolor\": \"white\", \"startlinecolor\": \"#2a3f5f\"}, \"baxis\": {\"endlinecolor\": \"#2a3f5f\", \"gridcolor\": \"white\", \"linecolor\": \"white\", \"minorgridcolor\": \"white\", \"startlinecolor\": \"#2a3f5f\"}, \"type\": \"carpet\"}], \"choropleth\": [{\"colorbar\": {\"outlinewidth\": 0, \"ticks\": \"\"}, \"type\": \"choropleth\"}], \"contour\": [{\"colorbar\": {\"outlinewidth\": 0, \"ticks\": \"\"}, \"colorscale\": [[0.0, \"#0d0887\"], [0.1111111111111111, \"#46039f\"], [0.2222222222222222, \"#7201a8\"], [0.3333333333333333, \"#9c179e\"], [0.4444444444444444, \"#bd3786\"], [0.5555555555555556, \"#d8576b\"], [0.6666666666666666, \"#ed7953\"], [0.7777777777777778, \"#fb9f3a\"], [0.8888888888888888, \"#fdca26\"], [1.0, \"#f0f921\"]], \"type\": \"contour\"}], \"contourcarpet\": [{\"colorbar\": {\"outlinewidth\": 0, \"ticks\": \"\"}, \"type\": \"contourcarpet\"}], \"heatmap\": [{\"colorbar\": {\"outlinewidth\": 0, \"ticks\": \"\"}, \"colorscale\": [[0.0, \"#0d0887\"], [0.1111111111111111, \"#46039f\"], [0.2222222222222222, \"#7201a8\"], [0.3333333333333333, \"#9c179e\"], [0.4444444444444444, \"#bd3786\"], [0.5555555555555556, \"#d8576b\"], [0.6666666666666666, \"#ed7953\"], [0.7777777777777778, \"#fb9f3a\"], [0.8888888888888888, \"#fdca26\"], [1.0, \"#f0f921\"]], \"type\": \"heatmap\"}], \"heatmapgl\": [{\"colorbar\": {\"outlinewidth\": 0, \"ticks\": \"\"}, \"colorscale\": [[0.0, \"#0d0887\"], [0.1111111111111111, \"#46039f\"], [0.2222222222222222, \"#7201a8\"], [0.3333333333333333, \"#9c179e\"], [0.4444444444444444, \"#bd3786\"], [0.5555555555555556, \"#d8576b\"], [0.6666666666666666, \"#ed7953\"], [0.7777777777777778, \"#fb9f3a\"], [0.8888888888888888, \"#fdca26\"], [1.0, \"#f0f921\"]], \"type\": \"heatmapgl\"}], \"histogram\": [{\"marker\": {\"colorbar\": {\"outlinewidth\": 0, \"ticks\": \"\"}}, \"type\": \"histogram\"}], \"histogram2d\": [{\"colorbar\": {\"outlinewidth\": 0, \"ticks\": \"\"}, \"colorscale\": [[0.0, \"#0d0887\"], [0.1111111111111111, \"#46039f\"], [0.2222222222222222, \"#7201a8\"], [0.3333333333333333, \"#9c179e\"], [0.4444444444444444, \"#bd3786\"], [0.5555555555555556, \"#d8576b\"], [0.6666666666666666, \"#ed7953\"], [0.7777777777777778, \"#fb9f3a\"], [0.8888888888888888, \"#fdca26\"], [1.0, \"#f0f921\"]], \"type\": \"histogram2d\"}], \"histogram2dcontour\": [{\"colorbar\": {\"outlinewidth\": 0, \"ticks\": \"\"}, \"colorscale\": [[0.0, \"#0d0887\"], [0.1111111111111111, \"#46039f\"], [0.2222222222222222, \"#7201a8\"], [0.3333333333333333, \"#9c179e\"], [0.4444444444444444, \"#bd3786\"], [0.5555555555555556, \"#d8576b\"], [0.6666666666666666, \"#ed7953\"], [0.7777777777777778, \"#fb9f3a\"], [0.8888888888888888, \"#fdca26\"], [1.0, \"#f0f921\"]], \"type\": \"histogram2dcontour\"}], \"mesh3d\": [{\"colorbar\": {\"outlinewidth\": 0, \"ticks\": \"\"}, \"type\": \"mesh3d\"}], \"parcoords\": [{\"line\": {\"colorbar\": {\"outlinewidth\": 0, \"ticks\": \"\"}}, \"type\": \"parcoords\"}], \"pie\": [{\"automargin\": true, \"type\": \"pie\"}], \"scatter\": [{\"marker\": {\"colorbar\": {\"outlinewidth\": 0, \"ticks\": \"\"}}, \"type\": \"scatter\"}], \"scatter3d\": [{\"line\": {\"colorbar\": {\"outlinewidth\": 0, \"ticks\": \"\"}}, \"marker\": {\"colorbar\": {\"outlinewidth\": 0, \"ticks\": \"\"}}, \"type\": \"scatter3d\"}], \"scattercarpet\": [{\"marker\": {\"colorbar\": {\"outlinewidth\": 0, \"ticks\": \"\"}}, \"type\": \"scattercarpet\"}], \"scattergeo\": [{\"marker\": {\"colorbar\": {\"outlinewidth\": 0, \"ticks\": \"\"}}, \"type\": \"scattergeo\"}], \"scattergl\": [{\"marker\": {\"colorbar\": {\"outlinewidth\": 0, \"ticks\": \"\"}}, \"type\": \"scattergl\"}], \"scattermapbox\": [{\"marker\": {\"colorbar\": {\"outlinewidth\": 0, \"ticks\": \"\"}}, \"type\": \"scattermapbox\"}], \"scatterpolar\": [{\"marker\": {\"colorbar\": {\"outlinewidth\": 0, \"ticks\": \"\"}}, \"type\": \"scatterpolar\"}], \"scatterpolargl\": [{\"marker\": {\"colorbar\": {\"outlinewidth\": 0, \"ticks\": \"\"}}, \"type\": \"scatterpolargl\"}], \"scatterternary\": [{\"marker\": {\"colorbar\": {\"outlinewidth\": 0, \"ticks\": \"\"}}, \"type\": \"scatterternary\"}], \"surface\": [{\"colorbar\": {\"outlinewidth\": 0, \"ticks\": \"\"}, \"colorscale\": [[0.0, \"#0d0887\"], [0.1111111111111111, \"#46039f\"], [0.2222222222222222, \"#7201a8\"], [0.3333333333333333, \"#9c179e\"], [0.4444444444444444, \"#bd3786\"], [0.5555555555555556, \"#d8576b\"], [0.6666666666666666, \"#ed7953\"], [0.7777777777777778, \"#fb9f3a\"], [0.8888888888888888, \"#fdca26\"], [1.0, \"#f0f921\"]], \"type\": \"surface\"}], \"table\": [{\"cells\": {\"fill\": {\"color\": \"#EBF0F8\"}, \"line\": {\"color\": \"white\"}}, \"header\": {\"fill\": {\"color\": \"#C8D4E3\"}, \"line\": {\"color\": \"white\"}}, \"type\": \"table\"}]}, \"layout\": {\"annotationdefaults\": {\"arrowcolor\": \"#2a3f5f\", \"arrowhead\": 0, \"arrowwidth\": 1}, \"coloraxis\": {\"colorbar\": {\"outlinewidth\": 0, \"ticks\": \"\"}}, \"colorscale\": {\"diverging\": [[0, \"#8e0152\"], [0.1, \"#c51b7d\"], [0.2, \"#de77ae\"], [0.3, \"#f1b6da\"], [0.4, \"#fde0ef\"], [0.5, \"#f7f7f7\"], [0.6, \"#e6f5d0\"], [0.7, \"#b8e186\"], [0.8, \"#7fbc41\"], [0.9, \"#4d9221\"], [1, \"#276419\"]], \"sequential\": [[0.0, \"#0d0887\"], [0.1111111111111111, \"#46039f\"], [0.2222222222222222, \"#7201a8\"], [0.3333333333333333, \"#9c179e\"], [0.4444444444444444, \"#bd3786\"], [0.5555555555555556, \"#d8576b\"], [0.6666666666666666, \"#ed7953\"], [0.7777777777777778, \"#fb9f3a\"], [0.8888888888888888, \"#fdca26\"], [1.0, \"#f0f921\"]], \"sequentialminus\": [[0.0, \"#0d0887\"], [0.1111111111111111, \"#46039f\"], [0.2222222222222222, \"#7201a8\"], [0.3333333333333333, \"#9c179e\"], [0.4444444444444444, \"#bd3786\"], [0.5555555555555556, \"#d8576b\"], [0.6666666666666666, \"#ed7953\"], [0.7777777777777778, \"#fb9f3a\"], [0.8888888888888888, \"#fdca26\"], [1.0, \"#f0f921\"]]}, \"colorway\": [\"#636efa\", \"#EF553B\", \"#00cc96\", \"#ab63fa\", \"#FFA15A\", \"#19d3f3\", \"#FF6692\", \"#B6E880\", \"#FF97FF\", \"#FECB52\"], \"font\": {\"color\": \"#2a3f5f\"}, \"geo\": {\"bgcolor\": \"white\", \"lakecolor\": \"white\", \"landcolor\": \"#E5ECF6\", \"showlakes\": true, \"showland\": true, \"subunitcolor\": \"white\"}, \"hoverlabel\": {\"align\": \"left\"}, \"hovermode\": \"closest\", \"mapbox\": {\"style\": \"light\"}, \"paper_bgcolor\": \"white\", \"plot_bgcolor\": \"#E5ECF6\", \"polar\": {\"angularaxis\": {\"gridcolor\": \"white\", \"linecolor\": \"white\", \"ticks\": \"\"}, \"bgcolor\": \"#E5ECF6\", \"radialaxis\": {\"gridcolor\": \"white\", \"linecolor\": \"white\", \"ticks\": \"\"}}, \"scene\": {\"xaxis\": {\"backgroundcolor\": \"#E5ECF6\", \"gridcolor\": \"white\", \"gridwidth\": 2, \"linecolor\": \"white\", \"showbackground\": true, \"ticks\": \"\", \"zerolinecolor\": \"white\"}, \"yaxis\": {\"backgroundcolor\": \"#E5ECF6\", \"gridcolor\": \"white\", \"gridwidth\": 2, \"linecolor\": \"white\", \"showbackground\": true, \"ticks\": \"\", \"zerolinecolor\": \"white\"}, \"zaxis\": {\"backgroundcolor\": \"#E5ECF6\", \"gridcolor\": \"white\", \"gridwidth\": 2, \"linecolor\": \"white\", \"showbackground\": true, \"ticks\": \"\", \"zerolinecolor\": \"white\"}}, \"shapedefaults\": {\"line\": {\"color\": \"#2a3f5f\"}}, \"ternary\": {\"aaxis\": {\"gridcolor\": \"white\", \"linecolor\": \"white\", \"ticks\": \"\"}, \"baxis\": {\"gridcolor\": \"white\", \"linecolor\": \"white\", \"ticks\": \"\"}, \"bgcolor\": \"#E5ECF6\", \"caxis\": {\"gridcolor\": \"white\", \"linecolor\": \"white\", \"ticks\": \"\"}}, \"title\": {\"x\": 0.05}, \"xaxis\": {\"automargin\": true, \"gridcolor\": \"white\", \"linecolor\": \"white\", \"ticks\": \"\", \"title\": {\"standoff\": 15}, \"zerolinecolor\": \"white\", \"zerolinewidth\": 2}, \"yaxis\": {\"automargin\": true, \"gridcolor\": \"white\", \"linecolor\": \"white\", \"ticks\": \"\", \"title\": {\"standoff\": 15}, \"zerolinecolor\": \"white\", \"zerolinewidth\": 2}}}, \"xaxis\": {\"anchor\": \"y\", \"domain\": [0.0, 1.0], \"title\": {\"text\": \"0\"}}, \"yaxis\": {\"anchor\": \"x\", \"domain\": [0.0, 1.0], \"title\": {\"text\": \"1\"}}},\n",
              "                        {\"responsive\": true}\n",
              "                    ).then(function(){\n",
              "                            \n",
              "var gd = document.getElementById('7c0fe9a9-4909-4279-9530-4c4b96c36000');\n",
              "var x = new MutationObserver(function (mutations, observer) {{\n",
              "        var display = window.getComputedStyle(gd).display;\n",
              "        if (!display || display === 'none') {{\n",
              "            console.log([gd, 'removed!']);\n",
              "            Plotly.purge(gd);\n",
              "            observer.disconnect();\n",
              "        }}\n",
              "}});\n",
              "\n",
              "// Listen for the removal of the full notebook cells\n",
              "var notebookContainer = gd.closest('#notebook-container');\n",
              "if (notebookContainer) {{\n",
              "    x.observe(notebookContainer, {childList: true});\n",
              "}}\n",
              "\n",
              "// Listen for the clearing of the current output cell\n",
              "var outputEl = gd.closest('.output');\n",
              "if (outputEl) {{\n",
              "    x.observe(outputEl, {childList: true});\n",
              "}}\n",
              "\n",
              "                        })\n",
              "                };\n",
              "                \n",
              "            </script>\n",
              "        </div>\n",
              "</body>\n",
              "</html>"
            ]
          },
          "metadata": {}
        }
      ]
    },
    {
      "cell_type": "markdown",
      "metadata": {
        "id": "ia1hbZlteQrH"
      },
      "source": [
        "### Sample Row"
      ]
    },
    {
      "cell_type": "code",
      "metadata": {
        "id": "ICfHt9GEdTim"
      },
      "source": [
        "# X_train.iloc[0].to_dict()"
      ],
      "execution_count": null,
      "outputs": []
    },
    {
      "cell_type": "markdown",
      "metadata": {
        "id": "G8qjaGHCgQmc"
      },
      "source": [
        "# Hyper-parameter Tuning Using Grid Search CV"
      ]
    },
    {
      "cell_type": "code",
      "metadata": {
        "id": "6TZ1adKJhafY"
      },
      "source": [
        "def tune_hyperparameters(model,X,y):\n",
        "  param_grid = {\"solver\":['svd', 'lsqr', 'eigen'], \"shrinkage\":['auto',0.1,0.01,1,0]}\n",
        "  grid_search = GridSearchCV(model,param_grid=param_grid,scoring='accuracy')\n",
        "  grid_search.fit(X,y)\n",
        "  print(\"Best Params: \",grid_search.best_params_)\n",
        "  return grid_search.best_params_"
      ],
      "execution_count": null,
      "outputs": []
    },
    {
      "cell_type": "code",
      "metadata": {
        "colab": {
          "base_uri": "https://localhost:8080/"
        },
        "id": "sdAd9qX4g9lc",
        "outputId": "2168067d-6c96-4e30-888f-45753ec44ea1"
      },
      "source": [
        "best_params = tune_hyperparameters(LinearDiscriminantAnalysis(),X_train,y_train)\n",
        "best_params"
      ],
      "execution_count": null,
      "outputs": [
        {
          "output_type": "stream",
          "name": "stdout",
          "text": [
            "Best Params:  {'shrinkage': 1, 'solver': 'lsqr'}\n"
          ]
        },
        {
          "output_type": "stream",
          "name": "stderr",
          "text": [
            "/usr/local/lib/python3.7/dist-packages/sklearn/model_selection/_search.py:972: UserWarning:\n",
            "\n",
            "One or more of the test scores are non-finite: [       nan 0.54378109 0.54378109        nan 0.54378109 0.54378109\n",
            "        nan 0.54079602 0.54079602        nan 0.55278155 0.55278155\n",
            "        nan 0.54079602 0.54079602]\n",
            "\n"
          ]
        },
        {
          "output_type": "execute_result",
          "data": {
            "text/plain": [
              "{'shrinkage': 1, 'solver': 'lsqr'}"
            ]
          },
          "metadata": {},
          "execution_count": 113
        }
      ]
    },
    {
      "cell_type": "markdown",
      "metadata": {
        "id": "8a7yUPquwZX3"
      },
      "source": [
        "# Performing Linear Discrimant Analysis"
      ]
    },
    {
      "cell_type": "code",
      "metadata": {
        "id": "EVidCMSamgKp"
      },
      "source": [
        "def train_predict_evaluate(model,X_train,y_train,X_test):\n",
        "  model.fit(X_train,y_train)\n",
        "  y_pred = model.predict(X_test)\n",
        "\n",
        "  print(\"Accuracy: \",accuracy_score(y_test,y_pred))\n",
        "  print(\"Precision: \",precision_score(y_test,y_pred,zero_division=0))\n",
        "  print(\"Recall: \",recall_score(y_test,y_pred,zero_division=0))\n",
        "  print(\"F1 Score: \",f1_score(y_test,y_pred,zero_division=0))\n",
        "  print(\"Confusion Matrix:\\n\",confusion_matrix(y_test,y_pred))\n",
        "\n",
        "  \n",
        "  fpr,tpr,thresholds = roc_curve(y_test,y_pred)\n",
        "  plt.plot(fpr, tpr,color='green',label='ROC curve (area = %0.2f)' % auc(fpr,tpr))\n",
        "  plt.plot([0, 1], [0, 1], color='orange', linestyle='--')\n",
        "  plt.xlabel(\"False Positive Rate\")\n",
        "  plt.ylabel(\"True Positive Rate\")\n",
        "  plt.title(\"ROC Curve\")\n",
        "  plt.legend(loc=\"lower right\")\n",
        "  plt.show()"
      ],
      "execution_count": null,
      "outputs": []
    },
    {
      "cell_type": "code",
      "metadata": {
        "colab": {
          "base_uri": "https://localhost:8080/"
        },
        "id": "pwX8hGuuqKew",
        "outputId": "b11a9cc5-832d-49ee-908d-b5408b54f6b2"
      },
      "source": [
        "train_predict_evaluate(LinearDiscriminantAnalysis(shrinkage='auto', solver='lsqr'),X_train,y_train,X_test)"
      ],
      "execution_count": null,
      "outputs": [
        {
          "output_type": "stream",
          "name": "stdout",
          "text": [
            "Accuracy:  0.6013986013986014\n",
            "Precision:  0.6\n",
            "Recall:  0.72\n",
            "F1 Score:  0.6545454545454547\n",
            "Confusion Matrix:\n",
            " [[32 36]\n",
            " [21 54]]\n"
          ]
        },
        {
          "output_type": "display_data",
          "data": {
            "image/png": "[encoded data removed]",
            "text/plain": [
              "<Figure size 432x288 with 1 Axes>"
            ]
          },
          "metadata": {
            "needs_background": "light"
          }
        }
      ]
    },
    {
      "cell_type": "markdown",
      "metadata": {
        "id": "bYT34VkEzXhQ"
      },
      "source": [
        "# K-Fold Cross Validation"
      ]
    },
    {
      "cell_type": "code",
      "metadata": {
        "id": "4NHTmFu6F5mt"
      },
      "source": [
        "def cross_validation(model,X,y):\n",
        "  scores = cross_validate(model, X, y, cv=5,scoring=('accuracy','precision','recall','f1'))\n",
        "\n",
        "  metrics = []\n",
        "  metrics.append(np.mean(scores['test_accuracy']))\n",
        "  metrics.append(np.mean(scores['test_precision']))\n",
        "  metrics.append(np.mean(scores['test_recall']))\n",
        "  metrics.append(np.mean(scores['test_f1']))\n",
        "\n",
        "  print(\"Accuracy: \",metrics[0])\n",
        "  print(\"Precision: \",metrics[1])\n",
        "  print(\"Recall: \",metrics[2])\n",
        "  print(\"F1 Score: \",metrics[3])\n",
        "\n",
        "  return metrics"
      ],
      "execution_count": null,
      "outputs": []
    },
    {
      "cell_type": "code",
      "metadata": {
        "id": "K9ZGmXzWHnsn"
      },
      "source": [
        "metrics = []"
      ],
      "execution_count": null,
      "outputs": []
    },
    {
      "cell_type": "code",
      "metadata": {
        "colab": {
          "base_uri": "https://localhost:8080/"
        },
        "id": "6l4bsmaB0igR",
        "outputId": "e782b864-e5e7-476c-df7d-b1935433da23"
      },
      "source": [
        "metrics.append(cross_validation(LinearDiscriminantAnalysis(**best_params),X,y))"
      ],
      "execution_count": null,
      "outputs": [
        {
          "output_type": "stream",
          "name": "stdout",
          "text": [
            "Accuracy:  0.5505935050391937\n",
            "Precision:  0.5392920592420454\n",
            "Recall:  0.6965425531914893\n",
            "F1 Score:  0.6075559721494714\n"
          ]
        }
      ]
    },
    {
      "cell_type": "markdown",
      "metadata": {
        "id": "etAeXaJeNLWA"
      },
      "source": [
        "# Performance"
      ]
    },
    {
      "cell_type": "code",
      "metadata": {
        "colab": {
          "base_uri": "https://localhost:8080/",
          "height": 81
        },
        "id": "ZL6Rs_eQIRrp",
        "outputId": "4306d151-41f8-489d-f00b-0e4596e5d08b"
      },
      "source": [
        "mdf = pd.DataFrame(metrics,columns=[\"Accuracy\",\"Precision\",\"Recall\",\"F1 Score\"])\n",
        "mdf.head()"
      ],
      "execution_count": null,
      "outputs": [
        {
          "output_type": "execute_result",
          "data": {
            "text/html": [
              "<div>\n",
              "<style scoped>\n",
              "    .dataframe tbody tr th:only-of-type {\n",
              "        vertical-align: middle;\n",
              "    }\n",
              "\n",
              "    .dataframe tbody tr th {\n",
              "        vertical-align: top;\n",
              "    }\n",
              "\n",
              "    .dataframe thead th {\n",
              "        text-align: right;\n",
              "    }\n",
              "</style>\n",
              "<table border=\"1\" class=\"dataframe\">\n",
              "  <thead>\n",
              "    <tr style=\"text-align: right;\">\n",
              "      <th></th>\n",
              "      <th>Accuracy</th>\n",
              "      <th>Precision</th>\n",
              "      <th>Recall</th>\n",
              "      <th>F1 Score</th>\n",
              "    </tr>\n",
              "  </thead>\n",
              "  <tbody>\n",
              "    <tr>\n",
              "      <th>0</th>\n",
              "      <td>0.550594</td>\n",
              "      <td>0.539292</td>\n",
              "      <td>0.696543</td>\n",
              "      <td>0.607556</td>\n",
              "    </tr>\n",
              "  </tbody>\n",
              "</table>\n",
              "</div>"
            ],
            "text/plain": [
              "   Accuracy  Precision    Recall  F1 Score\n",
              "0  0.550594   0.539292  0.696543  0.607556"
            ]
          },
          "metadata": {},
          "execution_count": 119
        }
      ]
    },
    {
      "cell_type": "code",
      "metadata": {
        "id": "37-FSByzVrE1"
      },
      "source": [
        ""
      ],
      "execution_count": null,
      "outputs": []
    },
    {
      "cell_type": "markdown",
      "metadata": {
        "id": "7e8fKV75S6Lk"
      },
      "source": [
        "# Oversampling"
      ]
    },
    {
      "cell_type": "code",
      "metadata": {
        "id": "Lgn0ZZuyS7_w"
      },
      "source": [
        "X=X2\n",
        "y=Y2"
      ],
      "execution_count": null,
      "outputs": []
    },
    {
      "cell_type": "markdown",
      "metadata": {
        "id": "dBgYink8S7_w"
      },
      "source": [
        "# Spliting into Train and Test Sets"
      ]
    },
    {
      "cell_type": "code",
      "metadata": {
        "id": "OcX132KoS7_w"
      },
      "source": [
        "X_train, X_test, y_train, y_test = train_test_split(X,y,test_size=0.3,random_state=1)\n"
      ],
      "execution_count": null,
      "outputs": []
    },
    {
      "cell_type": "markdown",
      "metadata": {
        "id": "kAoPZ89HS7_x"
      },
      "source": [
        "## PCA"
      ]
    },
    {
      "cell_type": "code",
      "metadata": {
        "colab": {
          "base_uri": "https://localhost:8080/",
          "height": 399
        },
        "id": "1lK_NZ-gS7_x",
        "outputId": "dc5528d4-5ba9-4c3f-d52d-e6a25f8d8ac8"
      },
      "source": [
        "from sklearn.preprocessing import StandardScaler\n",
        "pca = PCA(random_state=0)\n",
        "principalComponents = pca.fit_transform(StandardScaler().fit_transform(X_train))\n",
        "print(pca.explained_variance_ratio_)\n",
        "print('Two PCs explain', sum(pca.explained_variance_ratio_)*100, '% of variance cumulatively')\n",
        "# scree plot\n",
        "PC_values = np.arange(pca.n_components_) + 1\n",
        "plt.plot(PC_values, pca.explained_variance_ratio_, 'ro-', linewidth=2)\n",
        "plt.title('Scree Plot')\n",
        "plt.xlabel('Principal Component')\n",
        "plt.ylabel('Proportion of Variance Explained')\n",
        "plt.show()"
      ],
      "execution_count": null,
      "outputs": [
        {
          "output_type": "stream",
          "name": "stdout",
          "text": [
            "[0.16644652 0.0694282  0.06260377 0.05545875 0.04957067 0.04319266\n",
            " 0.03892715 0.03789529 0.0366817  0.03595579 0.0347389  0.0338919\n",
            " 0.0327645  0.03167072 0.03036476 0.02970004 0.02897449 0.02793647\n",
            " 0.02636949 0.02553762 0.02380797 0.01620716 0.015238   0.01028282\n",
            " 0.00917458 0.00775493 0.00711501 0.00662595 0.00420068 0.00148352]\n",
            "Two PCs explain 100.0 % of variance cumulatively\n"
          ]
        },
        {
          "output_type": "display_data",
          "data": {
            "image/png": "[encoded data removed]",
            "text/plain": [
              "<Figure size 432x288 with 1 Axes>"
            ]
          },
          "metadata": {
            "needs_background": "light"
          }
        }
      ]
    },
    {
      "cell_type": "code",
      "metadata": {
        "colab": {
          "base_uri": "https://localhost:8080/",
          "height": 451
        },
        "id": "LTqI9BIWS7_x",
        "outputId": "29ee2e2d-b333-4827-ffbb-6ddff794b040"
      },
      "source": [
        "pca = PCA(random_state=0)\n",
        "principalComponents = pca.fit_transform(X_train)\n",
        "print(pca.explained_variance_ratio_)\n",
        "print('Two PCs explain ', sum(pca.explained_variance_ratio_)*100, '% of variance cumulatively')\n",
        "# scree plot\n",
        "PC_values = np.arange(pca.n_components_) + 1\n",
        "plt.plot(PC_values, pca.explained_variance_ratio_, 'ro-', linewidth=2)\n",
        "plt.title('Scree Plot')\n",
        "plt.xlabel('Principal Component')\n",
        "plt.ylabel('Proportion of Variance Explained')\n",
        "plt.show()"
      ],
      "execution_count": null,
      "outputs": [
        {
          "output_type": "stream",
          "name": "stdout",
          "text": [
            "[7.20048171e-01 2.77676640e-01 2.26592418e-03 5.74106555e-06\n",
            " 1.12810912e-06 9.58664346e-07 5.91304063e-07 1.87329933e-07\n",
            " 1.61366090e-07 9.14259500e-08 7.53405986e-08 6.89022999e-08\n",
            " 5.65975611e-08 4.40198804e-08 2.72155701e-08 2.18684911e-08\n",
            " 1.77585974e-08 1.66910231e-08 1.59261694e-08 1.43927773e-08\n",
            " 1.30687978e-08 7.86457507e-09 7.37091258e-09 5.62793173e-09\n",
            " 3.34037666e-09 3.02149252e-09 2.73771127e-09 2.01690158e-09\n",
            " 1.19011579e-09 6.85845420e-10]\n",
            "Two PCs explain  100.0 % of variance cumulatively\n"
          ]
        },
        {
          "output_type": "display_data",
          "data": {
            "image/png": "[encoded data removed]",
            "text/plain": [
              "<Figure size 432x288 with 1 Axes>"
            ]
          },
          "metadata": {
            "needs_background": "light"
          }
        }
      ]
    },
    {
      "cell_type": "code",
      "metadata": {
        "colab": {
          "base_uri": "https://localhost:8080/",
          "height": 330
        },
        "id": "pe6enxCLS7_x",
        "outputId": "8406b0b9-1d5f-4ac0-9824-9f495e2a58b2"
      },
      "source": [
        "pca = PCA(n_components=3, random_state=0)\n",
        "principalComponents = pca.fit_transform(X_train)\n",
        "print(pca.explained_variance_ratio_)\n",
        "print('Two PCs explain ', sum(pca.explained_variance_ratio_)*100, '% of variance cumulatively')\n",
        "# scree plot\n",
        "PC_values = np.arange(pca.n_components_) + 1\n",
        "plt.plot(PC_values, pca.explained_variance_ratio_, 'ro-', linewidth=2)\n",
        "plt.title('Scree Plot')\n",
        "plt.xlabel('Principal Component')\n",
        "plt.ylabel('Proportion of Variance Explained')\n",
        "plt.show()"
      ],
      "execution_count": null,
      "outputs": [
        {
          "output_type": "stream",
          "name": "stdout",
          "text": [
            "[0.72004817 0.27767664 0.00226592]\n",
            "Two PCs explain  99.99907350973206 % of variance cumulatively\n"
          ]
        },
        {
          "output_type": "display_data",
          "data": {
            "image/png": "[encoded data removed]",
            "text/plain": [
              "<Figure size 432x288 with 1 Axes>"
            ]
          },
          "metadata": {
            "needs_background": "light"
          }
        }
      ]
    },
    {
      "cell_type": "code",
      "metadata": {
        "colab": {
          "base_uri": "https://localhost:8080/",
          "height": 542
        },
        "id": "AcBskg3-S7_x",
        "outputId": "c0696ab5-28d1-4beb-d3fd-7ece5dd8682d"
      },
      "source": [
        "import plotly.express as px\n",
        "fig = px.scatter(principalComponents, x=0, y=1, color=y_train)\n",
        "fig.show()\n",
        "X_train = principalComponents\n",
        "X_test = pca.transform(X_test)"
      ],
      "execution_count": null,
      "outputs": [
        {
          "output_type": "display_data",
          "data": {
            "text/html": [
              "<html>\n",
              "<head><meta charset=\"utf-8\" /></head>\n",
              "<body>\n",
              "    <div>\n",
              "            <script src=\"https://cdnjs.cloudflare.com/ajax/libs/mathjax/2.7.5/MathJax.js?config=TeX-AMS-MML_SVG\"></script><script type=\"text/javascript\">if (window.MathJax) {MathJax.Hub.Config({SVG: {font: \"STIX-Web\"}});}</script>\n",
              "                <script type=\"text/javascript\">window.PlotlyConfig = {MathJaxConfig: 'local'};</script>\n",
              "        <script src=\"https://cdn.plot.ly/plotly-latest.min.js\"></script>    \n",
              "            <div id=\"a6baa029-6a35-43dd-a7f5-dbd536ea70b0\" class=\"plotly-graph-div\" style=\"height:525px; width:100%;\"></div>\n",
              "            <script type=\"text/javascript\">\n",
              "                \n",
              "                    window.PLOTLYENV=window.PLOTLYENV || {};\n",
              "                    \n",
              "                if (document.getElementById(\"a6baa029-6a35-43dd-a7f5-dbd536ea70b0\")) {\n",
              "                    Plotly.newPlot(\n",
              "                        'a6baa029-6a35-43dd-a7f5-dbd536ea70b0',\n",
              "                        [{\"hoverlabel\": {\"namelength\": 0}, \"hovertemplate\": \"0=%{x}<br>1=%{y}<br>color=%{marker.color}\", \"legendgroup\": \"\", \"marker\": {\"color\": [1, 0, 0, 1, 1, 0, 1, 1, 0, 0, 1, 1, 1, 1, 0, 1, 1, 1, 0, 1, 0, 1, 0, 0, 0, 0, 1, 1, 0, 0, 1, 0, 0, 0, 0, 0, 1, 1, 1, 1, 1, 1, 0, 0, 0, 0, 1, 1, 0, 0, 0, 0, 1, 1, 0, 1, 1, 1, 1, 0, 1, 0, 0, 1, 0, 0, 0, 0, 0, 1, 1, 0, 1, 0, 0, 1, 1, 0, 0, 1, 0, 1, 1, 1, 1, 0, 1, 0, 1, 0, 0, 1, 0, 1, 1, 1, 1, 1, 1, 1, 0, 0, 0, 0, 1, 1, 0, 1, 0, 0, 0, 1, 0, 0, 0, 1, 1, 1, 0, 0, 1, 1, 0, 1, 1, 0, 1, 0, 1, 1, 1, 1, 0, 1, 1, 0, 0, 0, 1, 1, 0, 1, 1, 0, 0, 1, 1, 1, 1, 0, 1, 0, 0, 1, 1, 1, 0, 1, 1, 0, 0, 0, 0, 0, 0, 0, 0, 0, 1, 0, 0, 0, 0, 0, 0, 1, 1, 0, 1, 0, 0, 1, 1, 0, 0, 0, 1, 0, 1, 1, 0, 1, 1, 0, 1, 1, 1, 1, 0, 0, 1, 0, 1, 0, 0, 1, 0, 1, 1, 0, 1, 0, 1, 1, 1, 1, 0, 0, 0, 1, 1, 1, 1, 1, 0, 0, 1, 1, 1, 0, 1, 1, 1, 1, 1, 1, 1, 0, 0, 0, 0, 1, 1, 1, 1, 0, 1, 1, 0, 0, 1, 1, 1, 1, 1, 1, 0, 0, 1, 0, 0, 0, 0, 1, 0, 0, 0, 0, 0, 0, 1, 1, 1, 1, 0, 1, 0, 0, 0, 0, 1, 1, 1, 1, 1, 0, 1, 1, 1, 1, 0, 0, 1, 1, 0, 1, 0, 0, 0, 0, 0, 0, 1, 0, 0, 1, 1, 1, 0, 0, 0, 0, 0, 1, 0, 1, 1, 0, 0, 1, 0, 1, 1, 0, 0, 1, 1, 0, 1, 0, 0, 0, 1, 1, 0, 0, 0, 1, 0, 1, 1, 1, 1, 0, 0, 1, 0, 1, 0, 0, 0, 1, 0, 0, 0, 0, 1, 0, 0, 0, 1, 1, 0, 1, 1, 0, 0, 0, 0, 1, 0, 1, 0, 0, 0, 1, 0, 0, 0, 1, 1, 1, 1, 1, 1, 1, 0, 1, 0, 0, 1, 0, 0, 1, 1, 1, 1, 1, 1, 0, 0, 1, 1, 0, 1, 0, 1, 1, 0, 0, 0, 0, 1, 0, 1, 1, 1, 1, 0, 0, 1, 1, 0, 1, 0, 1, 1, 0, 0, 0, 0, 1, 0, 1, 0, 0, 0, 0, 0, 0, 1, 1, 1, 1, 0, 0, 0, 1, 1, 1, 1, 0, 1, 0, 0, 0, 0, 1, 1, 1, 0, 0, 1, 0, 0, 1, 1, 0, 0, 0, 0, 0, 1, 0, 0, 1, 0, 0, 1, 0, 1, 0, 0, 0, 1, 0, 0, 0, 0, 0, 1, 0, 0, 0, 0, 1, 0, 0, 0, 1, 1, 0, 0, 0, 0, 0, 0, 0, 0, 1, 1, 1, 1, 0, 1, 1, 1, 0, 0, 1, 0, 1, 0, 0, 1, 0, 0, 1, 0, 1, 1, 0, 1, 1, 1, 0, 1, 0, 1, 0, 0, 1, 0, 0, 0, 0, 0, 0, 0, 0, 1, 0, 0, 1, 0, 0, 1, 0, 0, 1, 1, 1, 0, 0, 1, 1, 0, 1, 0, 1, 0, 1, 1, 0, 0, 1, 1, 0, 0, 0, 0, 1, 0, 0, 1, 1, 1, 1, 1, 1, 0, 0, 1, 1, 0, 1, 1, 0, 1, 1, 1, 1, 0, 1, 0, 1, 0, 1, 1, 1, 1, 0, 1, 1, 0, 1, 1, 0, 1, 1, 1, 0, 0, 0, 1, 0, 0, 1, 1, 1, 0, 1, 0, 0, 1, 0, 0, 0, 1, 1, 0, 0, 0, 1, 1, 0, 0, 0, 0, 1, 1, 1, 0, 1, 0, 1, 1, 1, 1, 1, 0, 1, 1, 1, 0, 1, 1, 0, 1, 0, 1, 0, 0, 0, 0, 0, 0, 1, 0, 1, 1, 1, 0, 1, 0, 0, 1, 1, 0, 0, 0, 0, 1, 0, 1, 0, 1, 1, 0, 1, 1, 1, 1, 1, 1, 0, 0, 1, 1, 0, 0, 0, 0, 1, 0, 0, 1, 1, 0, 1, 1, 0, 0, 1, 0, 0, 1, 1, 0, 0, 1, 1, 1, 1, 0, 0, 0, 0, 1, 1, 0, 0, 1, 1, 1, 1, 0, 1, 1, 0, 0, 0, 1, 1, 1, 0, 1, 0, 1, 0, 0, 1, 0, 0, 1, 0, 1, 0, 0, 1, 1, 0, 0, 1, 1, 0, 1, 0, 0, 1, 1, 1, 0, 1, 1, 1, 0, 0, 0, 1, 1, 0, 0, 1, 0, 0, 1, 0, 0, 1, 0, 1, 1, 0, 0, 1, 0, 0, 1, 0, 0, 0, 0, 1, 0, 0, 0, 0, 1, 0, 0, 1, 1, 1, 0, 1, 1, 0, 0, 1, 0, 0, 1, 1, 0, 1, 0, 1, 1, 0, 1, 0, 0, 0, 1, 1, 1, 1, 0, 1, 1, 0, 1, 0, 0, 0, 1, 1, 1, 0, 0, 1, 0, 1, 1, 0, 1, 1, 1, 1, 1, 0, 0, 1, 0, 0, 0, 0, 0, 0, 1, 1, 0, 0, 1, 1, 0, 1, 0, 1, 1, 1, 1, 1, 1, 0, 1, 0, 1, 1, 1, 0, 0, 0, 1, 1, 1, 0, 1, 0, 0, 0, 1, 0, 1, 1, 1, 1, 0, 0, 1, 0, 1, 1, 1, 1, 0, 0, 1, 0, 0, 1, 0, 0, 1, 0, 1, 0, 1, 0, 1, 0, 0, 1, 1, 1, 1, 0, 1, 1, 1, 0, 1, 0, 0, 1, 0, 0, 0, 0, 1, 0, 0, 1, 1, 1, 1, 0, 1, 1, 0, 0, 0, 1, 1, 1, 1, 1, 0, 0, 0, 1, 0, 1, 0, 0, 1, 1, 0, 1, 0, 0, 1, 0, 0, 1, 1, 1, 0, 1, 1, 0, 1, 0, 0, 0, 1, 1, 0, 1, 1, 1, 0, 1, 1, 0, 0, 1, 1, 0, 0, 1, 1, 1, 1, 0, 1, 0, 1, 0, 1, 0, 0, 0, 1, 0, 1, 0, 0, 1, 1, 0, 0, 1, 0, 1, 0, 1, 0, 0, 0, 1, 0, 1, 0, 0, 1, 0, 1, 0, 1, 0, 1, 0, 1, 0, 0, 0, 1, 1, 0, 0, 0, 0, 1, 1, 1, 0, 0, 1, 0, 1, 0, 0, 0, 1, 1, 0, 1, 0, 1, 0, 1, 1, 0, 1, 0, 1, 0, 1, 1, 1, 1, 1, 1, 0, 0, 1, 1, 1, 0, 0, 0, 1, 1, 0, 1, 1, 0, 0, 1, 0, 0, 1, 1, 1, 0, 0, 0, 0, 0, 0, 1, 1, 0, 1, 0, 1, 1, 0, 0, 1, 1, 0, 0, 0, 1, 1, 1, 0, 0, 0, 0, 1, 1, 0, 0, 1, 0, 0, 0, 0, 1, 0, 1, 1, 0, 1, 0, 0, 1, 1, 1, 0, 1, 0, 0, 1, 0, 0, 0, 0, 0, 0, 0, 0, 1, 1, 0, 0, 1, 0, 0, 1, 1, 0, 1, 0, 0, 0, 0, 1, 0, 0, 0, 1, 0, 1, 1, 0, 0, 1, 1, 0, 0, 0, 1, 1, 0, 0, 0, 1, 0, 0, 1, 0, 0, 1, 1, 0, 0, 1, 0, 0, 0, 0, 1, 0, 0, 1, 1, 0, 1, 1, 1, 0, 1, 1, 1, 1, 0, 1, 0, 1, 1, 1, 0, 1, 1, 0, 1, 1, 0, 1, 0, 1, 1, 0, 0, 1, 0, 0, 1, 0, 1, 0, 0, 1, 1, 0, 0, 0, 0, 1, 0, 1, 0, 0, 1, 0, 0, 0, 1, 0, 1, 1, 1, 0, 0, 1, 0, 1, 1, 0, 0, 0, 0, 1, 0, 1, 1, 1, 1, 0, 1, 0, 1, 0, 1, 1, 0, 0, 0, 0, 0, 0, 1, 0, 1, 0, 1, 0, 0, 0, 1, 0, 1, 0, 0, 0, 1, 1, 0, 1, 1, 1, 1, 1, 1, 1, 1, 1, 1, 0, 1, 0, 1, 1, 1, 1, 0, 0, 0, 0, 1, 0, 1, 1, 1, 0, 0, 0, 0, 0, 1, 0, 0, 0, 1, 1, 1, 0, 1, 0, 0, 1, 0, 0, 1, 1, 0, 1, 1, 0, 0, 0, 1, 0, 1, 0, 0, 0, 0, 1, 1, 1, 1, 0, 1, 1, 0, 0, 1, 1, 1, 1, 1, 0, 1, 0, 1, 0, 0, 1, 1, 1, 0, 0, 1, 1, 0, 0, 0, 0, 1, 1, 0, 0, 1, 0, 0, 0, 0, 0, 0, 1, 0, 0, 0, 1, 0, 0, 0, 0, 1, 1, 0, 0, 0, 0, 1, 0, 0, 1, 0, 1, 0, 1, 0, 0, 1, 1, 0, 1, 0, 1, 1, 0, 0, 1, 0, 0, 0, 1, 0, 0, 0, 1, 1, 1, 0, 1, 1, 0, 0, 1, 1, 0, 1, 0, 1, 1, 1, 0, 0, 0, 1, 1, 0, 1, 0, 0, 1, 0, 1, 1, 0, 1, 1, 1, 1, 0, 0, 0, 0, 1, 0, 1, 1, 0, 1, 1, 1, 0, 0, 1, 1, 1, 1, 1, 1, 0, 0, 0, 0, 0, 1, 0, 1, 0, 1, 0, 1, 0, 1, 0, 0, 1, 1, 1, 1, 0, 0, 0, 0, 0, 1, 1, 0, 0, 1, 1, 0, 0, 1, 0, 0, 0, 0, 0, 0, 1, 1, 1, 1, 1, 0, 1, 0, 1, 0, 1, 0, 0, 1, 1, 0, 1, 0, 1, 0, 1, 0, 0, 1, 0, 1, 1, 0, 1, 1, 1, 0, 1, 0, 1, 1, 1, 1, 1, 0, 1, 1, 1, 0, 1, 1, 0, 0, 1, 0, 0, 1, 1, 0, 0, 1, 0, 1, 1, 1, 0, 0, 0, 1, 1, 0, 1, 1, 1, 1, 1, 0, 1, 0, 0, 1, 1, 0, 0, 1, 0, 1, 1, 0, 0, 0, 1, 1, 0, 0, 0, 0, 0, 1, 0, 1, 0, 1, 1, 0, 1, 0, 0, 0, 0, 1, 1, 0, 0, 1, 1, 0, 0, 0, 0, 0, 0, 0, 1, 0, 1, 0, 0, 1, 1, 1, 1, 1, 1, 0, 1, 1, 0, 0, 1, 0, 0, 0, 0, 0, 0, 0, 0, 0, 0], \"coloraxis\": \"coloraxis\", \"symbol\": \"circle\"}, \"mode\": \"markers\", \"name\": \"\", \"showlegend\": false, \"type\": \"scattergl\", \"x\": [12492.426962470141, 4746.161305150417, -9256.93544835537, -8141.666427560177, -10997.97613899451, -7583.297662288468, -4767.517146422417, -6624.668590526988, -4175.470214077858, -4204.884160798715, -6093.341169576512, -11183.83314205283, 3212.8563448707487, -3859.101336564266, -473.93146311200115, 10368.812403043654, 872.449555509193, 5155.386247586902, 8871.499008659915, 11798.005003184924, -5082.70891627267, 10472.935481025339, -4282.625218413955, 1886.4697253671147, 1635.803037369971, 5062.946175390366, 5854.738459453345, 7725.736077253327, 7895.909276472998, -8869.470814912149, 5854.738459453345, -1970.5068637740487, -6850.440442040379, 5069.831261636439, 1914.8036199307867, 1407.5645887341075, 10773.048523258189, 7102.17879211857, 5854.738459453345, 12148.393329577346, -10537.062103209259, 1580.185375242769, -6379.6590434168265, -8502.704224197581, -1880.1263283408496, 2899.776599809225, -5778.221794640963, 577.4768643519344, -7519.627927136797, 2062.5120707362303, 11339.517676094043, 5993.695819148765, -47.461561029273724, -8697.459905389902, 9544.31125038425, 5155.386247586902, 5155.386247586902, -10155.815541462716, -2508.560570722627, -4903.702553341019, 11299.017896552368, -8357.489613809783, 11348.913429603577, -11081.098965445384, 11946.805625292676, 12540.992788856722, 2594.206835867403, -3334.9695808300953, -8786.12311113991, 12351.840607755326, 8653.04961762813, 171.0177664644023, -7784.249880221823, 10007.841534601892, 44.828386573700485, -2989.0688432573806, 2828.5377640038755, 5816.494116849458, 4048.0047533411334, 8547.319700757578, -9047.907732266076, 7240.184721290119, -10997.97613899451, 12211.43859285001, 9117.7842074192, 10579.455071581546, 7339.776640037661, 11649.989138605117, 12148.393329577346, -5412.93339566202, 5081.738397122229, -3179.4132368366786, -7307.806115321299, 37.740986464988765, -2931.7125319095303, 11253.511247226701, -10155.815541462716, -2159.0159489960115, 2713.4358618116757, 935.5423889654287, 6875.487479309138, -3044.283032103642, -6839.0881067070195, 4084.0354050472583, -11243.62342808526, 12493.196411399123, 8987.648063801269, 5961.5228389212025, -8776.39967337849, 159.52622620894192, 1576.6056703298993, -2484.6778922348904, -5321.556693236993, -9981.907735143259, 11788.511168249093, -2989.0688432573806, -10977.07071560063, -3703.1158160032296, 12488.68156714162, 8406.802136247441, 609.0918746010568, 4880.4450134055705, 6696.882280854256, -2039.048478703153, 4026.8275628673873, 5452.04249751761, 2059.7861071332345, -8026.335801584039, 5537.147856528183, -3992.763104039592, -4293.394267576448, 5316.561484986951, 7074.045554249536, -7078.4340936611325, 4354.310759728258, -2577.1933594959314, 5320.854257607432, -8871.246091359335, 3505.3737894272117, -6475.77101849167, -5824.048674959477, 10773.048523258189, -8470.00172932576, -10906.260040832532, 6828.7473960965435, 4026.8275628673873, 3460.743386203504, -11243.62342808526, -3992.763104039592, -1633.9716008484377, 11798.005003184924, -3897.0332642148196, -5715.147365523784, -4075.8905865788547, 235.51027781514736, 1354.3398620620976, 12514.17949778197, -7645.512033539493, -7078.4340936611325, 5783.298717740516, -3233.9534547575513, -10253.526052483652, 2118.8361918923865, 7477.604331116471, 10336.62446221852, 2975.379314858543, 5503.847016731266, 8046.0013823587, 3864.415702399953, 4847.078596802837, 31.49654287749467, -10182.328410591186, -5989.050645658957, 6083.916073951239, -1108.3408247971252, -3556.8684256451597, 2915.504468317656, -11120.94854186181, 3244.5750286738858, 4395.809445848701, 9271.858152523815, -11051.520784039723, 8379.590024735899, -2877.5359580282293, -9030.083837771972, -11926.64302101898, 10368.812403043654, -7244.181081465738, -5215.562426087378, 2786.0962361107813, 9512.516810222929, -2484.6778922348904, 9203.782282883498, -2154.287604631725, 1265.3487232631348, -238.26766160026773, 7609.721699739314, 12493.196411399123, 5234.017007658731, 4354.994254379828, -5778.221794640963, -11523.41473411137, -2508.560570722627, 10582.471275094358, 10235.04651336942, -440.4428788799622, 11617.061201986475, 3505.3737894272117, -3647.6036311470593, 3048.9912480293815, -6431.789201555918, -5166.235498891164, -11183.83314205283, 7518.236829235823, -3992.763104039592, 3212.8563448707487, -12114.290131887243, -9410.138244053902, -2490.121501645518, 8531.976585530987, 39.89804918359492, -238.26766160026773, 5243.658118552383, -2700.4253116804375, -11010.955559366022, -6527.2515781014035, 11816.723456226418, -7078.4340936611325, -3225.121304991512, 3716.0827691967747, 1265.3487232631348, 872.449555509193, -6475.77101849167, -3859.101336564266, 6819.306066656723, 8766.709635211657, -3556.8684256451597, -9518.068781838436, -11633.385720503184, 9444.442045432013, -252.7061782862625, -10734.94514168816, 2953.341900719674, 66.05664780894509, -6420.040355639649, -10451.308980610183, 6243.75395206652, -4767.517146422417, 8290.388827201035, -2344.5838528768045, -2882.8046518260953, 5243.658118552383, 5388.28245938651, -5556.640345485038, -10977.07071560063, 3505.3737894272117, -8325.076183450863, 3739.8481957213794, 10754.947265354884, -3886.199921106812, 250.68251156397832, 738.6489770376518, -2331.975785656855, -1729.3923067817448, 6000.213291803669, 151.49227615146418, 8058.157403497362, -6431.136107232389, 2776.0881557168404, 351.9261917146222, 5243.658118552383, 3212.8563448707487, 1354.3398620620976, -9654.946594437415, -684.2278525833656, -1371.9302369254785, -3412.3306256921037, 407.61790056810014, -10643.586423333772, -7729.407339325691, -5778.221794640963, -2484.6778922348904, -10734.94514168816, 6727.446524454151, 7586.294573346622, -4737.231866292468, 7240.184721290119, 341.4769948501284, -1030.0537185450405, -10155.669559059612, 10649.942643130333, 5387.776742378443, 90.07231591215519, -3881.638651557668, 11930.011334144057, -741.2331343568425, 7368.254250912314, 10377.802993340814, -601.1908079880277, 5253.299804688173, -11052.38181917864, 1723.2496821684779, 3167.7311672339133, -6858.6122424052555, -3486.2335358091564, -10997.97613899451, -440.4428788799622, -9654.946594437415, 1809.6111286771547, -2452.339599461692, 12009.525911117662, 6399.512657531688, -10749.283304961271, 2782.792285954031, -8595.798579151013, 6819.306066656723, 6562.406134341857, -6744.358877672775, 2704.6774664283007, 9255.319321683222, 5654.334600607113, -5778.221794640963, -4139.5595690772725, 10430.50341417577, 6668.39097817914, -10575.515148544833, -6119.5559468957135, 1715.2659052779268, -4474.360118684969, -9386.386539087172, 12051.502158904597, -5804.477079302384, 6727.446524454151, -2159.0159489960115, -7011.929677559968, -10101.77763543061, 10078.344569577794, 251.61242611302563, 2568.1226940327324, -4263.801302915118, -11384.53783832117, 7240.184721290119, 2177.5490571177784, -10012.389539874883, -5050.175953146614, 251.61242611302563, 3754.86032514128, 7386.94311688265, 8635.276266964569, 7093.851544409436, 9344.13422879511, -10519.286289984952, -6931.07379761402, -3363.6925883175277, -11994.168998300182, 7370.88557136419, -2835.0870238725824, -4345.853679540404, -5299.178162959532, -4378.074142638948, -9178.859213297677, 11802.56096229456, -244.38100830225787, -1990.725025679127, -6431.789201555918, 5407.503604447135, -9065.287267507158, -3613.947955098214, 1768.5196137026867, -9178.859213297677, -3593.7301034800325, 7424.0419700388065, -5744.220110459569, -9434.129769996644, -2518.366667219274, 10754.947265354884, 10730.879250522954, -682.9179249699347, -3293.3394930988366, 5028.968550223161, -4767.517146422417, 1172.7954297122485, -6093.341169576512, -222.83501058508847, -9178.859213297677, -5524.224575696456, 4885.076237070895, -11243.62342808526, -2425.0835727476447, -1435.0363353171676, 3864.415702399953, -3835.6572215818283, 7598.148466205927, 3460.743386203504, -1371.9302369254785, 5537.147856528183, -4686.736773706412, -2508.560570722627, -12020.580021022, -9306.977297064854, -4946.901143177152, 3212.8563448707487, 1172.7954297122485, -11444.731446525006, -8039.327953201999, 6818.1639952842215, 3212.8563448707487, -3179.4132368366786, -3835.719825111748, -8891.477181018767, 1507.023763550722, -2107.1451074490246, 5028.968550223161, -7214.397185412545, 3324.5003321486574, -4263.801302915118, -11357.599934599522, -7528.835411196019, -709.0755645315247, -1803.6937512467525, -2989.0688432573806, -10537.062103209259, 6350.773108724899, -7528.835411196019, 1774.864464114309, 2713.4358618116757, 9255.319321683222, -3544.2047985739714, 2809.5533059336476, 6508.450259418401, -9010.678202023595, -2657.1637561938446, 11082.894398404324, -7078.4340936611325, -6445.923948544172, 9318.603434210037, 3134.5530973682544, -10641.57534297045, -2477.172622104293, 2595.324118329486, -4089.098524758687, 8774.430818513632, -9817.563842027857, 7240.184721290119, -8131.149501718523, 9668.129140576664, -3063.1412898364906, 251.61242611302563, 11011.56726029468, 12493.196411399123, -238.26766160026773, 3568.410022465221, -3703.1158160032296, -10034.129656674146, -12314.338137527391, -3103.0166857319728, -9648.940966514754, -7528.835411196019, 251.61242611302563, 8870.057541485297, 23.183627989968176, 1454.3710137777337, 235.51027781514736, -11146.419157575803, -9866.776376452213, 4269.539223542081, -4766.349135220631, 6675.775732406367, 10814.656518550995, 4399.53997431646, 1516.2195872787795, 7263.570946294408, 5243.658118552383, -6733.862670598196, 1029.9505175053978, -11186.813241599046, 2271.622661877589, 10021.082159341166, 5243.658118552383, -9999.58183583952, -148.60819856565018, 10877.760126983783, -308.41874080697625, -2272.002537234292, 12211.43859285001, 4572.062618214035, -8111.1992882186705, 4386.563331608601, -508.6483365714713, -5082.576690469202, -8039.327953201999, -7216.35416734073, -377.66578892427003, -3847.980226894051, 9082.216815841097, 12351.840607755326, 3270.9862707932284, 5375.500908752625, -302.607688807176, 12148.393329577346, -5215.562426087378, -4749.719788969931, -11474.962791368498, 781.8001347897812, 4746.42379350121, 11478.964355154685, 2345.6387377804817, -1005.2612820056419, 9418.416097143205, -9178.859213297677, 8531.976585530987, -11160.254729602731, 1265.3487232631348, 6251.952998344947, 7240.184721290119, 5854.738459453345, -6093.341169576512, -1366.9507499635404, 781.6455406436926, -2867.3740218528824, -767.844522861153, -5232.045759184691, -4376.0726703817645, 11011.21025158204, -11160.254729602731, 7846.838353596445, 6488.292644902599, -11186.813241599046, 6108.611333715642, -1990.725025679127, 341.4769948501284, 842.2434499137664, -8084.68858257563, 10362.372348268016, -11081.098965445384, 8133.094301626647, -5231.921963191184, 6017.833847063177, 7424.0419700388065, 10971.245471882647, 5266.694964435584, -7784.249880221823, -7972.870623392097, 9334.158928560162, -3044.5849002423906, 10068.119216705843, 6030.091399612678, -7403.93528405258, -7537.17167936667, 3141.7353828447117, 11149.513570181733, -4834.39390152672, 9365.456745629835, -11051.520784039723, 2644.7705692552145, 1966.9941513318095, 9117.7842074192, 12541.189507681374, -6777.0518795524495, -6431.789201555918, 1354.3398620620976, 913.4489716848868, -5436.1678822784725, 9605.846447660935, -6376.109028338224, -2882.8046518260953, 10335.406006921638, 6819.306066656723, 6980.417297792266, -9178.859213297677, 9954.713086849946, 10284.28959413467, -10997.97613899451, 12255.062899125529, 2375.2725556284336, 4948.324313351883, 544.7808924217267, 6405.6149969368935, -1922.8727096760667, -7326.640503505021, -4327.239415855812, 7386.94311688265, -5000.286503478052, 7678.905699209663, -6475.77101849167, -1729.3923067817448, -4539.349139752448, 6832.3836155289755, 7518.236829235823, 3244.5750286738858, -10158.924909621092, -1356.1616762618241, -10155.815541462716, 935.5423889654287, 280.93093467901696, -6624.668590526988, -11652.939768711525, 5306.309198894612, -2931.7125319095303, 2782.792285954031, -6624.668590526988, -4075.8905865788547, -7452.294890270368, -11051.520784039723, -7422.6815627182095, -7528.835411196019, 11417.623478549787, -47.461561029273724, -11074.726105856016, 11798.005003184924, 11253.511247226701, 7509.043267665837, -6624.668590526988, 7725.736077253327, -5203.8372108987005, 10362.372348268016, 11798.005003184924, -5580.68376767567, 10892.58640409214, -9817.563842027857, 1580.185375242769, 10878.597426364702, 1595.3034801413776, -5205.729160878816, -5837.929047029741, 816.9796786072085, -3185.4332241275742, -4293.394267576448, 3212.8563448707487, 6562.406134341857, -6732.54813746923, 7809.140846371633, 10005.90122641157, 3614.780910659167, 11816.723456226418, -4846.17577789993, 4474.944167704345, -9144.283680907496, 3244.5750286738858, -4091.875803727749, -6099.7332579531, -8341.443631662492, -6619.652177077796, 12211.43859285001, -5524.224575696456, 5893.531411798297, -813.8842299401599, -3728.974959529328, 5741.56972831948, 8531.976585530987, -2867.3740218528824, -1729.3923067817448, -8419.972520776551, 3505.3737894272117, -11610.733832619273, -9642.320201127088, -11652.939768711525, 235.51027781514736, -5524.224575696456, -4293.394267576448, -6386.474904892009, -9313.299099303022, 3212.8563448707487, 8379.590024735899, 5943.477497173005, 10668.891090362278, -1990.725025679127, 6092.395072789385, 10470.254143001188, -10431.342027404675, -4474.360118684969, -5912.044964650991, -2246.137938181579, 5288.350716037817, 6162.906992712943, 11747.539797096882, 10596.570914936041, -11051.520784039723, 3932.0855672870257, -9600.045141422688, 2754.569119460629, -2882.8046518260953, -848.6563884921272, -7645.512033539493, 11772.4407994157, -4787.742822292104, 12493.196411399123, -6093.341169576512, -5840.97074856626, 5528.051133877752, 9507.24626595543, -237.8474415828377, -354.4953789567542, 2298.048414341211, -8159.65904574586, 5909.644738797758, -3881.638651557668, 2786.0962361107813, -6583.877143197046, -238.26766160026773, -1482.010113368704, -8697.459905389902, 1532.931595852557, -1729.3923067817448, -4767.517146422417, -8189.541413454455, 2627.543542184946, 6514.7884453499555, 1354.3398620620976, 9462.896285740642, 9644.34204147893, 9259.140190188256, 6516.902247205116, 5243.658118552383, -12223.721386897882, 5884.087334601506, -11051.520784039723, -9755.826850123838, 12648.051081113457, -10977.07071560063, -4089.098524758687, 10221.380736655074, -7337.883999457819, 5028.968550223161, 2431.6845065946054, -9788.03672851915, -3225.121304991512, 906.2516437452035, -5010.815497746134, 12127.837176197505, -6093.341169576512, -5556.640345485038, 7809.140846371633, -6475.77101849167, 7524.454013649158, 6779.999640359686, -3477.9173623765355, 5390.827865415858, -2657.1637561938446, -9600.045141422688, -4409.759636113343, -8020.53923309053, 12492.426962470094, 2713.4358618116757, 3212.8563448707487, 8977.360812804214, -8393.245752807468, -11384.53783832117, -4263.801302915118, 10525.45656529072, -8791.477600107344, 9825.208601005728, -7367.554475750084, 8379.590024735899, 10892.58640409214, -222.55713308671523, -2159.0159489960115, -4826.226114993951, 5388.28245938651, -1458.853978171421, -1016.2293336390054, 341.4769948501284, 6058.127246638184, 7613.13742094384, 39.89804918359492, 12238.10613587179, 11666.957657535486, 2305.3995963372313, 2062.9916886455026, 10284.28959413467, 5028.968550223161, -8374.323401427377, -1501.068862992472, -8270.43497610084, 2610.9282418936305, 8419.442119223851, -3179.4132368366786, -8085.4588329789585, -3893.488710784117, -11160.254729602731, 8547.319700757578, -11310.412031549948, 1957.7235238764495, 7609.721699739314, 11798.005003184924, -11411.299789550289, -5072.496256589975, -11382.82310607016, -227.93056794662152, 7240.184721290119, -11652.939768711525, -10315.560091606125, 8838.097275015476, -2700.4253116804375, -2636.5940164251106, 8999.241689500299, -1729.3923067817448, 1550.7757164416219, 1308.234823614365, -2805.288786946464, -11094.808815732189, 3460.743386203504, -9730.492453557225, -9053.982911994442, 4299.451487818495, -11160.254729602731, 7008.879959139835, 9378.92687653461, -5268.898063616822, 4902.039451009157, -1678.28581418735, 8123.981948460196, 1777.1458059993302, 609.0918746010568, -10143.760147395444, -6714.511726604644, 7475.629311147907, -9448.883741966429, 2782.792285954031, 1699.3793569574088, 3775.456340613465, 7101.61800193968, -11183.83314205283, 7586.294573346622, 5065.130950520546, -7078.4340936611325, -6376.109028338224, -6834.544953228745, 2191.2775013133733, 8766.709635211657, -12054.47229757928, -8408.932295945462, -7645.512033539493, -7367.554475750084, -5126.328928925051, -11652.939768711525, 7223.018007272032, 8401.334428605358, 10284.28959413467, 7308.2985406018215, 8784.685989661617, -2513.0274855622165, -7930.798717630433, 7597.522209858603, -9178.859213297677, 3957.744723094136, -10997.97613899451, 9203.782282883498, 6981.963396950156, -8282.172780251653, 7386.94311688265, -5637.404854774647, 3957.744723094136, -1884.5218381234563, 8300.372447003332, -11061.156641980035, 1265.3487232631348, -11652.939768711525, -2484.6778922348904, 11028.094444939628, -8254.499864979936, 8531.976585530987, -3714.6905392751733, 12211.43859285001, -2867.3740218528824, -1527.4245323560845, 8531.976585530987, -6836.7333399718955, 3212.8563448707487, 9117.7842074192, 2953.341900719674, 9200.468133614924, -1495.0217692881113, 10472.935481025339, -5230.182778070332, 1389.0864646061984, 8870.514576986983, 12779.19382758498, 4358.631789934323, -7568.205374279218, -7078.4340936611325, -12020.580021022, -4693.600596517188, -9963.491316346206, 5961.5228389212025, -440.4428788799622, -2916.087717297331, 9311.127878703637, -113.24253512009435, 5028.968550223161, 11011.56726029468, -222.83501058508847, 10372.624047807472, -5778.221794640963, 2782.792285954031, 6830.362464275646, 11798.005003184924, 8905.660150287498, -10098.781737444473, 10754.947265354884, -8697.459905389902, 8755.298117457423, -10728.13332715219, -8038.3140993557845, 5316.561484986951, 6727.446524454151, -6093.341169576512, -3783.955299429836, -6624.668590526988, 10162.903328173521, 1869.0166342891655, 12515.317330913756, 2782.792285954031, -2499.427201408112, 7685.830818429118, 872.449555509193, 7586.294573346622, 7101.61800193968, 8377.959858306844, -9830.63918184553, 4880.4450134055705, 3415.8636427475435, -10155.815541462716, -10537.062103209259, 11666.957657535486, 39.89804918359492, -6358.757336241676, -8204.828481481693, -6420.040355639649, -2715.6350133046185, -144.16466676643876, -2039.048478703153, 6078.833278712182, 65.71846236880117, 3864.415702399953, 627.5380754153647, -880.9046819483028, -8131.879612844628, 8531.976585530987, -11381.515988288369, 12327.635368270252, -1195.630113685236, -7296.206683076089, -1371.9302369254785, -6376.109028338224, -4767.517146422417, -2159.0159489960115, 6477.629412406234, 7831.640191264906, 3460.743386203504, -4089.098524758687, 3684.758346688595, 5155.386247586902, 5048.998566759011, 7833.155561144043, -7078.4340936611325, -1065.0507191280165, 3385.329677959609, 1692.8405282484514, 6643.843234385455, 12351.840607755326, -8211.623239383258, 10902.534667196724, 1683.3897891330596, -9654.946594437415, -9178.859213297677, -6119.5559468957135, 11759.61006768386, -4474.360118684969, 7518.236829235823, 4253.71696974596, 1497.209355196321, -3409.1968176880378, 39.89804918359492, 12351.840607755326, 3167.7311672339133, -440.4428788799622, -11051.520784039723, -5446.148468333741, -6140.241805823399, -3934.427642357045, 66.05664780894509, 1842.5349008838293, -1371.9302369254785, 3524.8903013118734, -10050.884058852625, 3618.9234116990533, 12493.196411399123, 2758.222903967666, 6562.406134341857, -11839.683505746454, -2501.1153246550684, -7235.215478320525, -8174.33675037433, -8212.419083524981, 6514.7884453499555, 9311.127878703637, -6624.668590526988, 4469.689403189057, 7809.140846371633, -5524.224575696456, 2455.7542113267186, -7078.4340936611325, 12622.469717369337, -5804.018835638325, 1513.4999426788577, 6472.4921801555965, -3992.763104039592, -342.06570438822337, 7518.236829235823, 39.89804918359492, 5961.5228389212025, 4010.0419927766293, 251.61242611302563, -1729.3923067817448, 9485.540078427752, -7224.023434609357, -10155.669559059612, 1972.3635634072855, -4918.754484949436, -8590.829688294045, -10155.669559059612, 7586.294573346622, 8774.430818513632, -11384.53783832117, 4557.2484277022495, -880.9046819483028, -11041.181466000437, 3864.415702399953, -11156.806524097165, -9755.826850123838, -2593.6946163818097, 9094.288937142566, -2017.5231906129047, -6119.5559468957135, 1259.5622524713729, 2610.9282418936305, 180.6583673379586, -9336.585998381113, 251.61242611302563, -8697.459905389902, 11343.320800472553, 3008.647210143278, 2915.504468317656, 11843.497775426831, -10734.94514168816, -4235.718966198031, 5155.386247586902, -1287.747635235841, 5400.944736443919, 4909.284539676944, 7339.776640037661, -3832.0755495989733, -5268.898063616822, 4800.627001748032, 6850.896616431089, 7405.925858257178, -10015.360332294695, -354.4953789567542, -1666.2202872982882, 11253.511247226701, -1604.1075585016793, 1172.7954297122485, 11247.639224438255, -11051.520784039723, 11113.935758577818, 8658.799662603653, -5480.263005115851, -11160.254729602731, -3556.8684256451597, -9141.992054177483, -10317.4406005354, -10412.224158765068, -10493.23005871529, 251.61242611302563, -5231.921963191184, 7779.840095304594, -5422.821392651477, -6679.474927400349, 7405.925858257178, 996.5332458067685, -8672.101387327308, 5177.292077012941, -6093.400605478524, -10786.947792933048, 9604.000134325233, -11183.83314205283, 8749.36839325858, -7235.215478320525, -9710.146624646284, -11411.299789550289, -10121.453631542545, -2484.6778922348904, 90.07231591215519, -320.0806881016231, 12703.996095843286, 2057.056579774375, -5202.716090634449, -8945.31854594186, -5202.716090634449, -3225.121304991512, 4948.324313351883, -1371.9302369254785, -440.4428788799622, -4484.5091535391475, 6167.282881870862, -4603.398021799929, -5202.716090634449, 5537.147856528183, 6243.75395206652, 68.07925945800181, -9192.388020780312, 8854.747918613119, -11411.299789550289, -11081.098965445384, -11203.908058358033, -7235.215478320525, 37.740986464988765, 1668.0679405171584, 11643.880431706737, 10773.048523258189, 1081.8845315820727, -1928.1354250309587, -3179.4132368366786, 906.2516437452035, -7235.215478320525, -8544.98235425539, 10394.26119152367, 11964.177123947653, -4262.560386817267, 7517.944886178918, 4939.042852267865, -4686.736773706412, 6562.406134341857, -9919.095644383353, 5854.738459453345, 3021.7975129507104, 1532.931595852557, 10754.947265354884, 3298.404358204538, -8265.63327186486, 10754.947265354884, 4354.310759728258, -9685.272623081133, 13043.551981000886, 1589.5170152403794, -148.60819856565018, -4075.8905865788547, 251.61242611302563, 8442.307977448269, -10703.8565302959, -1720.6141234154618, -4114.451776073559, -2657.1637561938446, -11652.939768711525, -11893.110725410485, -3003.615561910292, -6420.040355639649, -1137.7667667666447, -304.58182852885943, -1442.7237672428212, 11095.189302859346, -4075.8905865788547, -10083.943629006266, -2508.560570722627, -1482.010113368704, -9649.45363484791, -11310.412031549948, 5702.775329831752, -8308.442668526535, -10997.97613899451, -8159.65904574586, -3835.365156287087, 9446.63076165626, 1172.7954297122485, -1231.8395931035022, 10699.620207266296, -6420.040355639649, -11187.973721913759, 5482.437677059181, 12880.904664858428, 693.4985342852015, 0.612389456528768, -3443.0609238270904, -11304.632603690854, -6728.181045998523, -7367.554475750084, -5232.045759184691, -11815.099311441138, -7025.267296421084, 10472.935481025339, -7714.097093698609, 1317.5842171369238, 3324.5003321486574, -11243.62342808526, 387.5153371280992, -5231.921963191184, -8694.521572037642, 6450.920685591999, 10831.080070561431, -8051.638068854178, -5268.898063616822, 5905.105741541273, -11474.850358682967, -5843.806201703549, 66.05664780894509, 3477.5866856254697, 1683.3897891330596, -10977.07071560063, -8096.142535233925, 9194.907241540683, -5231.921963191184, -7719.170908895741, 1677.664860255295, 9766.6278380132, -10124.517706462517, 1172.7954297122485, 12148.393329577346, 8213.336575686439, 12239.74269678729, 2219.095996775009, -6836.7333399718955, 2107.290846244144, 4831.752030606184, -1482.010113368704, 3874.5970119088383, -7640.759822990638, -4263.801302915118, -8697.459905389902, 197.25000923870283, 989.7619067850928, 2621.944340913951, -6107.241760324151, 4898.958522449918, -6547.261262194629, 8615.226085455712, 11666.957657535486, 6610.429018760046, -1154.3142160146353, -8282.172780251653, 5243.658118552383, -8419.471303617274, 66.05664780894509, 1683.3897891330596, -6475.77101849167, 3735.9916292743133, 6832.3836155289755, 11299.017896552368, 4880.4450134055705, -3647.6036311470593, -9912.556676799231, -440.4428788799622, -3571.1792268570425, 8766.709635211657, -5837.929047029741, 7779.840095304594, 4139.117534080868, -11357.599934599522, -5232.045759184691, -753.9695180164321, -222.83501058508847, 872.449555509193, 10020.989280452452, -10155.815541462716, 12006.040820560684, 11816.723456226418, 10284.28959413467, 4494.500528491618, 11528.54905003804, 7424.0419700388065, -9188.962875946165, -3359.9611695778613, -6836.7333399718955, -2533.6147185307, -5268.898063616822, -6803.826349521283, 1041.0173791114046, -7078.4340936611325, 2059.7861071332345, -10234.864467741902, 8273.58261335595, -5162.232662372485, -1150.6328563309264, -4263.801302915118, -10271.41363337438, -11310.412031549948, -8497.292835139795, -9984.672663339974, -2508.560570722627, -10457.49730020197, 8810.779051350835, 10152.962462436057, 609.0918746010568, 5406.659696797618, 7586.294573346622, 11802.56096229456, 3618.9234116990533, -8092.654823542665, 5982.504453324495, 7685.830818429118, -9777.683057590588, -11074.726105856016, 609.0918746010568, 11925.013972915882, 10575.651250924631, 498.61149014916526, -9978.52419593186, -10575.515148544833, -9431.937214808093, 2610.9282418936305, -4926.130282934242, 7102.17879211857, 2610.9282418936305, 9366.376137170571, -1482.010113368704, 9652.178759256938, 8784.685989661617, -6888.182934231621, 12231.220261043063, -2508.560570722627, 10737.491845387363, 8318.663503487787, -5150.3137218925785, 5353.081755561682, -9191.427019235853, -8179.189854422016, 12211.43859285001, 8313.447105654259, -11411.299789550289, -11064.595024421167, 12231.220261043063, 1501.8617719706108, 5272.992754478072, -7195.11297122597, -5215.562426087378, -7950.475810207052, 8547.229252844492, 10694.616228419785, -5060.808246812181, -7521.871238429886, -4263.801302915118, -5837.929047029741, 2170.5889710523893, 10754.947265354884, 12703.996095843286, -4139.5595690772725, -9755.826850123838, -9600.045141422688, -4075.8905865788547, -9600.045141422688, 10892.58640409214, -4075.8905865788547, -148.60819856565018, 4855.567409079861, 6472.4921801555965, -9472.918592551721, 8766.709635211657, 6562.406134341857, 7831.640191264906, 6819.306066656723, 7596.401341799058, -4433.855588657536, 2886.080960041589, 3256.845976028694, -2039.048478703153, -8283.640205137466, -6475.77101849167, 3212.8563448707487, 3324.5003321486574, -4979.868519996743, -5916.600174364014, -4750.798125728433, -3508.900266958409, 7008.491478363731, -4293.394267576448, -9636.626785491138, 3532.8210601606, -6640.483240851424, -4075.8905865788547, 10754.947265354884, -3859.101336564266, 10568.366254396444, 8977.360812804214, 933.503819139455, -577.547328750874, 913.4489716848868, -8343.356230087744, -7309.680325155757, 11299.017896552368, 7102.17879211857, 2194.8458337481293, -8159.65904574586, -2700.4253116804375, 8358.67930477864, -4075.5726946600134, -4832.498187007796, -4139.5595690772725, -11804.032811621828, 7685.830818429118, 4554.938214085711, 4021.2769259596853, 7576.558109729257, -7518.123995555932, 3889.411964739918, -3703.1158160032296, 341.4769948501284, 235.51027781514736, 7252.723920356925, -6420.040355639649, -1371.9302369254785, 9572.746163050257, -2236.3484577977624, -11652.939768711525, -8159.65904574586, 10472.935481025339, -6431.789201555918, 10892.58640409214, 10288.354374787685, -10977.07071560063, 4415.852099480242, 4026.8275628673873, 11220.103361556148, 8120.763968866837, 2915.504468317656, 3957.744723094136, -6093.341169576512, 238.30345268661097, 2947.813079853467, 935.5423889654287, 5155.386247586902, -5959.254319489485, -6393.7009398828, 10523.229875992101, -3119.069501337638, 10472.935481025339, 7339.776640037661, 12105.332297394516, -11377.98063124903, 577.4768643519344, 1843.018108612439, 7920.615783022276, -6701.409402327182, 8083.076689176751, 1097.6708267111987, 2871.5335653260336, -10575.515148544833, 8352.050593315824, -11537.117025057492, 553.7775537924757, 341.4769948501284, -1551.3466639509043, -2113.0229690718265, 5267.997274832728, -9075.091989740135, 4377.900242778223, 3460.743386203504, -10190.900060729704, 590.3068906987015, -9315.90996144704, 10397.937021122409, 5316.561484986951, -9282.159242016574, 9749.888079249276, 341.4769948501284, 10558.735610194644, 8547.229252844492, 884.4873486620572, -11243.62342808526, -4346.529980018581, -2287.3773577097545, 341.4769948501284, -8039.327953201999, 5423.448882997076, -2508.560570722627, -52.081893344599216, -2989.0688432573806, 9117.7842074192, 1324.920731699758, -9754.362541983075, 7685.830818429118, -5261.712125787142, -11197.732298327746, -988.4587247218765, -8282.172780251653, 577.5532150787009, 3556.7751446740945, -5737.759332217907, 2610.9282418936305, 2786.0962361107813, 12173.670431924376, 7882.251253973676, -10155.669559059612, 9117.7842074192, 9496.09319580656, -2305.2635193867404, -3861.1848786943506, 3167.7311672339133, -4069.3892460108873, -9654.946594437415, 10022.595569409506, 1683.3897891330596, 6514.7884453499555, -6431.789201555918, -3369.2164601418053, 7110.769388415704, 6737.411536400672, 39.89804918359492, -4767.517146422417, -10241.1517193111, 11149.513570181733, -9019.951755296714, 6927.319576293463, -11357.599934599522, 3131.3576705835326, -4926.130282934242, 12231.220261043063, 12780.242271269773, -2039.048478703153, -5231.921963191184, -7078.4340936611325, -7078.4340936611325, -5000.293260328481, -4421.136447081123, 8322.403723280464, -3949.6331765535356, -3556.8684256451597, -2303.095559024226, 7725.736077253327, 3212.8563448707487, -7008.1266591822605, -2882.8046518260953, 609.0918746010568, -4539.349139752448, 2210.0733580410792, -2118.9542182180057, -10155.815541462716, -9313.299099303022, -7235.215478320525, -7645.512033539493, -10155.815541462716, 9203.782282883498, 12012.928282271401, -1349.921196371501, -11654.330849344215, -921.506785417073, -4892.796825070885, 7101.61800193968, 9115.913413621656, -3703.1158160032296, -6774.653046655609, -1729.3923067817448, 12446.599885509453, -11243.62342808526, -4092.8580175571574, 12211.43859285001, -8392.950666853289, 2928.191974942651, 12231.220261043063, 1959.716312939966, -1990.725025679127, -1030.0537185450405, 9383.32893117741, -8840.619414780966, -3841.7826486965605, -7312.054579303104, -6436.547537801414, 3618.9234116990533, -8470.00172932576, 8805.366559998538, -9690.881880851637, 5028.968550223161, -12020.580021022, 10998.282008209431, -948.6403178220944, 10754.947265354884, -889.2312853219693, -11773.55786574942, -9906.426988621655, -2584.6486637841467, -7191.286170689751, -4415.774343565762, 3618.9234116990533, -10519.286289984952, 10470.254143001188, 3618.9234116990533, -4263.801302915118, -6104.093839599303, 2953.341900719674, 1219.5684659502874, 3957.744723094136, -2693.5608049936177, 12327.635368270252, -5842.2623377260925, -747.9983015503706, -148.60819856565018, -4686.736773706412, 8843.234286640252, -5231.921963191184, 6456.9176061289245, 10284.28959413467, 2423.489752857852, -4484.5091535391475, -11310.84099270784, 3352.636282804754, -4926.130282934242, -10905.24971798649, -2931.7125319095303, 3864.415702399953, -8431.486856327025, 3167.7311672339133, -9600.045141422688, -3179.4132368366786, -6089.518072604575, -5232.045759184691, 7359.028160523627, 8547.319700757578, 935.5423889654287, 3505.3737894272117, -4686.736773706412, 9255.319321683222, 156.6787644275231, 6514.7884453499555, 8870.057541485297, 9311.127878703637, -1133.5920961314218, -11310.412031549948, -11384.53783832117, -10985.560200568869, -6091.758109191315, -12020.580021022, 1622.7385931061654, -47.3038589270407, -4091.875803727749, -3647.6036311470593, 5868.254006421009, 3233.4769725940855, -8697.459905389902, 9321.421225830492, 341.4769948501284, -11038.053586926791, -440.4428788799622, -2452.0770012650546, 9887.28971783766, 6773.4951247301315, 4269.539223542081, 3324.5003321486574, 5899.529015505052, 3324.5003321486574, 2177.5490571177784, -11652.939768711525, -11038.053586926791, 9604.000134325233, -1803.7072845338357, 2754.569119460629, -7575.229750639683, 686.6626393822456, 10470.254143001188, -3881.638651557668, -9214.488409973883, 11085.388105479342, 935.5423889654287, -6560.084543124521, -11243.62342808526, -47.461561029273724, 680.1313269724739, -1953.4678269078984, 10064.619398796596, 4948.324313351883, 7101.61800193968, 6826.278536845742, 9432.449338949966, 11949.436075898424, 5262.647000544566, 12027.544682937172, 7101.61800193968, 6784.698120182585, 2713.4358618116757, -5753.107343663075, -8039.327953201999, 3167.7311672339133, -2806.033590525718, 11253.511247226701, -3820.9387147106627, -9004.109296884599, -8069.7238627097395, 1697.9212611045778, 7101.61800193968, 11816.723456226418, -4159.438351611594, 2424.0541116814734, 12351.840607755326, -5524.224575696456, 5224.247322228008, 8670.045168921823, 1268.499033434884, -5776.588414445882, 9074.157249896696, -38.70785634145431, 10187.498567670793, 9604.000134325233, 3992.5943629913136, 2621.944340913951, -10685.585592257261, 10343.851370851395, 1972.3635634072855, -4484.5091535391475, 544.7808924217267, 12173.670431924376, 6562.406134341857, 6514.7884453499555, -8877.182163983172, -9178.859213297677, -5556.640345485038, -4576.236087409019, 8244.62417782756, -5268.898063616822, 11825.023256709994, 7932.262042833942, 11789.769534119709, -8634.737082196494, 8504.716255658946, -10015.758844572983, -10260.454338512762, 3693.9193762790246, -5949.899798864311, -7320.752992337919], \"xaxis\": \"x\", \"y\": [-5555.632939163731, 3575.1561296399555, 3366.778208977115, 4971.52741327544, -3737.8212889206825, -281.16707941882294, -312.05319304986733, -709.8627723775397, 1570.1686263543547, -871.5712801675392, -3292.998719286111, 1.2382534086447516, 7130.717452789965, -3416.675721971223, -1784.9135263588882, -5060.952904394542, -1560.1018676576991, -3316.440572319303, -4009.2442147960105, 3882.144129563081, -1957.7051874616907, -1900.8271303617937, 231.5729300887731, -1206.2812642683596, -4515.647223778402, 12451.76652950686, -4112.729002651153, -3881.533777113103, 9481.118334094152, -3188.496671772496, -4112.729002651153, 7318.603449289806, 591.0783853609106, 13786.909883915225, -1284.6045227760178, 4617.329822437624, 7151.433897904705, -3579.8922801562135, -4112.729002651153, 3366.0686587739956, -3149.8613147070832, -3595.781588473042, 665.3391160126401, 3277.471969194362, 1273.9834783360934, 776.5608196907613, 220.56357790604847, -2459.9809946497267, 2407.2575207196214, -532.7206307380691, 5062.270596048462, -4216.477355733306, 2072.2732816682737, 4262.736535639, -1959.081842433913, -3316.440572319303, -3316.440572319303, -2528.0110698703847, -2998.7417606970503, -626.2030676216776, -4086.6182781154434, -1661.0084743223924, -3526.6326634899547, -3250.0620928915887, -3402.0315353969177, -4052.777980894334, -3403.2346670678307, 424.11177477729376, -2527.358520578614, -4886.847672997201, -288.0611330494047, 8949.023058586386, -2406.8509734483155, -1421.334505431212, -1724.7634515593115, 1581.5096829102351, -2415.8044181796213, 1732.1067817732321, -2124.4346744950394, 3695.7705933478387, 12502.996686714778, -1130.9798072071062, -3737.8212889206825, 12713.531721607895, -3592.778370843158, 7420.085072702806, -3152.9087966423085, -3724.585446584339, 3366.0686587739956, 5233.171692523367, -699.0411798627835, -2302.098908816995, 147.2010044387992, -3886.2907175072232, -3356.8498038839184, -4112.103943008763, -2528.0110698703847, -3454.2213228529927, -3096.0183144505036, 4655.52584523869, -962.8100427822941, -1604.9789160678024, -2902.864627064212, 4117.3995167807625, -2995.8324910182896, -4778.347731780405, -1706.4583630537313, -3465.253002014507, 664.9300827079845, -3306.409155326949, -828.5107798178192, 4176.462225220303, -3510.061436583821, 752.52340804666, 3916.66512173834, 1581.5096829102351, -3059.069602703612, 3872.9725342066295, -4397.600193507345, -866.8158514999799, 4231.914493255421, 2001.3283489603803, 3025.6772891849077, 933.7441746049323, -3562.4883961774453, -629.5113032127598, -1636.7796232743983, -236.41518038607384, -3040.642385552617, 2862.236108159115, -1518.3267691557862, -4133.155881118118, 1913.1204292903144, -3140.230926531984, -3770.8563911945535, 1310.9008260634243, 10652.364961082116, -3053.346186558284, -853.2770386206772, -974.6982475045776, -166.60471366839081, 7151.433897904705, 4861.3310092976335, 132.43407039928405, 2084.408648768147, -3562.4883961774453, -1151.1790480856223, -2995.8324910182896, 2862.236108159115, -1638.0734694697248, 3882.144129563081, -3008.1595296542787, 4279.665098164818, -3237.300065253094, -3168.769005689807, -3070.977751478986, -3530.6482034473474, -2107.600349097913, -3140.230926531984, -1732.230372492034, -3021.254846461995, -1628.9227345305405, -4322.365666786077, -2266.9194968120582, -117.63474119059356, -3122.5536695485, -3420.700249406859, -4127.031897422847, -3513.992699898031, -1386.4943158641356, 3642.160243612861, 4233.6694264357875, 3829.9158120946186, 10382.757938615925, -3347.5575123982794, -2790.242620130322, -2726.3605082266686, -289.22797877584566, -318.80376297632137, -4051.8149183588876, 2813.4564514150193, 13512.43920771775, -2060.8274184968186, 6154.273546504884, 699.4875142741766, -287.31170906593644, -5060.952904394542, 4362.422905579316, 1814.6132667945099, -4641.768588903157, -1646.806593448968, 4176.462225220303, -4322.185795287819, 8177.239789080376, -61.441418004377276, -3524.9048996546317, -4270.072661910238, -4778.347731780405, 1444.531871563866, -2218.3072171054177, 220.56357790604847, 686.6679910829101, -2998.7417606970503, 13073.560062321942, -1539.2810509184067, 3736.2882286076315, -3404.441368420292, -853.2770386206772, 6136.616429035771, -4943.234492134461, -4463.938824480256, -3547.93324930637, 1.2382534086447516, 4009.344443860295, 2862.236108159115, 7130.717452789965, 191.1769039321671, 246.29661006006273, -2435.0366691308295, -3840.134711280298, -3608.63658852207, -3524.9048996546317, -188.35431605218668, -2296.3791979730745, 1216.4594685177917, -1547.358510823868, -1739.063582983989, -3140.230926531984, 3185.016587465613, -509.49489265765556, -61.441418004377276, -1560.1018676576991, -974.6982475045776, -3416.675721971223, -649.3581116916267, 326.7145152948933, -2790.242620130322, -3146.234511332237, -2661.261081950388, -1169.5066619061352, 8930.433484892437, -3018.5726440650487, -1336.4686118587513, 816.3619240264087, -743.1590762156882, 12216.65405085228, -2245.8269616953617, -312.05319304986733, 7782.743852514105, -4086.617510401603, -3636.769948239882, -188.35431605218668, -3268.5543008921445, 518.7308396439518, -3059.069602703612, -853.2770386206772, -1973.0435512474999, -2631.621283798483, -5060.80099034782, -3215.939716413761, -521.3314480669601, -3906.496230550227, -381.3056040547732, 2909.87765030952, 4299.384928869817, 1719.6875068033983, -4119.831289427225, -1916.8657897882674, -112.35023061517008, 1504.393244329854, -188.35431605218668, 7130.717452789965, -3070.977751478986, -3295.2165855062685, 13385.087308695222, -2873.5628625979384, -3465.4751268414934, 4726.34236418923, -2066.511034828972, -3014.243525604119, 220.56357790604847, 4176.462225220303, -3018.5726440650487, -2543.612434245604, -3103.1037362537045, -3016.9319933627266, -1130.9798072071062, -3495.5279577828396, -3480.9020578035393, -1299.8790792948132, 7953.8398163003385, -1039.3360375681682, -1136.8064065100102, -1127.5116575599657, -4442.635039279343, -61.500425667156186, 9693.9509273403, -4186.15195244572, -969.0063145853271, 4584.409817631804, 44.42779626190321, -874.4524816588961, 3019.873605805012, 666.855763479764, -3285.453152062562, -3737.8212889206825, 3736.2882286076315, -3295.2165855062685, -1968.951734789726, -887.3912577071424, -230.80689348759668, 5474.5724399515375, 214.07953862522425, -3737.0633630683456, -1375.8495188247064, -649.3581116916267, -3933.3784472858247, -3460.2252869380713, -1330.9807922569107, 402.87242146291953, -872.1699936315588, 220.56357790604847, -3108.87092090398, 10612.776698644042, -1709.1246696179412, -2678.8187684862364, -2851.1371128983596, -589.2198645364693, -3562.9270646038676, -880.5857314992667, 5156.217348009294, 4497.458664984115, -2543.612434245604, -3454.2213228529927, 4848.67462363267, -1496.6848533747182, 6075.342682116917, -3564.8006180122957, -540.4037925290327, -1948.3946160070536, -3027.5181929747473, -1130.9798072071062, -4011.0077816686194, -1448.7797962635443, -1249.762304076009, -3564.8006180122957, 12788.373238659504, -4283.286692099943, 9031.325028105312, 2331.1168647024906, 3043.290211514423, 4952.837500464887, 1008.7375551452136, 10839.486727919253, -971.8967370705076, 5705.212244945881, 914.6298812828073, 2304.684908266149, 888.7828161110016, -1743.6237278348494, -2750.9269856243964, -4054.613991520855, 4488.615231276808, 4206.307434291968, -4463.938824480256, 4975.444819238883, -3304.4674823980554, 674.2837234651444, -3792.1215771818343, -2750.9269856243964, -2560.9245447116346, 2153.6934861705354, -1448.377967385329, 8930.983243530016, 429.7199556824748, -5060.80099034782, 2173.8792324713127, -668.3547484395493, -3684.2612203354984, -793.0517662038236, -312.05319304986733, -3538.6228774517053, -3292.998719286111, -3013.0768989936105, -2750.9269856243964, -2928.7973420813246, -3647.629126322144, -2995.8324910182896, -3462.1215827223905, -1141.0442240096224, -3513.992699898031, -227.03150704331344, 5637.963647287349, -1151.1790480856223, -2873.5628625979384, -3040.642385552617, -3491.556497633248, -2998.7417606970503, -3193.9285023692114, -1891.9335097805163, 2729.501494663427, 7130.717452789965, -3538.6228774517053, -376.71002800115724, -148.7445580724605, 2212.0202059384374, 7130.717452789965, -2302.098908816995, -2481.9890957939365, -3404.5353113926767, -1842.1367614568255, 7534.312007187529, -793.0517662038236, -1849.8608658719456, -3307.6210749099664, -1948.3946160070536, 8449.307546313517, -3373.208635172786, -1905.182103061947, -1009.0316952261295, 1581.5096829102351, -3149.8613147070832, 3993.854014025454, -3373.208635172786, -743.0661773778531, -3096.0183144505036, 402.87242146291953, -1716.9223395491592, -399.4129002885865, 6994.14617777784, -1079.1715785993172, -3121.075246151684, -4348.624469224233, -3140.230926531984, -3042.900810504219, -1768.6009915468421, 12685.06530552533, 770.3182818180956, -3215.118656668849, -1176.7783445921616, -3383.289563410025, 1184.4882250314267, -2725.8911244211886, -1130.9798072071062, 9726.108440294358, -1477.2363662025994, -342.22868880563664, -3564.8006180122957, -3776.931445623358, -4778.347731780405, -3524.9048996546317, -2810.5600556317586, 3872.9725342066295, -1082.5422431404254, -3126.652823553856, -3525.062017571046, -1179.9209445494362, -3373.208635172786, -3564.8006180122957, 3454.8118357330072, -592.7101268715772, -658.9418616034933, -3168.769005689807, 4948.278853078309, -2086.369803498188, 2093.1890311632496, -1935.8860336597565, -3534.9413932564717, -4471.601700991812, 7083.128055359573, 3014.279113417574, -2872.235577093529, -188.35431605218668, 4159.31154455033, 7570.063474970174, -1979.6800838817428, 13133.373092345808, -2601.7494227412726, -188.35431605218668, 15.825510087530812, 1416.7971658688746, -2043.585897704847, -2267.357995400516, -3107.729633314852, 12713.531721607895, 1752.638886811803, -884.578786484485, 7277.0855053032265, 554.459678360031, 4211.289468882889, -148.7445580724605, -2971.6606204604154, -1635.8559511511473, -688.242690228071, -1157.4708141027006, -4886.847672997201, -3365.7742745884325, -510.307946336934, -425.0000863282434, 3366.0686587739956, 1814.6132667945099, -1396.1396908466143, -2740.374001541586, 11727.98694266349, -2527.230940498941, -1167.4126699923856, 638.0386559324888, 2781.8124400757747, 6797.225518807019, -2750.9269856243964, -3840.134711280298, -821.136849420181, -61.441418004377276, 12817.445644079557, -1130.9798072071062, -4112.729002651153, -3292.998719286111, -1286.023094091983, -3044.4824304477947, -4214.699224275871, -1310.2987958194292, -4544.505824759691, -3393.2618093672904, -3512.5098563927713, -821.136849420181, -171.4821105530666, 4638.490999294635, -1979.6800838817428, -1158.7645171804193, 4206.307434291968, -3495.5279577828396, 7648.140609509393, 891.2252299484466, -2987.509348277265, -3250.0620928915887, 3499.5532774052726, -2792.8534195457855, 12979.784706029817, 2153.6934861705354, -3078.9948313622303, 3820.842425366654, -2406.8509734483155, 11850.674736563236, -2370.660325376249, -2262.832021015937, -2987.9816902251664, -1012.4353442610859, 3689.0311039001267, 5426.324698571074, -1705.2425021127601, 4167.01857351148, 5251.315612134564, -3699.8765610064866, 13512.43920771775, 12397.463131574186, 11465.461211594691, -3592.778370843158, -162.18090792048017, 4146.222545660995, -4463.938824480256, -3070.977751478986, -3923.662233568377, -2863.98870786639, -3721.049023326159, -3701.2264845096015, -3636.769948239882, -757.8349694073082, -649.3581116916267, 551.4484797733202, -2750.9269856243964, -1522.4963961846663, 6500.885607853371, -3737.8212889206825, -2294.076889364819, 2071.7402250211217, -3792.335451485098, -3553.3432123642738, 8037.616433012819, -2614.6454653986016, -1991.142862328533, 4825.264155408211, -4283.286692099943, -885.1281327891628, -3612.012266740225, -974.6982475045776, 2909.87765030952, 8029.050385825073, -90.04937822055363, 4009.344443860295, -318.80376297632137, 683.3662988517669, 8906.994715249342, -2528.0110698703847, 4655.52584523869, 7586.958100363162, -709.8627723775397, 5190.181509048121, -4020.0920101422166, -3356.8498038839184, -3737.0633630683456, -709.8627723775397, -3237.300065253094, -3286.9760137105086, 13512.43920771775, 4234.597392999673, -3373.208635172786, 7166.126897353913, 2072.2732816682737, -3167.46208973555, 3882.144129563081, -4112.103943008763, -3657.936140346532, -709.8627723775397, -3881.533777113103, 1074.181702184735, -2987.509348277265, 3882.144129563081, 5177.841015961109, -3861.2277516353793, -2725.8911244211886, -3595.781588473042, -4411.454839225366, -1232.1540621664203, 834.5421226795323, -2951.1979304620527, -3702.507962902432, -1795.1900853905317, -1518.3267691557862, 7130.717452789965, -3933.3784472858247, -2867.9027326837845, -2418.8704111762213, -4196.454159754945, 307.6866699773703, -1739.063582983989, 12624.068691393677, 1979.74749130467, 1081.3685720542621, -318.80376297632137, -1497.067515911081, -3419.588361141872, -3249.8717640385867, 8176.939456569774, 12713.531721607895, -2928.7973420813246, -3226.817450261566, -2594.8963383624273, -3268.855358123193, -3834.1148477835977, -3840.134711280298, -4214.699224275871, 2909.87765030952, -848.0730596834823, -853.2770386206772, -1059.2297874142137, -1488.1976997957706, 5190.181509048121, -3168.769005689807, -2928.7973420813246, -1518.3267691557862, -2991.440726349872, -1215.894057802572, 7130.717452789965, -2060.8274184968186, -3295.7438182402657, -4198.863038461154, 4206.307434291968, -3945.2175192325853, -1881.686120436382, -3035.7767057350234, -3562.9270646038676, -2008.6635325364177, -3025.1091157761116, -3846.7122407052984, -2157.84552976454, 7060.432404511951, -4427.9585492158385, 13512.43920771775, 13095.418110661189, -102.01078147118614, 13513.372836175995, -3636.769948239882, -402.0520952396943, -2107.600349097913, -4094.8645405891157, -1745.6493518851998, -4778.347731780405, -3292.998719286111, -2789.6242785551126, -2996.676329073351, 13197.692797372192, 237.30417033721966, 6282.195681163404, -3933.930390814918, -2877.9743916774687, 367.5169828910532, -1127.5116575599657, -4641.768588903157, 2814.4236369648843, -3524.9048996546317, -3814.2379158472413, 4262.736535639, -4914.342749679077, 2909.87765030952, -312.05319304986733, -3184.985096133141, -1399.9852634362078, -81.013914616649, -3070.977751478986, 4286.537915046854, -508.660546500565, 12570.860644550788, -3773.7525609465406, -188.35431605218668, -1569.6255639494714, -920.8258590365058, 13512.43920771775, -441.3208937547091, -582.6856301029329, -3059.069602703612, -3383.289563410025, 4406.900535911682, -1604.8683343190614, -793.0517662038236, 13179.540232937847, -2954.8483857849155, 3185.016587465613, -3533.435650947433, 13775.887380749433, -1572.5987701804568, -3292.998719286111, 518.7308396439518, -2418.8704111762213, -974.6982475045776, 963.3137470008716, 13724.624461832256, -3723.7231801179214, 769.8722157518683, -3121.075246151684, -102.01078147118614, -2810.191583513965, -123.34310739800108, -5555.632939163729, -3096.0183144505036, 7130.717452789965, -1766.9216738211255, -1210.3374136205675, -3027.5181929747473, -1948.3946160070536, -970.8614818416901, 2279.6159974489983, -2106.1304074696395, -2118.9784149717543, -2060.8274184968186, -3861.2277516353793, 12840.305808179659, -3454.2213228529927, 10774.050489954961, -3268.5543008921445, 708.9307325184869, -2800.2929608204226, -3495.5279577828396, -842.4471886298331, -3277.3010790060093, -3608.63658852207, -781.4635462112001, -4053.9265456313774, -790.7452867865702, -3596.0743364815503, 6500.885607853371, -793.0517662038236, -2635.3202921268135, -2544.1867095054513, 2180.608968885962, 4812.027948708662, -1611.7294015145744, -2302.098908816995, 10836.445341929957, 3981.1189493214715, -821.136849420181, 3695.7705933478387, -2579.863323034794, -1945.1787250451273, -4270.072661910238, 3882.144129563081, -3004.7570494309243, -515.8784836224585, 14207.312533986586, 452.5328330796025, -1130.9798072071062, 5190.181509048121, 130.26896659234106, -78.71722185075161, -2296.3791979730745, -3497.4823588738113, 13030.802077383694, 2909.87765030952, -3528.683987793566, 7488.176569653666, -1529.000460428128, 3400.16044184347, -1151.1790480856223, -1711.3062338830737, -957.5235098427833, -1942.6510183709731, -821.136849420181, -3936.79085488838, 2067.599602268303, -3466.178659067097, -1942.1527526084199, 3577.429820751302, -2822.0113735270807, 13442.018178885346, 4231.914493255421, -1078.7160662002086, -3412.536588057778, 12785.574127975444, -2190.3792654315926, -3737.0633630683456, -3095.2182562824883, 7929.90515870762, -3331.243656334566, 1.2382534086447516, -3103.1037362537045, 660.9841761434781, -3140.230926531984, -3701.2264845096015, -203.33309434725072, 10001.352272358063, 326.7145152948933, 1529.5332726377312, 1621.4724471447569, -2107.600349097913, -2118.9784149717543, -352.3703580164755, 5190.181509048121, -3566.717372773027, -3613.91094957555, 6500.885607853371, -3844.571191939931, -4035.1746119966488, -2713.145163128822, -1904.1905025944125, 12982.793904782366, -2750.9269856243964, -4554.856085624251, -3737.8212889206825, -4322.185795287819, -3309.7234147640784, -3626.0124921256383, -4283.286692099943, -2955.438321903924, -4554.856085624251, 1140.6532962731417, -628.4799449669584, -2112.514728953617, -61.441418004377276, 5190.181509048121, 4176.462225220303, 1508.8181818229184, -3213.515865190434, -3840.134711280298, -660.6949381890413, 12713.531721607895, -4214.699224275871, -1052.2759247217066, -3840.134711280298, -3199.5550610185246, 7130.717452789965, -3592.778370843158, -1336.4686118587513, 423.41639552702804, -1760.3772409936985, -1900.8271303617937, -876.5592718785599, -104.18867038178975, 9825.834446341978, 5492.897831448152, -3639.000897935641, 13943.252460473368, -3140.230926531984, -3193.9285023692114, -2968.1940259501407, -711.4487057093279, -3465.253002014507, 3736.2882286076315, -2899.7804323467285, 3467.9660865034252, -2043.6229075089307, -793.0517662038236, -3776.931445623358, -3013.0768989936105, 1185.789039982238, 220.56357790604847, -3737.0633630683456, -3279.6701992892276, 3882.144129563081, 3372.9420142706517, -2981.4266706099534, -5060.80099034782, 4262.736535639, -2395.159116334303, -374.9151532484515, 11122.08234850936, -4133.155881118118, -2543.612434245604, -3292.998719286111, 11139.385871975397, -709.8627723775397, -4332.332358074841, -641.8448133050538, -2174.937026350416, -3737.0633630683456, -1346.4788346492535, 13566.325010678607, -1560.1018676576991, -3103.1037362537045, -3331.243656334566, 9990.644088099627, -3268.8928882004925, 2001.3283489603803, -1762.8878936391036, -2528.0110698703847, -3149.8613147070832, -4053.9265456313774, -3608.63658852207, 3954.942659333025, 12186.900981552735, -743.1590762156882, 1527.8540245715003, 2949.3696854407995, 933.7441746049323, -3659.383538252594, 1842.5945697393884, -3513.992699898031, -3855.2358094438337, -3968.850584758287, 1927.277244428893, -3840.134711280298, -2496.520285470775, 13307.124660965526, -1613.0424117852692, -2987.662327855533, -2873.5628625979384, -3701.2264845096015, -312.05319304986733, -3454.2213228529927, -998.9557475958715, -879.3709390646472, -1151.1790480856223, -3383.289563410025, 11033.407236774417, -3316.440572319303, 11266.770968719833, 68.21230457036808, -3140.230926531984, -3161.928729110584, -3774.4888953575, -3801.5093656089816, -2324.2490680558394, -4886.847672997201, -747.9354850593998, -3912.997085440772, -4645.639487433713, -3295.2165855062685, -2750.9269856243964, -2851.1371128983596, -1873.7892457975204, -3562.9270646038676, 4009.344443860295, 9285.774039345497, 457.4657135132732, -369.53530621108905, -3608.63658852207, -4886.847672997201, 3019.873605805012, 3736.2882286076315, 13512.43920771775, -1411.335146868786, -1752.227190485278, -3640.6661643335924, 816.3619240264087, 4978.744214742466, -2873.5628625979384, -2343.963986852939, -2890.9016392498247, -3310.626259512788, -4778.347731780405, 2816.891020412183, -3933.3784472858247, 5165.353569529066, 3298.0640722429266, -2939.3631236983683, 192.46968086209483, -2552.1483263351465, -81.013914616649, 3467.9660865034252, -709.8627723775397, 128.18795418561652, -2418.8704111762213, -2928.7973420813246, 7557.797645232136, -3140.230926531984, -245.62830908501985, 12709.157152976535, 864.0884197557594, -3885.7459667733137, 2862.236108159115, -2215.664249458733, 4009.344443860295, -3608.63658852207, -3465.253002014507, -3142.5284244906043, -3564.8006180122957, 2909.87765030952, 400.2330392186259, -2986.389309550081, -1299.8790792948132, 4086.1371060746474, 4311.71166924375, 3042.8774556064823, -1299.8790792948132, -3103.1037362537045, 1184.4882250314267, -3027.5181929747473, 237.7244402579434, -3968.850584758287, -2536.230105031829, -3513.992699898031, -611.6820288912098, -441.3208937547091, 5166.173039766765, 1393.337046963453, -1802.320203888253, -2851.1371128983596, 170.4465270337571, 4812.027948708662, 11196.417972133955, -2749.92062380405, -3564.8006180122957, 4262.736535639, 7261.976099439396, 748.1043015749578, -2726.3605082266686, -551.372818845556, -3018.5726440650487, 787.1396219539974, -3316.440572319303, -2426.6184291044237, -3814.1506257071273, 304.0465878453996, -3152.9087966423085, 12480.648504501656, -3466.178659067097, -4937.282026336156, 11191.600057220565, -2914.808569924875, 876.1336324938114, 6282.195681163404, 4109.4124689338405, -4112.103943008763, -3757.1162477896014, -3538.6228774517053, -1026.1843380362868, 13512.43920771775, -462.51120648892686, 1648.5633118956548, -1555.0745151592287, -821.136849420181, -2790.242620130322, 14417.664545170874, 2222.6872235960154, 13.645791361702564, 1285.3903664946945, -3564.8006180122957, -2792.8534195457855, -5064.9344434396335, -2657.1193679865455, -2872.0098585069163, -2914.808569924875, -3906.042652376062, -1176.6759825632123, 5827.519538026154, 2066.4654431410486, 869.6227271820204, -1701.2030774212565, 1.2382534086447516, 10531.723188579557, -2939.3631236983683, -2650.4812235136137, -3004.7570494309243, -2546.6532813018753, 4176.462225220303, -1136.8064065100102, 487.15941519584453, -832.6377759738835, -1823.815970954052, -1743.3389247912241, -3042.6652919723497, -1743.3389247912241, 3185.016587465613, -3792.335451485098, -2873.5628625979384, 3736.2882286076315, 3679.5260651925023, -1357.4792212983762, -2217.5106497181696, -1743.3389247912241, -3040.642385552617, -2245.8269616953617, 13772.854770100845, -3342.6970019210257, 5472.52965117395, -3004.7570494309243, -3250.0620928915887, 1429.6434426703743, -2939.3631236983683, -3886.2907175072232, -1983.18456415869, -4149.830380714789, 7151.433897904705, 688.0025410140279, -4247.977520265504, -2302.098908816995, -3533.435650947433, -2939.3631236983683, -3275.7819804156957, 3270.300144658989, -2052.9622260697215, -1119.4479121440158, -1815.0033384286492, -566.07464387771, -3491.556497633248, -3933.3784472858247, -1048.1448503216582, -4112.729002651153, -3600.0182843597727, -4914.342749679077, -5060.80099034782, -2632.418846324027, -139.20626694735887, -5060.80099034782, -3770.8563911945535, -3330.594762614087, 10590.773088966856, 2869.1707246430915, 1416.7971658688746, -3237.300065253094, -3564.8006180122957, 152.0053395814791, 1659.0982615459159, 11202.017763134465, 12180.949141643025, -3121.075246151684, 5190.181509048121, 4962.5354832986295, -3431.303916632749, -743.1590762156882, -3078.528472514226, 7794.891079594168, 1810.2116518982464, -2988.0167204812665, -3237.300065253094, 12238.254107207993, -2998.7417606970503, -3814.2379158472413, 14175.594031937195, -2579.863323034794, 4009.9276160520453, 6166.013226995743, -3737.8212889206825, -2877.9743916774687, -4625.504525765001, -447.84059461584735, -3538.6228774517053, -2550.7697634529504, -124.79139416797304, -743.1590762156882, 11858.660462485563, -984.3570083216133, 4455.204056347126, -1441.3852632431967, -1137.722482284238, 1205.1174678139982, 12558.46240885865, 12095.29380946646, -2118.9784149717543, -4544.505824759691, -2461.604832938671, -1567.6715927927619, -1900.8271303617937, -2800.9198971467904, 10906.096790910515, -3307.6210749099664, -2995.8324910182896, -3022.858433983904, -2792.8534195457855, 5345.926199144524, 4863.768181391468, -2387.8443875187013, 2362.4184202616434, -3466.178659067097, -3653.1503421632715, 1268.2006918721709, -1824.8938252709972, 816.3619240264087, -1559.7064073230576, -4645.639487433713, -3059.069602703612, -2913.1692087476404, -619.4040993826184, -2792.8534195457855, -3192.8099189149398, -1578.6696143083484, 4060.23742969448, -3100.8306180478894, -3538.6228774517053, 3366.0686587739956, -4264.72580329655, -802.1381668914806, -858.6672272132691, -3199.5550610185246, -2350.0912562547314, -2148.2868294113355, -3814.2379158472413, 209.53874345471425, -3131.8835250567695, -1948.3946160070536, 4262.736535639, 13260.370119046576, -3730.266347223255, -2881.055075409645, -1082.6429264273606, -2.7159348424118166, -1032.8707150249181, 139.68106306186215, -4053.9265456313774, 3454.383685774838, 2839.4987626079915, -3626.0124921256383, -188.35431605218668, -594.6032075862591, 816.3619240264087, -4645.639487433713, -974.6982475045776, -3905.5983613924823, -90.04937822055363, -4086.6182781154434, 2001.3283489603803, 6136.616429035771, 893.8074738315916, 3736.2882286076315, -574.3254956484224, 326.7145152948933, -2951.1979304620527, -5064.9344434396335, 1975.3707582844347, 8449.307546313517, -4544.505824759691, 11326.00218534651, -3013.0768989936105, -1560.1018676576991, 259.1044618117451, -2528.0110698703847, -1723.2942351494587, -1739.063582983989, 6500.885607853371, -2773.6302082402967, 636.061839681316, 2153.6934861705354, 1433.4978809710776, -2670.7671205518122, -3199.5550610185246, -3242.184284526853, -3466.178659067097, 7194.218928331406, -3167.237637509335, -3140.230926531984, -1636.7796232743983, 82.15013811452354, 9100.97510328645, -959.5863044876324, -3236.442586612648, -1948.3946160070536, -1473.29763512922, -2579.863323034794, -462.49936862167976, 13681.164311415227, -2998.7417606970503, 7847.770838584692, 2264.906872462404, 7122.338123532932, 4231.914493255421, -940.3889403783675, -3103.1037362537045, -4054.613991520855, -3310.626259512788, -3200.5932481172413, 13123.486050838997, 13566.325010678607, 14037.771895935197, -3167.46208973555, 4231.914493255421, -2082.186073254633, 2371.94421125323, -1608.9482626881716, 1238.2799481309858, -2678.8187684862364, -2715.4913331745447, 4812.027948708662, -1625.0185979362948, -3579.8922801562135, 4812.027948708662, -2860.551358413496, -3814.2379158472413, 2213.038910634882, -4035.1746119966488, -2996.7521852653717, -1229.316087259631, -2998.7417606970503, 9577.096628268293, -2087.8322637078313, -2831.620413055917, 390.56814141947655, -2433.9160196257935, 8095.849452665948, 12713.531721607895, 1059.6404132488328, -3004.7570494309243, 1810.3788961981525, -1229.316087259631, -1956.38080479626, 710.705324826049, -1215.2550569049838, 1814.6132667945099, -487.0936197742334, -1472.3211268461037, -2849.607375673877, -1953.3031943117535, -2779.782202751702, -1948.3946160070536, -2951.1979304620527, -758.122797760356, -5060.80099034782, -832.6377759738835, -3108.87092090398, -441.3208937547091, -102.01078147118614, -3237.300065253094, -102.01078147118614, -3861.2277516353793, -3237.300065253094, 1416.7971658688746, 4064.561845827998, -3885.7459667733137, 14316.162700035686, 326.7145152948933, -3933.3784472858247, -879.3709390646472, -649.3581116916267, 2075.3699084651857, 3758.1971744856933, 725.2257567024443, -2709.612058075498, 933.7441746049323, 14201.321163804914, -974.6982475045776, 7130.717452789965, -3307.6210749099664, -2069.7306412402954, 7875.983992764059, 4329.852187292335, -3387.3912226843863, -3498.743150329991, -1518.3267691557862, 8577.780649289763, -2276.620159014979, -2876.5874057360234, -3237.300065253094, -5060.80099034782, -3416.675721971223, 6694.3601847131795, -1766.9216738211255, -1277.413603999928, 12181.484985570514, -3923.662233568377, -2945.103166859031, 2297.7278972867307, -4086.6182781154434, -3579.8922801562135, 655.0778184258643, -2877.9743916774687, -2296.3791979730745, -540.2222052879215, -1296.2850896899838, 12573.811881028769, -3108.87092090398, -3226.6653436963775, 13566.325010678607, -3431.7314651813454, 13528.030226511542, -3518.4167794079613, -3074.951100068078, -3573.848554502577, 3872.9725342066295, -3495.5279577828396, -3168.769005689807, 528.47879827139, -743.1590762156882, -2873.5628625979384, 10267.413833242703, 2473.7446067567626, 5190.181509048121, -2877.9743916774687, -1900.8271303617937, -4463.938824480256, -3861.2277516353793, -635.6043972618203, -3059.069602703612, -1039.4506392397059, -3562.4883961774453, -4233.048632833674, 1423.6934170065292, -2726.3605082266686, -4554.856085624251, -3292.998719286111, 11416.758636959992, 10752.214935128774, 4655.52584523869, -3316.440572319303, -3431.1151117064824, -2416.6639758856463, -3878.559656334313, -3314.477425854302, -1900.8271303617937, -3152.9087966423085, -4171.317624693784, 886.1662505635974, -2459.9809946497267, 6497.207622687118, 13319.81978481183, -1580.125392848594, -3357.2217595812026, -1594.5525601236302, -2304.078760772685, -2678.8187684862364, 12519.73900051268, -2701.607241347007, -3115.453561463303, -3495.5279577828396, -2799.706742884391, -3232.4670639213377, -2686.1538440593313, 1001.0554970233661, -3729.5422115958027, -1151.1790480856223, -2188.4341063050656, 137.18025479628142, 2223.5752620384524, -977.18281435952, -4133.155881118118, -220.58462914570305, -1576.3531609553706, -3495.5279577828396, -372.7157922218298, -1472.3211268461037, -1791.923977712775, -2995.8324910182896, -1813.879024856539, -698.0719601911142, -3495.5279577828396, -148.7445580724605, -2715.451844417156, -2998.7417606970503, 7600.736711287727, 1581.5096829102351, -3592.778370843158, 4473.410683506593, 4854.164602449383, 13566.325010678607, -3329.333533962065, 3093.7567266333754, -4817.119100993693, -3626.0124921256383, -1002.7579834044238, 2533.3939630852133, -1.9016140514920485, 4812.027948708662, -4641.768588903157, -4480.757585826385, -1148.174178737065, -1299.8790792948132, -3592.778370843158, -3780.1048073892803, -2980.5134795691874, 688.8030329828597, 3019.873605805012, -2636.3610126243807, -3295.2165855062685, 3995.2290692809765, -4645.639487433713, -81.013914616649, -4463.938824480256, -515.5691731954626, 4968.262030816141, 4678.47469020118, -3608.63658852207, -312.05319304986733, 363.29668593619505, 4167.01857351148, 492.7642677928336, 112.84748048345685, 8449.307546313517, -219.49528702894284, -1625.0185979362948, -1229.316087259631, -77.82169433107036, 933.7441746049323, -2792.8534195457855, -3140.230926531984, -3140.230926531984, 4885.84754314262, -943.1149059653179, -866.6497698831029, -2507.248602601315, -2790.242620130322, -11.71745588947093, -3881.533777113103, 7130.717452789965, 11872.422659062478, -3636.769948239882, 4231.914493255421, 8029.050385825073, -3469.5176568053876, -3283.8604029338644, -2528.0110698703847, -1215.894057802572, -2939.3631236983683, -2107.600349097913, -2528.0110698703847, -4322.185795287819, 12144.330850053802, 429.0677839217109, -2493.4096372884505, -2418.6058097963464, -3339.01603310872, -3331.243656334566, 6741.073402102252, 3872.9725342066295, 715.5354954320491, 2909.87765030952, 3893.7752655133827, -2995.8324910182896, -2888.6417809159434, 12713.531721607895, 4905.243241807258, -334.6831712806667, -1229.316087259631, -2970.8884155978317, 4206.307434291968, -3480.9020578035393, -3534.297765757008, 324.7884973763374, 6483.160109329833, -4259.24063167964, -4061.7502831675006, -3310.626259512788, 4861.3310092976335, 177.30819887487192, -2230.329915620474, -793.0517662038236, -3193.9285023692114, -1182.4922493563604, -1329.9535633665726, -5060.80099034782, -1441.6054791933207, 2348.083517444728, -868.0184907799362, 1073.7995384461392, 1870.3188168763572, -3576.864890018337, -3310.626259512788, 4952.837500464887, -1881.686120436382, -3310.626259512788, -1948.3946160070536, 7646.924377730038, -1336.4686118587513, 7277.405088741896, -4554.856085624251, 13333.621786869886, 13307.124660965526, 978.1271873687822, -227.20451264757386, 1416.7971658688746, -3491.556497633248, -1926.1903576550544, -2792.8534195457855, 1101.7946421911267, 6500.885607853371, -4822.3685663048955, 3679.5260651925023, -15.776744361640228, -3428.8904280153474, -1625.0185979362948, -1656.7909520788355, -3356.8498038839184, -3513.992699898031, 11702.852888876023, 3019.873605805012, -102.01078147118614, -2302.098908816995, -1584.4353744776326, -4544.505824759691, -1419.154023860934, 3695.7705933478387, 4655.52584523869, -853.2770386206772, -3491.556497633248, 402.87242146291953, -332.1095455311136, -81.013914616649, 3454.8118357330072, 3467.9660865034252, -1734.6256132066858, -2579.863323034794, -3027.5181929747473, 11304.668283970657, -3044.0657576812055, -3193.9285023692114, -3689.1454865230435, -3675.2951534088006, -1497.067515911081, 6136.616429035771, -3005.6942554539073, -1077.1890356206923, 4262.736535639, -272.8501272727519, -3495.5279577828396, -3127.597969157814, 3736.2882286076315, -823.7381885709825, -1838.0038676818688, 1178.0823683098222, 2093.1890311632496, -3307.6210749099664, -730.0622964614715, -3307.6210749099664, -4011.0077816686194, 5190.181509048121, -3127.597969157814, -1701.2030774212565, 818.2841111955101, 13513.372836175995, -660.8788389286447, 13399.890433075669, -1881.686120436382, -1127.5116575599657, -1325.4043404732065, -1705.5862916401331, 4655.52584523869, -275.32797178111, -2995.8324910182896, 2072.2732816682737, 1937.1327881378133, -657.4461287277766, -3116.2108656200458, -3792.335451485098, -3331.243656334566, -3294.1489789327525, 5482.353902530747, -2211.961949887496, 4155.853862163226, -1330.2411863570826, -3331.243656334566, -2842.8404570803623, -3096.0183144505036, 4034.4906051329012, -148.7445580724605, 3019.873605805012, 13351.437259396005, -4112.103943008763, 4278.852793791306, -3343.9109159895856, -2716.342355473583, -2025.1643794846439, -3331.243656334566, -1739.063582983989, 13841.807359890387, -4761.999614128487, -4886.847672997201, -2928.7973420813246, -4003.6310060972482, -1157.5402358681806, 1883.4767912587029, -3268.0383839699084, -2607.797883591069, 4841.883073378007, -677.1325942481167, -1701.2030774212565, 7858.549686583356, -2881.055075409645, -2497.898685175683, -1223.8670066535312, 4086.1371060746474, 3679.5260651925023, -3553.3432123642738, -4480.757585826385, -3933.3784472858247, -81.013914616649, 5441.0447428254865, -2750.9269856243964, 518.7308396439518, -3297.4857227755742, -4005.710382138965, -3466.178659067097, 1801.1702027051626, 476.5203011061134, -3217.9917977905943, 1106.5324844314935, -1688.005966931939, -1285.1537626309353, 10762.567322055964, 10349.173793302718, 10479.810029974498, -3499.8200103092217], \"yaxis\": \"y\"}],\n",
              "                        {\"coloraxis\": {\"colorbar\": {\"title\": {\"text\": \"color\"}}, \"colorscale\": [[0.0, \"#0d0887\"], [0.1111111111111111, \"#46039f\"], [0.2222222222222222, \"#7201a8\"], [0.3333333333333333, \"#9c179e\"], [0.4444444444444444, \"#bd3786\"], [0.5555555555555556, \"#d8576b\"], [0.6666666666666666, \"#ed7953\"], [0.7777777777777778, \"#fb9f3a\"], [0.8888888888888888, \"#fdca26\"], [1.0, \"#f0f921\"]]}, \"legend\": {\"tracegroupgap\": 0}, \"margin\": {\"t\": 60}, \"template\": {\"data\": {\"bar\": [{\"error_x\": {\"color\": \"#2a3f5f\"}, \"error_y\": {\"color\": \"#2a3f5f\"}, \"marker\": {\"line\": {\"color\": \"#E5ECF6\", \"width\": 0.5}}, \"type\": \"bar\"}], \"barpolar\": [{\"marker\": {\"line\": {\"color\": \"#E5ECF6\", \"width\": 0.5}}, \"type\": \"barpolar\"}], \"carpet\": [{\"aaxis\": {\"endlinecolor\": \"#2a3f5f\", \"gridcolor\": \"white\", \"linecolor\": \"white\", \"minorgridcolor\": \"white\", \"startlinecolor\": \"#2a3f5f\"}, \"baxis\": {\"endlinecolor\": \"#2a3f5f\", \"gridcolor\": \"white\", \"linecolor\": \"white\", \"minorgridcolor\": \"white\", \"startlinecolor\": \"#2a3f5f\"}, \"type\": \"carpet\"}], \"choropleth\": [{\"colorbar\": {\"outlinewidth\": 0, \"ticks\": \"\"}, \"type\": \"choropleth\"}], \"contour\": [{\"colorbar\": {\"outlinewidth\": 0, \"ticks\": \"\"}, \"colorscale\": [[0.0, \"#0d0887\"], [0.1111111111111111, \"#46039f\"], [0.2222222222222222, \"#7201a8\"], [0.3333333333333333, \"#9c179e\"], [0.4444444444444444, \"#bd3786\"], [0.5555555555555556, \"#d8576b\"], [0.6666666666666666, \"#ed7953\"], [0.7777777777777778, \"#fb9f3a\"], [0.8888888888888888, \"#fdca26\"], [1.0, \"#f0f921\"]], \"type\": \"contour\"}], \"contourcarpet\": [{\"colorbar\": {\"outlinewidth\": 0, \"ticks\": \"\"}, \"type\": \"contourcarpet\"}], \"heatmap\": [{\"colorbar\": {\"outlinewidth\": 0, \"ticks\": \"\"}, \"colorscale\": [[0.0, \"#0d0887\"], [0.1111111111111111, \"#46039f\"], [0.2222222222222222, \"#7201a8\"], [0.3333333333333333, \"#9c179e\"], [0.4444444444444444, \"#bd3786\"], [0.5555555555555556, \"#d8576b\"], [0.6666666666666666, \"#ed7953\"], [0.7777777777777778, \"#fb9f3a\"], [0.8888888888888888, \"#fdca26\"], [1.0, \"#f0f921\"]], \"type\": \"heatmap\"}], \"heatmapgl\": [{\"colorbar\": {\"outlinewidth\": 0, \"ticks\": \"\"}, \"colorscale\": [[0.0, \"#0d0887\"], [0.1111111111111111, \"#46039f\"], [0.2222222222222222, \"#7201a8\"], [0.3333333333333333, \"#9c179e\"], [0.4444444444444444, \"#bd3786\"], [0.5555555555555556, \"#d8576b\"], [0.6666666666666666, \"#ed7953\"], [0.7777777777777778, \"#fb9f3a\"], [0.8888888888888888, \"#fdca26\"], [1.0, \"#f0f921\"]], \"type\": \"heatmapgl\"}], \"histogram\": [{\"marker\": {\"colorbar\": {\"outlinewidth\": 0, \"ticks\": \"\"}}, \"type\": \"histogram\"}], \"histogram2d\": [{\"colorbar\": {\"outlinewidth\": 0, \"ticks\": \"\"}, \"colorscale\": [[0.0, \"#0d0887\"], [0.1111111111111111, \"#46039f\"], [0.2222222222222222, \"#7201a8\"], [0.3333333333333333, \"#9c179e\"], [0.4444444444444444, \"#bd3786\"], [0.5555555555555556, \"#d8576b\"], [0.6666666666666666, \"#ed7953\"], [0.7777777777777778, \"#fb9f3a\"], [0.8888888888888888, \"#fdca26\"], [1.0, \"#f0f921\"]], \"type\": \"histogram2d\"}], \"histogram2dcontour\": [{\"colorbar\": {\"outlinewidth\": 0, \"ticks\": \"\"}, \"colorscale\": [[0.0, \"#0d0887\"], [0.1111111111111111, \"#46039f\"], [0.2222222222222222, \"#7201a8\"], [0.3333333333333333, \"#9c179e\"], [0.4444444444444444, \"#bd3786\"], [0.5555555555555556, \"#d8576b\"], [0.6666666666666666, \"#ed7953\"], [0.7777777777777778, \"#fb9f3a\"], [0.8888888888888888, \"#fdca26\"], [1.0, \"#f0f921\"]], \"type\": \"histogram2dcontour\"}], \"mesh3d\": [{\"colorbar\": {\"outlinewidth\": 0, \"ticks\": \"\"}, \"type\": \"mesh3d\"}], \"parcoords\": [{\"line\": {\"colorbar\": {\"outlinewidth\": 0, \"ticks\": \"\"}}, \"type\": \"parcoords\"}], \"pie\": [{\"automargin\": true, \"type\": \"pie\"}], \"scatter\": [{\"marker\": {\"colorbar\": {\"outlinewidth\": 0, \"ticks\": \"\"}}, \"type\": \"scatter\"}], \"scatter3d\": [{\"line\": {\"colorbar\": {\"outlinewidth\": 0, \"ticks\": \"\"}}, \"marker\": {\"colorbar\": {\"outlinewidth\": 0, \"ticks\": \"\"}}, \"type\": \"scatter3d\"}], \"scattercarpet\": [{\"marker\": {\"colorbar\": {\"outlinewidth\": 0, \"ticks\": \"\"}}, \"type\": \"scattercarpet\"}], \"scattergeo\": [{\"marker\": {\"colorbar\": {\"outlinewidth\": 0, \"ticks\": \"\"}}, \"type\": \"scattergeo\"}], \"scattergl\": [{\"marker\": {\"colorbar\": {\"outlinewidth\": 0, \"ticks\": \"\"}}, \"type\": \"scattergl\"}], \"scattermapbox\": [{\"marker\": {\"colorbar\": {\"outlinewidth\": 0, \"ticks\": \"\"}}, \"type\": \"scattermapbox\"}], \"scatterpolar\": [{\"marker\": {\"colorbar\": {\"outlinewidth\": 0, \"ticks\": \"\"}}, \"type\": \"scatterpolar\"}], \"scatterpolargl\": [{\"marker\": {\"colorbar\": {\"outlinewidth\": 0, \"ticks\": \"\"}}, \"type\": \"scatterpolargl\"}], \"scatterternary\": [{\"marker\": {\"colorbar\": {\"outlinewidth\": 0, \"ticks\": \"\"}}, \"type\": \"scatterternary\"}], \"surface\": [{\"colorbar\": {\"outlinewidth\": 0, \"ticks\": \"\"}, \"colorscale\": [[0.0, \"#0d0887\"], [0.1111111111111111, \"#46039f\"], [0.2222222222222222, \"#7201a8\"], [0.3333333333333333, \"#9c179e\"], [0.4444444444444444, \"#bd3786\"], [0.5555555555555556, \"#d8576b\"], [0.6666666666666666, \"#ed7953\"], [0.7777777777777778, \"#fb9f3a\"], [0.8888888888888888, \"#fdca26\"], [1.0, \"#f0f921\"]], \"type\": \"surface\"}], \"table\": [{\"cells\": {\"fill\": {\"color\": \"#EBF0F8\"}, \"line\": {\"color\": \"white\"}}, \"header\": {\"fill\": {\"color\": \"#C8D4E3\"}, \"line\": {\"color\": \"white\"}}, \"type\": \"table\"}]}, \"layout\": {\"annotationdefaults\": {\"arrowcolor\": \"#2a3f5f\", \"arrowhead\": 0, \"arrowwidth\": 1}, \"coloraxis\": {\"colorbar\": {\"outlinewidth\": 0, \"ticks\": \"\"}}, \"colorscale\": {\"diverging\": [[0, \"#8e0152\"], [0.1, \"#c51b7d\"], [0.2, \"#de77ae\"], [0.3, \"#f1b6da\"], [0.4, \"#fde0ef\"], [0.5, \"#f7f7f7\"], [0.6, \"#e6f5d0\"], [0.7, \"#b8e186\"], [0.8, \"#7fbc41\"], [0.9, \"#4d9221\"], [1, \"#276419\"]], \"sequential\": [[0.0, \"#0d0887\"], [0.1111111111111111, \"#46039f\"], [0.2222222222222222, \"#7201a8\"], [0.3333333333333333, \"#9c179e\"], [0.4444444444444444, \"#bd3786\"], [0.5555555555555556, \"#d8576b\"], [0.6666666666666666, \"#ed7953\"], [0.7777777777777778, \"#fb9f3a\"], [0.8888888888888888, \"#fdca26\"], [1.0, \"#f0f921\"]], \"sequentialminus\": [[0.0, \"#0d0887\"], [0.1111111111111111, \"#46039f\"], [0.2222222222222222, \"#7201a8\"], [0.3333333333333333, \"#9c179e\"], [0.4444444444444444, \"#bd3786\"], [0.5555555555555556, \"#d8576b\"], [0.6666666666666666, \"#ed7953\"], [0.7777777777777778, \"#fb9f3a\"], [0.8888888888888888, \"#fdca26\"], [1.0, \"#f0f921\"]]}, \"colorway\": [\"#636efa\", \"#EF553B\", \"#00cc96\", \"#ab63fa\", \"#FFA15A\", \"#19d3f3\", \"#FF6692\", \"#B6E880\", \"#FF97FF\", \"#FECB52\"], \"font\": {\"color\": \"#2a3f5f\"}, \"geo\": {\"bgcolor\": \"white\", \"lakecolor\": \"white\", \"landcolor\": \"#E5ECF6\", \"showlakes\": true, \"showland\": true, \"subunitcolor\": \"white\"}, \"hoverlabel\": {\"align\": \"left\"}, \"hovermode\": \"closest\", \"mapbox\": {\"style\": \"light\"}, \"paper_bgcolor\": \"white\", \"plot_bgcolor\": \"#E5ECF6\", \"polar\": {\"angularaxis\": {\"gridcolor\": \"white\", \"linecolor\": \"white\", \"ticks\": \"\"}, \"bgcolor\": \"#E5ECF6\", \"radialaxis\": {\"gridcolor\": \"white\", \"linecolor\": \"white\", \"ticks\": \"\"}}, \"scene\": {\"xaxis\": {\"backgroundcolor\": \"#E5ECF6\", \"gridcolor\": \"white\", \"gridwidth\": 2, \"linecolor\": \"white\", \"showbackground\": true, \"ticks\": \"\", \"zerolinecolor\": \"white\"}, \"yaxis\": {\"backgroundcolor\": \"#E5ECF6\", \"gridcolor\": \"white\", \"gridwidth\": 2, \"linecolor\": \"white\", \"showbackground\": true, \"ticks\": \"\", \"zerolinecolor\": \"white\"}, \"zaxis\": {\"backgroundcolor\": \"#E5ECF6\", \"gridcolor\": \"white\", \"gridwidth\": 2, \"linecolor\": \"white\", \"showbackground\": true, \"ticks\": \"\", \"zerolinecolor\": \"white\"}}, \"shapedefaults\": {\"line\": {\"color\": \"#2a3f5f\"}}, \"ternary\": {\"aaxis\": {\"gridcolor\": \"white\", \"linecolor\": \"white\", \"ticks\": \"\"}, \"baxis\": {\"gridcolor\": \"white\", \"linecolor\": \"white\", \"ticks\": \"\"}, \"bgcolor\": \"#E5ECF6\", \"caxis\": {\"gridcolor\": \"white\", \"linecolor\": \"white\", \"ticks\": \"\"}}, \"title\": {\"x\": 0.05}, \"xaxis\": {\"automargin\": true, \"gridcolor\": \"white\", \"linecolor\": \"white\", \"ticks\": \"\", \"title\": {\"standoff\": 15}, \"zerolinecolor\": \"white\", \"zerolinewidth\": 2}, \"yaxis\": {\"automargin\": true, \"gridcolor\": \"white\", \"linecolor\": \"white\", \"ticks\": \"\", \"title\": {\"standoff\": 15}, \"zerolinecolor\": \"white\", \"zerolinewidth\": 2}}}, \"xaxis\": {\"anchor\": \"y\", \"domain\": [0.0, 1.0], \"title\": {\"text\": \"0\"}}, \"yaxis\": {\"anchor\": \"x\", \"domain\": [0.0, 1.0], \"title\": {\"text\": \"1\"}}},\n",
              "                        {\"responsive\": true}\n",
              "                    ).then(function(){\n",
              "                            \n",
              "var gd = document.getElementById('a6baa029-6a35-43dd-a7f5-dbd536ea70b0');\n",
              "var x = new MutationObserver(function (mutations, observer) {{\n",
              "        var display = window.getComputedStyle(gd).display;\n",
              "        if (!display || display === 'none') {{\n",
              "            console.log([gd, 'removed!']);\n",
              "            Plotly.purge(gd);\n",
              "            observer.disconnect();\n",
              "        }}\n",
              "}});\n",
              "\n",
              "// Listen for the removal of the full notebook cells\n",
              "var notebookContainer = gd.closest('#notebook-container');\n",
              "if (notebookContainer) {{\n",
              "    x.observe(notebookContainer, {childList: true});\n",
              "}}\n",
              "\n",
              "// Listen for the clearing of the current output cell\n",
              "var outputEl = gd.closest('.output');\n",
              "if (outputEl) {{\n",
              "    x.observe(outputEl, {childList: true});\n",
              "}}\n",
              "\n",
              "                        })\n",
              "                };\n",
              "                \n",
              "            </script>\n",
              "        </div>\n",
              "</body>\n",
              "</html>"
            ]
          },
          "metadata": {}
        }
      ]
    },
    {
      "cell_type": "markdown",
      "metadata": {
        "id": "HL9juGWXS7_x"
      },
      "source": [
        "### Sample Row"
      ]
    },
    {
      "cell_type": "code",
      "metadata": {
        "id": "g9IK9M8KS7_y"
      },
      "source": [
        "# X_train.iloc[0].to_dict()"
      ],
      "execution_count": null,
      "outputs": []
    },
    {
      "cell_type": "markdown",
      "metadata": {
        "id": "iSk5zPeUS7_y"
      },
      "source": [
        "# Hyper-parameter Tuning Using Grid Search CV"
      ]
    },
    {
      "cell_type": "code",
      "metadata": {
        "id": "BPixfkRHS7_y"
      },
      "source": [
        "def tune_hyperparameters(model,X,y):\n",
        "  param_grid = {\"solver\":['svd', 'lsqr', 'eigen'], \"shrinkage\":['auto',0.1,0.01,1,0]}\n",
        "  grid_search = GridSearchCV(model,param_grid=param_grid,scoring='accuracy')\n",
        "  grid_search.fit(X,y)\n",
        "  print(\"Best Params: \",grid_search.best_params_)\n",
        "  return grid_search.best_params_"
      ],
      "execution_count": null,
      "outputs": []
    },
    {
      "cell_type": "code",
      "metadata": {
        "colab": {
          "base_uri": "https://localhost:8080/"
        },
        "id": "xTBuxPZ-S7_y",
        "outputId": "4c035418-3ab4-4ec4-98b9-aae40272ecc5"
      },
      "source": [
        "best_params = tune_hyperparameters(LinearDiscriminantAnalysis(),X_train,y_train)\n",
        "best_params"
      ],
      "execution_count": null,
      "outputs": [
        {
          "output_type": "stream",
          "name": "stdout",
          "text": [
            "Best Params:  {'shrinkage': 'auto', 'solver': 'lsqr'}\n"
          ]
        },
        {
          "output_type": "stream",
          "name": "stderr",
          "text": [
            "/usr/local/lib/python3.7/dist-packages/sklearn/model_selection/_search.py:972: UserWarning:\n",
            "\n",
            "One or more of the test scores are non-finite: [       nan 0.59619167 0.59619167        nan 0.58749435 0.58749435\n",
            "        nan 0.59329145 0.59329145        nan 0.59155064 0.59155064\n",
            "        nan 0.59503393 0.59503393]\n",
            "\n"
          ]
        },
        {
          "output_type": "execute_result",
          "data": {
            "text/plain": [
              "{'shrinkage': 'auto', 'solver': 'lsqr'}"
            ]
          },
          "metadata": {},
          "execution_count": 128
        }
      ]
    },
    {
      "cell_type": "markdown",
      "metadata": {
        "id": "d5cl52aXS7_y"
      },
      "source": [
        "# Performing Linear Discrimant Analysis"
      ]
    },
    {
      "cell_type": "code",
      "metadata": {
        "id": "U8FchSIOS7_y"
      },
      "source": [
        "def train_predict_evaluate(model,X_train,y_train,X_test):\n",
        "  model.fit(X_train,y_train)\n",
        "  y_pred = model.predict(X_test)\n",
        "\n",
        "  print(\"Accuracy: \",accuracy_score(y_test,y_pred))\n",
        "  print(\"Precision: \",precision_score(y_test,y_pred,zero_division=0))\n",
        "  print(\"Recall: \",recall_score(y_test,y_pred,zero_division=0))\n",
        "  print(\"F1 Score: \",f1_score(y_test,y_pred,zero_division=0))\n",
        "  print(\"Confusion Matrix:\\n\",confusion_matrix(y_test,y_pred))\n",
        "\n",
        "  \n",
        "  fpr,tpr,thresholds = roc_curve(y_test,y_pred)\n",
        "  plt.plot(fpr, tpr,color='green',label='ROC curve (area = %0.2f)' % auc(fpr,tpr))\n",
        "  plt.plot([0, 1], [0, 1], color='orange', linestyle='--')\n",
        "  plt.xlabel(\"False Positive Rate\")\n",
        "  plt.ylabel(\"True Positive Rate\")\n",
        "  plt.title(\"ROC Curve\")\n",
        "  plt.legend(loc=\"lower right\")\n",
        "  plt.show()"
      ],
      "execution_count": null,
      "outputs": []
    },
    {
      "cell_type": "code",
      "metadata": {
        "colab": {
          "base_uri": "https://localhost:8080/",
          "height": 417
        },
        "id": "_UooOnqgS7_y",
        "outputId": "4b4d4d8b-06ba-4889-ec73-91f6262a7ab3"
      },
      "source": [
        "train_predict_evaluate(LinearDiscriminantAnalysis(shrinkage='auto', solver='lsqr'),X_train,y_train,X_test)"
      ],
      "execution_count": null,
      "outputs": [
        {
          "output_type": "stream",
          "name": "stdout",
          "text": [
            "Accuracy:  0.6094594594594595\n",
            "Precision:  0.6105263157894737\n",
            "Recall:  0.7360406091370558\n",
            "F1 Score:  0.667433831990794\n",
            "Confusion Matrix:\n",
            " [[161 185]\n",
            " [104 290]]\n"
          ]
        },
        {
          "output_type": "display_data",
          "data": {
            "image/png": "[encoded data removed]",
            "text/plain": [
              "<Figure size 432x288 with 1 Axes>"
            ]
          },
          "metadata": {
            "needs_background": "light"
          }
        }
      ]
    },
    {
      "cell_type": "markdown",
      "metadata": {
        "id": "PML7WcfES7_5"
      },
      "source": [
        "# K-Fold Cross Validation"
      ]
    },
    {
      "cell_type": "code",
      "metadata": {
        "id": "oBlF-XB5S7_5"
      },
      "source": [
        "def cross_validation(model,X,y):\n",
        "  scores = cross_validate(model, X, y, cv=5,scoring=('accuracy','precision','recall','f1'))\n",
        "\n",
        "  metrics = []\n",
        "  metrics.append(np.mean(scores['test_accuracy']))\n",
        "  metrics.append(np.mean(scores['test_precision']))\n",
        "  metrics.append(np.mean(scores['test_recall']))\n",
        "  metrics.append(np.mean(scores['test_f1']))\n",
        "\n",
        "  print(\"Accuracy: \",metrics[0])\n",
        "  print(\"Precision: \",metrics[1])\n",
        "  print(\"Recall: \",metrics[2])\n",
        "  print(\"F1 Score: \",metrics[3])\n",
        "\n",
        "  return metrics"
      ],
      "execution_count": null,
      "outputs": []
    },
    {
      "cell_type": "code",
      "metadata": {
        "id": "Wqypis9rS7_5"
      },
      "source": [
        "metrics = []"
      ],
      "execution_count": null,
      "outputs": []
    },
    {
      "cell_type": "code",
      "metadata": {
        "colab": {
          "base_uri": "https://localhost:8080/"
        },
        "id": "SvowMbheS7_5",
        "outputId": "d0bc3499-7cb7-4685-8a73-6dc00aa836b2"
      },
      "source": [
        "metrics.append(cross_validation(LinearDiscriminantAnalysis(**best_params),X,y))"
      ],
      "execution_count": null,
      "outputs": [
        {
          "output_type": "stream",
          "name": "stdout",
          "text": [
            "Accuracy:  0.7631751402222202\n",
            "Precision:  0.7529061663247458\n",
            "Recall:  0.7850926565945822\n",
            "F1 Score:  0.7682790579917442\n"
          ]
        }
      ]
    },
    {
      "cell_type": "markdown",
      "metadata": {
        "id": "C87TtA4qS7_6"
      },
      "source": [
        "# Performance"
      ]
    },
    {
      "cell_type": "code",
      "metadata": {
        "colab": {
          "base_uri": "https://localhost:8080/",
          "height": 81
        },
        "id": "lA0XFoUdS7_6",
        "outputId": "6e5187c6-541c-4633-f6e4-b49c879ac40e"
      },
      "source": [
        "mdf = pd.DataFrame(metrics,columns=[\"Accuracy\",\"Precision\",\"Recall\",\"F1 Score\"])\n",
        "mdf.head()"
      ],
      "execution_count": null,
      "outputs": [
        {
          "output_type": "execute_result",
          "data": {
            "text/html": [
              "<div>\n",
              "<style scoped>\n",
              "    .dataframe tbody tr th:only-of-type {\n",
              "        vertical-align: middle;\n",
              "    }\n",
              "\n",
              "    .dataframe tbody tr th {\n",
              "        vertical-align: top;\n",
              "    }\n",
              "\n",
              "    .dataframe thead th {\n",
              "        text-align: right;\n",
              "    }\n",
              "</style>\n",
              "<table border=\"1\" class=\"dataframe\">\n",
              "  <thead>\n",
              "    <tr style=\"text-align: right;\">\n",
              "      <th></th>\n",
              "      <th>Accuracy</th>\n",
              "      <th>Precision</th>\n",
              "      <th>Recall</th>\n",
              "      <th>F1 Score</th>\n",
              "    </tr>\n",
              "  </thead>\n",
              "  <tbody>\n",
              "    <tr>\n",
              "      <th>0</th>\n",
              "      <td>0.763175</td>\n",
              "      <td>0.752906</td>\n",
              "      <td>0.785093</td>\n",
              "      <td>0.768279</td>\n",
              "    </tr>\n",
              "  </tbody>\n",
              "</table>\n",
              "</div>"
            ],
            "text/plain": [
              "   Accuracy  Precision    Recall  F1 Score\n",
              "0  0.763175   0.752906  0.785093  0.768279"
            ]
          },
          "metadata": {},
          "execution_count": 134
        }
      ]
    },
    {
      "cell_type": "code",
      "metadata": {
        "id": "IqjWrUoKS7_6"
      },
      "source": [
        ""
      ],
      "execution_count": null,
      "outputs": []
    }
  ]
}