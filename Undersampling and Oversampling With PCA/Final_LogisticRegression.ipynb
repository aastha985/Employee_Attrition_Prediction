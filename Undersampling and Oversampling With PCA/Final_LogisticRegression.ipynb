{
  "nbformat": 4,
  "nbformat_minor": 0,
  "metadata": {
    "colab": {
      "name": "Final LogisticRegression.ipynb",
      "provenance": [],
      "collapsed_sections": []
    },
    "kernelspec": {
      "name": "python3",
      "display_name": "Python 3"
    },
    "language_info": {
      "name": "python"
    }
  },
  "cells": [
    {
      "cell_type": "markdown",
      "metadata": {
        "id": "_2SVpvK3jqdo"
      },
      "source": [
        "# Importing Modules"
      ]
    },
    {
      "cell_type": "code",
      "metadata": {
        "id": "svdasjARhQdX"
      },
      "source": [
        "import pandas as pd\n",
        "import numpy as np\n",
        "import matplotlib.pyplot as plt\n",
        "from sklearn.model_selection import train_test_split, GridSearchCV, cross_validate\n",
        "from sklearn.preprocessing import StandardScaler, OneHotEncoder, LabelEncoder, MinMaxScaler\n",
        "from sklearn.linear_model import LogisticRegression\n",
        "from sklearn.metrics import accuracy_score,precision_score, recall_score, confusion_matrix, f1_score, roc_curve,auc\n",
        "from imblearn.over_sampling import RandomOverSampler\n",
        "import warnings\n",
        "from sklearn.exceptions import FitFailedWarning\n",
        "warnings.simplefilter('ignore', FitFailedWarning)\n",
        "from sklearn.decomposition import PCA"
      ],
      "execution_count": 11,
      "outputs": []
    },
    {
      "cell_type": "markdown",
      "metadata": {
        "id": "8xfMmoLAjyJj"
      },
      "source": [
        "# Importing Dataset"
      ]
    },
    {
      "cell_type": "code",
      "metadata": {
        "id": "1oC43f6mjvpO"
      },
      "source": [
        "df = pd.read_csv('WA_Fn-UseC_-HR-Employee-Attrition.csv')"
      ],
      "execution_count": 12,
      "outputs": []
    },
    {
      "cell_type": "code",
      "metadata": {
        "colab": {
          "base_uri": "https://localhost:8080/",
          "height": 313
        },
        "id": "Bx6Q6cb_j695",
        "outputId": "5acaed2e-1cf0-4f52-f5a3-3f0995dd78db"
      },
      "source": [
        "df.head()"
      ],
      "execution_count": 13,
      "outputs": [
        {
          "output_type": "execute_result",
          "data": {
            "text/html": [
              "<div>\n",
              "<style scoped>\n",
              "    .dataframe tbody tr th:only-of-type {\n",
              "        vertical-align: middle;\n",
              "    }\n",
              "\n",
              "    .dataframe tbody tr th {\n",
              "        vertical-align: top;\n",
              "    }\n",
              "\n",
              "    .dataframe thead th {\n",
              "        text-align: right;\n",
              "    }\n",
              "</style>\n",
              "<table border=\"1\" class=\"dataframe\">\n",
              "  <thead>\n",
              "    <tr style=\"text-align: right;\">\n",
              "      <th></th>\n",
              "      <th>Age</th>\n",
              "      <th>Attrition</th>\n",
              "      <th>BusinessTravel</th>\n",
              "      <th>DailyRate</th>\n",
              "      <th>Department</th>\n",
              "      <th>DistanceFromHome</th>\n",
              "      <th>Education</th>\n",
              "      <th>EducationField</th>\n",
              "      <th>EmployeeCount</th>\n",
              "      <th>EmployeeNumber</th>\n",
              "      <th>EnvironmentSatisfaction</th>\n",
              "      <th>Gender</th>\n",
              "      <th>HourlyRate</th>\n",
              "      <th>JobInvolvement</th>\n",
              "      <th>JobLevel</th>\n",
              "      <th>JobRole</th>\n",
              "      <th>JobSatisfaction</th>\n",
              "      <th>MaritalStatus</th>\n",
              "      <th>MonthlyIncome</th>\n",
              "      <th>MonthlyRate</th>\n",
              "      <th>NumCompaniesWorked</th>\n",
              "      <th>Over18</th>\n",
              "      <th>OverTime</th>\n",
              "      <th>PercentSalaryHike</th>\n",
              "      <th>PerformanceRating</th>\n",
              "      <th>RelationshipSatisfaction</th>\n",
              "      <th>StandardHours</th>\n",
              "      <th>StockOptionLevel</th>\n",
              "      <th>TotalWorkingYears</th>\n",
              "      <th>TrainingTimesLastYear</th>\n",
              "      <th>WorkLifeBalance</th>\n",
              "      <th>YearsAtCompany</th>\n",
              "      <th>YearsInCurrentRole</th>\n",
              "      <th>YearsSinceLastPromotion</th>\n",
              "      <th>YearsWithCurrManager</th>\n",
              "    </tr>\n",
              "  </thead>\n",
              "  <tbody>\n",
              "    <tr>\n",
              "      <th>0</th>\n",
              "      <td>41</td>\n",
              "      <td>Yes</td>\n",
              "      <td>Travel_Rarely</td>\n",
              "      <td>1102</td>\n",
              "      <td>Sales</td>\n",
              "      <td>1</td>\n",
              "      <td>2</td>\n",
              "      <td>Life Sciences</td>\n",
              "      <td>1</td>\n",
              "      <td>1</td>\n",
              "      <td>2</td>\n",
              "      <td>Female</td>\n",
              "      <td>94</td>\n",
              "      <td>3</td>\n",
              "      <td>2</td>\n",
              "      <td>Sales Executive</td>\n",
              "      <td>4</td>\n",
              "      <td>Single</td>\n",
              "      <td>5993</td>\n",
              "      <td>19479</td>\n",
              "      <td>8</td>\n",
              "      <td>Y</td>\n",
              "      <td>Yes</td>\n",
              "      <td>11</td>\n",
              "      <td>3</td>\n",
              "      <td>1</td>\n",
              "      <td>80</td>\n",
              "      <td>0</td>\n",
              "      <td>8</td>\n",
              "      <td>0</td>\n",
              "      <td>1</td>\n",
              "      <td>6</td>\n",
              "      <td>4</td>\n",
              "      <td>0</td>\n",
              "      <td>5</td>\n",
              "    </tr>\n",
              "    <tr>\n",
              "      <th>1</th>\n",
              "      <td>49</td>\n",
              "      <td>No</td>\n",
              "      <td>Travel_Frequently</td>\n",
              "      <td>279</td>\n",
              "      <td>Research &amp; Development</td>\n",
              "      <td>8</td>\n",
              "      <td>1</td>\n",
              "      <td>Life Sciences</td>\n",
              "      <td>1</td>\n",
              "      <td>2</td>\n",
              "      <td>3</td>\n",
              "      <td>Male</td>\n",
              "      <td>61</td>\n",
              "      <td>2</td>\n",
              "      <td>2</td>\n",
              "      <td>Research Scientist</td>\n",
              "      <td>2</td>\n",
              "      <td>Married</td>\n",
              "      <td>5130</td>\n",
              "      <td>24907</td>\n",
              "      <td>1</td>\n",
              "      <td>Y</td>\n",
              "      <td>No</td>\n",
              "      <td>23</td>\n",
              "      <td>4</td>\n",
              "      <td>4</td>\n",
              "      <td>80</td>\n",
              "      <td>1</td>\n",
              "      <td>10</td>\n",
              "      <td>3</td>\n",
              "      <td>3</td>\n",
              "      <td>10</td>\n",
              "      <td>7</td>\n",
              "      <td>1</td>\n",
              "      <td>7</td>\n",
              "    </tr>\n",
              "    <tr>\n",
              "      <th>2</th>\n",
              "      <td>37</td>\n",
              "      <td>Yes</td>\n",
              "      <td>Travel_Rarely</td>\n",
              "      <td>1373</td>\n",
              "      <td>Research &amp; Development</td>\n",
              "      <td>2</td>\n",
              "      <td>2</td>\n",
              "      <td>Other</td>\n",
              "      <td>1</td>\n",
              "      <td>4</td>\n",
              "      <td>4</td>\n",
              "      <td>Male</td>\n",
              "      <td>92</td>\n",
              "      <td>2</td>\n",
              "      <td>1</td>\n",
              "      <td>Laboratory Technician</td>\n",
              "      <td>3</td>\n",
              "      <td>Single</td>\n",
              "      <td>2090</td>\n",
              "      <td>2396</td>\n",
              "      <td>6</td>\n",
              "      <td>Y</td>\n",
              "      <td>Yes</td>\n",
              "      <td>15</td>\n",
              "      <td>3</td>\n",
              "      <td>2</td>\n",
              "      <td>80</td>\n",
              "      <td>0</td>\n",
              "      <td>7</td>\n",
              "      <td>3</td>\n",
              "      <td>3</td>\n",
              "      <td>0</td>\n",
              "      <td>0</td>\n",
              "      <td>0</td>\n",
              "      <td>0</td>\n",
              "    </tr>\n",
              "    <tr>\n",
              "      <th>3</th>\n",
              "      <td>33</td>\n",
              "      <td>No</td>\n",
              "      <td>Travel_Frequently</td>\n",
              "      <td>1392</td>\n",
              "      <td>Research &amp; Development</td>\n",
              "      <td>3</td>\n",
              "      <td>4</td>\n",
              "      <td>Life Sciences</td>\n",
              "      <td>1</td>\n",
              "      <td>5</td>\n",
              "      <td>4</td>\n",
              "      <td>Female</td>\n",
              "      <td>56</td>\n",
              "      <td>3</td>\n",
              "      <td>1</td>\n",
              "      <td>Research Scientist</td>\n",
              "      <td>3</td>\n",
              "      <td>Married</td>\n",
              "      <td>2909</td>\n",
              "      <td>23159</td>\n",
              "      <td>1</td>\n",
              "      <td>Y</td>\n",
              "      <td>Yes</td>\n",
              "      <td>11</td>\n",
              "      <td>3</td>\n",
              "      <td>3</td>\n",
              "      <td>80</td>\n",
              "      <td>0</td>\n",
              "      <td>8</td>\n",
              "      <td>3</td>\n",
              "      <td>3</td>\n",
              "      <td>8</td>\n",
              "      <td>7</td>\n",
              "      <td>3</td>\n",
              "      <td>0</td>\n",
              "    </tr>\n",
              "    <tr>\n",
              "      <th>4</th>\n",
              "      <td>27</td>\n",
              "      <td>No</td>\n",
              "      <td>Travel_Rarely</td>\n",
              "      <td>591</td>\n",
              "      <td>Research &amp; Development</td>\n",
              "      <td>2</td>\n",
              "      <td>1</td>\n",
              "      <td>Medical</td>\n",
              "      <td>1</td>\n",
              "      <td>7</td>\n",
              "      <td>1</td>\n",
              "      <td>Male</td>\n",
              "      <td>40</td>\n",
              "      <td>3</td>\n",
              "      <td>1</td>\n",
              "      <td>Laboratory Technician</td>\n",
              "      <td>2</td>\n",
              "      <td>Married</td>\n",
              "      <td>3468</td>\n",
              "      <td>16632</td>\n",
              "      <td>9</td>\n",
              "      <td>Y</td>\n",
              "      <td>No</td>\n",
              "      <td>12</td>\n",
              "      <td>3</td>\n",
              "      <td>4</td>\n",
              "      <td>80</td>\n",
              "      <td>1</td>\n",
              "      <td>6</td>\n",
              "      <td>3</td>\n",
              "      <td>3</td>\n",
              "      <td>2</td>\n",
              "      <td>2</td>\n",
              "      <td>2</td>\n",
              "      <td>2</td>\n",
              "    </tr>\n",
              "  </tbody>\n",
              "</table>\n",
              "</div>"
            ],
            "text/plain": [
              "   Age Attrition  ... YearsSinceLastPromotion  YearsWithCurrManager\n",
              "0   41       Yes  ...                       0                     5\n",
              "1   49        No  ...                       1                     7\n",
              "2   37       Yes  ...                       0                     0\n",
              "3   33        No  ...                       3                     0\n",
              "4   27        No  ...                       2                     2\n",
              "\n",
              "[5 rows x 35 columns]"
            ]
          },
          "metadata": {},
          "execution_count": 13
        }
      ]
    },
    {
      "cell_type": "markdown",
      "metadata": {
        "id": "_mRm7fQ7mwvq"
      },
      "source": [
        "# No Missing Values"
      ]
    },
    {
      "cell_type": "code",
      "metadata": {
        "colab": {
          "base_uri": "https://localhost:8080/"
        },
        "id": "plrHD1Koj73G",
        "outputId": "dd1c8551-d4ae-4f1f-8ae2-c9efc3b537a5"
      },
      "source": [
        "df.isna().any().any()"
      ],
      "execution_count": 14,
      "outputs": [
        {
          "output_type": "execute_result",
          "data": {
            "text/plain": [
              "False"
            ]
          },
          "metadata": {},
          "execution_count": 14
        }
      ]
    },
    {
      "cell_type": "markdown",
      "metadata": {
        "id": "ga-47TMSmzmq"
      },
      "source": [
        "# Encoding Categorical Values"
      ]
    },
    {
      "cell_type": "code",
      "metadata": {
        "id": "qKzH-roNkh2h"
      },
      "source": [
        "#Columns with string values\n",
        "categorical_column = ['Attrition', 'BusinessTravel', 'Department','Gender', 'JobRole', 'MaritalStatus', 'OverTime','EducationField']\n",
        "encoder=LabelEncoder()\n",
        "df[categorical_column]=df[categorical_column].apply(encoder.fit_transform)"
      ],
      "execution_count": 15,
      "outputs": []
    },
    {
      "cell_type": "markdown",
      "metadata": {
        "id": "6UkQJOPXn1bY"
      },
      "source": [
        "# Seperating into X and y"
      ]
    },
    {
      "cell_type": "code",
      "metadata": {
        "id": "Z_F5HO95nRME"
      },
      "source": [
        "y=df['Attrition']\n",
        "X=df.drop(['EmployeeCount','Attrition','EmployeeNumber','Over18','StandardHours'],axis=1)"
      ],
      "execution_count": 16,
      "outputs": []
    },
    {
      "cell_type": "code",
      "metadata": {
        "id": "kagnXw_TMPBx"
      },
      "source": [
        "from imblearn.over_sampling import RandomOverSampler\n",
        "from imblearn.under_sampling import RandomUnderSampler\n",
        "\n",
        "rus = RandomUnderSampler(random_state=42,replacement=True)\n",
        "X_, Y1 = rus.fit_resample(X,y)\n",
        "X1 = pd.DataFrame(X_,columns=X.columns)\n",
        "\n",
        "ros = RandomOverSampler(random_state=42)\n",
        "X_, Y2 = ros.fit_resample(X,y)\n",
        "X2 = pd.DataFrame(X_,columns=X.columns)"
      ],
      "execution_count": 17,
      "outputs": []
    },
    {
      "cell_type": "markdown",
      "metadata": {
        "id": "uwvpLpt_Wh1A"
      },
      "source": [
        "# Undersampling"
      ]
    },
    {
      "cell_type": "code",
      "metadata": {
        "id": "Btgftw7jWg_T"
      },
      "source": [
        "X=X1\n",
        "y=Y1"
      ],
      "execution_count": 18,
      "outputs": []
    },
    {
      "cell_type": "markdown",
      "metadata": {
        "id": "ON7ZM52roZi3"
      },
      "source": [
        "# Spliting into Train and Test Sets"
      ]
    },
    {
      "cell_type": "code",
      "metadata": {
        "id": "s4lsXDvon7LE"
      },
      "source": [
        "X_train, X_test, y_train, y_test = train_test_split(X,y,test_size=0.3,random_state=1)"
      ],
      "execution_count": 19,
      "outputs": []
    },
    {
      "cell_type": "markdown",
      "metadata": {
        "id": "fY9xDCh4qSvO"
      },
      "source": [
        "# Feature Scaling"
      ]
    },
    {
      "cell_type": "markdown",
      "metadata": {
        "id": "r3TngceO8ris"
      },
      "source": [
        "PCA"
      ]
    },
    {
      "cell_type": "code",
      "metadata": {
        "colab": {
          "base_uri": "https://localhost:8080/",
          "height": 312
        },
        "id": "27SsonNJ8swL",
        "outputId": "495b331b-9a2d-46a1-9894-e3367cc2c687"
      },
      "source": [
        "pca = PCA(n_components=2, random_state=0)\n",
        "X_train_pca = pca.fit_transform(X_train)\n",
        "print('20 PCs explain ', np.cumsum(pca.explained_variance_ratio_)*100, '% of variance cumulatively')\n",
        "# scree plot\n",
        "PC_values = np.arange(pca.n_components_) + 1\n",
        "plt.plot(PC_values, pca.explained_variance_ratio_, 'ro-', linewidth=2)\n",
        "plt.title('Scree Plot')\n",
        "plt.xlabel('Principal Component')\n",
        "plt.ylabel('Proportion of Variance Explained')\n",
        "plt.show()"
      ],
      "execution_count": 20,
      "outputs": [
        {
          "output_type": "stream",
          "name": "stdout",
          "text": [
            "20 PCs explain  [70.74068688 99.76281581] % of variance cumulatively\n"
          ]
        },
        {
          "output_type": "display_data",
          "data": {
            "image/png": "[encoded data removed]",
            "text/plain": [
              "<Figure size 432x288 with 1 Axes>"
            ]
          },
          "metadata": {
            "needs_background": "light"
          }
        }
      ]
    },
    {
      "cell_type": "markdown",
      "metadata": {
        "id": "Hw4EQ8wxuPNo"
      },
      "source": [
        "Standardization"
      ]
    },
    {
      "cell_type": "code",
      "metadata": {
        "id": "pVdsjNL-qBvh",
        "colab": {
          "base_uri": "https://localhost:8080/",
          "height": 365
        },
        "outputId": "81c27ce2-152a-498b-cae1-487002c56079"
      },
      "source": [
        "standard_scaler = StandardScaler()\n",
        "\n",
        "pca_std = PCA(n_components=20, random_state=0)\n",
        "X_train_standardized = pca_std.fit_transform(standard_scaler.fit_transform(X_train))\n",
        "print('20 PCs explain ', np.cumsum(pca_std.explained_variance_ratio_)*100, '% of variance cumulatively')\n",
        "# scree plot\n",
        "PC_values = np.arange(pca_std.n_components_) + 1\n",
        "plt.plot(PC_values, pca_std.explained_variance_ratio_, 'ro-', linewidth=2)\n",
        "plt.title('Scree Plot')\n",
        "plt.xlabel('Principal Component')\n",
        "plt.ylabel('Proportion of Variance Explained')\n",
        "plt.show()\n",
        "X_test_standardized = pca_std.transform(standard_scaler.transform(X_test))\n",
        "\n",
        "X_standardized = pca_std.transform(standard_scaler.fit_transform(X))"
      ],
      "execution_count": 21,
      "outputs": [
        {
          "output_type": "stream",
          "name": "stdout",
          "text": [
            "20 PCs explain  [17.44555167 24.44074193 30.65901903 36.38446522 41.40488981 46.19338821\n",
            " 50.24580214 54.14136646 57.92204534 61.55864087 65.17124382 68.54778693\n",
            " 71.79236823 74.88825386 77.83767848 80.70137862 83.37833712 85.93647278\n",
            " 88.25925916 90.54980649] % of variance cumulatively\n"
          ]
        },
        {
          "output_type": "display_data",
          "data": {
            "image/png": "[encoded data removed]",
            "text/plain": [
              "<Figure size 432x288 with 1 Axes>"
            ]
          },
          "metadata": {
            "needs_background": "light"
          }
        }
      ]
    },
    {
      "cell_type": "markdown",
      "metadata": {
        "id": "VJPzHFrwuQy4"
      },
      "source": [
        "Normalization"
      ]
    },
    {
      "cell_type": "code",
      "metadata": {
        "id": "fcUK03PluSFH",
        "colab": {
          "base_uri": "https://localhost:8080/",
          "height": 347
        },
        "outputId": "3a9c302d-1aef-4283-d0c6-7f68b617b2b9"
      },
      "source": [
        "min_max_scaler = MinMaxScaler()\n",
        "\n",
        "pca_norm = PCA(n_components=17, random_state=0)\n",
        "X_train_normalized = pca_norm.fit_transform(min_max_scaler.fit_transform(X_train))\n",
        "print('17 PCs explain ', np.cumsum(pca_norm.explained_variance_ratio_)*100, '% of variance cumulatively')\n",
        "# scree plot\n",
        "PC_values = np.arange(pca_norm.n_components_) + 1\n",
        "plt.plot(PC_values, pca_norm.explained_variance_ratio_, 'ro-', linewidth=2)\n",
        "plt.title('Scree Plot')\n",
        "plt.xlabel('Principal Component')\n",
        "plt.ylabel('Proportion of Variance Explained')\n",
        "plt.show()\n",
        "X_test_normalized = pca_norm.transform(min_max_scaler.transform(X_test))\n",
        "\n",
        "X_normalized = pca_norm.transform(min_max_scaler.fit_transform(X))"
      ],
      "execution_count": 22,
      "outputs": [
        {
          "output_type": "stream",
          "name": "stdout",
          "text": [
            "17 PCs explain  [11.52097344 20.44330143 28.67985327 36.31753724 42.61134166 48.23334781\n",
            " 53.36701768 58.09955124 62.64094633 66.81234597 70.37901588 73.84498837\n",
            " 77.15158301 79.93520506 82.65007667 85.17122704 87.59414783] % of variance cumulatively\n"
          ]
        },
        {
          "output_type": "display_data",
          "data": {
            "image/png": "[encoded data removed]",
            "text/plain": [
              "<Figure size 432x288 with 1 Axes>"
            ]
          },
          "metadata": {
            "needs_background": "light"
          }
        }
      ]
    },
    {
      "cell_type": "markdown",
      "metadata": {
        "id": "DXJUMLrRR7nw"
      },
      "source": [
        "Full datasets"
      ]
    },
    {
      "cell_type": "code",
      "metadata": {
        "id": "San3YoDIRMBn"
      },
      "source": [
        "X_train = X_train_pca\n",
        "X_test = pca.transform(X_test)\n",
        "X = pca.transform(X)"
      ],
      "execution_count": 23,
      "outputs": []
    },
    {
      "cell_type": "markdown",
      "metadata": {
        "id": "G8qjaGHCgQmc"
      },
      "source": [
        "# Hyper-parameter Tuning Using Grid Search CV"
      ]
    },
    {
      "cell_type": "code",
      "metadata": {
        "id": "6TZ1adKJhafY"
      },
      "source": [
        "def tune_hyperparameters(model,X,y):\n",
        "  param_grid = {\"C\":np.logspace(-3,3,7), \"penalty\":[\"l1\",\"l2\"],\"solver\":['newton-cg', 'lbfgs', 'liblinear', 'sag', 'saga']}\n",
        "  grid_search = GridSearchCV(model,param_grid=param_grid)\n",
        "  grid_search.fit(X,y)\n",
        "  print(\"Best Params: \",grid_search.best_params_)"
      ],
      "execution_count": 24,
      "outputs": []
    },
    {
      "cell_type": "markdown",
      "metadata": {
        "id": "iLsZ5i3wwk5j"
      },
      "source": [
        "### With Standardization"
      ]
    },
    {
      "cell_type": "code",
      "metadata": {
        "colab": {
          "base_uri": "https://localhost:8080/"
        },
        "id": "6J2IrNyegjVV",
        "outputId": "b5634000-0b76-46c9-e26c-95bf0381b010"
      },
      "source": [
        "tune_hyperparameters(LogisticRegression(max_iter=100000),X_train_standardized,y_train)"
      ],
      "execution_count": 25,
      "outputs": [
        {
          "output_type": "stream",
          "name": "stdout",
          "text": [
            "Best Params:  {'C': 0.1, 'penalty': 'l1', 'solver': 'liblinear'}\n"
          ]
        },
        {
          "output_type": "stream",
          "name": "stderr",
          "text": [
            "/usr/local/lib/python3.7/dist-packages/sklearn/model_selection/_search.py:972: UserWarning: One or more of the test scores are non-finite: [       nan        nan 0.51058345        nan 0.50452284 0.70673903\n",
            " 0.70673903 0.68281321 0.70673903 0.70673903        nan        nan\n",
            " 0.51058345        nan 0.51058345 0.72202623 0.72202623 0.70696517\n",
            " 0.72202623 0.72202623        nan        nan 0.73116237        nan\n",
            " 0.73111714 0.7009498  0.7009498  0.7009498  0.7009498  0.7009498\n",
            "        nan        nan 0.70710086        nan 0.70710086 0.71311624\n",
            " 0.71311624 0.71311624 0.71311624 0.71311624        nan        nan\n",
            " 0.71311624        nan 0.71311624 0.71311624 0.71311624 0.71311624\n",
            " 0.71311624 0.71311624        nan        nan 0.71311624        nan\n",
            " 0.71311624 0.71311624 0.71311624 0.71311624 0.71311624 0.71311624\n",
            "        nan        nan 0.71311624        nan 0.71311624 0.71311624\n",
            " 0.71311624 0.71311624 0.71311624 0.71311624]\n",
            "  category=UserWarning,\n"
          ]
        }
      ]
    },
    {
      "cell_type": "markdown",
      "metadata": {
        "id": "HrUOOnx-wrCG"
      },
      "source": [
        "### With Normalization"
      ]
    },
    {
      "cell_type": "code",
      "metadata": {
        "colab": {
          "base_uri": "https://localhost:8080/"
        },
        "id": "sdAd9qX4g9lc",
        "outputId": "14b49803-470b-4bdc-b0ef-86f39ee49354"
      },
      "source": [
        "tune_hyperparameters(LogisticRegression(max_iter=100000),X_train_normalized,y_train)"
      ],
      "execution_count": 26,
      "outputs": [
        {
          "output_type": "stream",
          "name": "stdout",
          "text": [
            "Best Params:  {'C': 0.1, 'penalty': 'l2', 'solver': 'newton-cg'}\n"
          ]
        },
        {
          "output_type": "stream",
          "name": "stderr",
          "text": [
            "/usr/local/lib/python3.7/dist-packages/sklearn/model_selection/_search.py:972: UserWarning: One or more of the test scores are non-finite: [       nan        nan 0.51058345        nan 0.50452284 0.51664405\n",
            " 0.51664405 0.72804161 0.51664405 0.51664405        nan        nan\n",
            " 0.51058345        nan 0.50759837 0.71298055 0.71298055 0.72804161\n",
            " 0.71298055 0.71298055        nan        nan 0.66445047        nan\n",
            " 0.66137494 0.73713252 0.73713252 0.73713252 0.73713252 0.73713252\n",
            "        nan        nan 0.71601085        nan 0.71601085 0.71908639\n",
            " 0.71908639 0.71908639 0.71908639 0.71908639        nan        nan\n",
            " 0.70416101        nan 0.70416101 0.70416101 0.70416101 0.70416101\n",
            " 0.70416101 0.70416101        nan        nan 0.70719132        nan\n",
            " 0.70420624 0.70420624 0.70420624 0.70420624 0.70420624 0.70420624\n",
            "        nan        nan 0.70723654        nan 0.70723654 0.70723654\n",
            " 0.70723654 0.70723654 0.70723654 0.70723654]\n",
            "  category=UserWarning,\n"
          ]
        }
      ]
    },
    {
      "cell_type": "markdown",
      "metadata": {
        "id": "8a7yUPquwZX3"
      },
      "source": [
        "# Performing Logistic Regression"
      ]
    },
    {
      "cell_type": "code",
      "metadata": {
        "id": "EVidCMSamgKp"
      },
      "source": [
        "def train_predict_evaluate(model,X_train,y_train,X_test):\n",
        "  model.fit(X_train,y_train)\n",
        "  y_pred = model.predict(X_test)\n",
        "\n",
        "  print(\"Accuracy: \",accuracy_score(y_test,y_pred))\n",
        "  print(\"Precision: \",precision_score(y_test,y_pred))\n",
        "  print(\"Recall: \",recall_score(y_test,y_pred))\n",
        "  print(\"F1 Score: \",f1_score(y_test,y_pred))\n",
        "  print(\"Confusion Matrix:\\n\",confusion_matrix(y_test,y_pred))\n",
        "\n",
        "  \n",
        "  fpr,tpr,thresholds = roc_curve(y_test,y_pred)\n",
        "  plt.plot(fpr, tpr,color='green',label='ROC curve (area = %0.2f)' % auc(fpr,tpr))\n",
        "  plt.plot([0, 1], [0, 1], color='orange', linestyle='--')\n",
        "  plt.xlabel(\"False Positive Rate\")\n",
        "  plt.ylabel(\"True Positive Rate\")\n",
        "  plt.title(\"ROC Curve\")\n",
        "  plt.legend(loc=\"lower right\")\n",
        "  plt.show()"
      ],
      "execution_count": 27,
      "outputs": []
    },
    {
      "cell_type": "markdown",
      "metadata": {
        "id": "p7AKFIHLtpo0"
      },
      "source": [
        "### Without scaling"
      ]
    },
    {
      "cell_type": "code",
      "metadata": {
        "colab": {
          "base_uri": "https://localhost:8080/",
          "height": 0
        },
        "id": "pwX8hGuuqKew",
        "outputId": "f61772a4-f3ef-4937-8bb0-70231e0effb7"
      },
      "source": [
        "train_predict_evaluate(LogisticRegression(max_iter=100000),X_train,y_train,X_test)"
      ],
      "execution_count": 28,
      "outputs": [
        {
          "output_type": "stream",
          "name": "stdout",
          "text": [
            "Accuracy:  0.5944055944055944\n",
            "Precision:  0.5876288659793815\n",
            "Recall:  0.76\n",
            "F1 Score:  0.6627906976744187\n",
            "Confusion Matrix:\n",
            " [[28 40]\n",
            " [18 57]]\n"
          ]
        },
        {
          "output_type": "display_data",
          "data": {
            "image/png": "[encoded data removed]",
            "text/plain": [
              "<Figure size 432x288 with 1 Axes>"
            ]
          },
          "metadata": {
            "needs_background": "light"
          }
        }
      ]
    },
    {
      "cell_type": "markdown",
      "metadata": {
        "id": "MRkxJoeltu0M"
      },
      "source": [
        "### With Standardization"
      ]
    },
    {
      "cell_type": "code",
      "metadata": {
        "colab": {
          "base_uri": "https://localhost:8080/",
          "height": 0
        },
        "id": "1ghT7uxxqUHV",
        "outputId": "b3d3ff51-d5ae-4319-fe37-cc79f92166b2"
      },
      "source": [
        "train_predict_evaluate(LogisticRegression(max_iter=100000,C=0.1,penalty='l2',solver='newton-cg'),X_train_standardized,y_train,X_test_standardized)"
      ],
      "execution_count": 29,
      "outputs": [
        {
          "output_type": "stream",
          "name": "stdout",
          "text": [
            "Accuracy:  0.6993006993006993\n",
            "Precision:  0.7105263157894737\n",
            "Recall:  0.72\n",
            "F1 Score:  0.7152317880794702\n",
            "Confusion Matrix:\n",
            " [[46 22]\n",
            " [21 54]]\n"
          ]
        },
        {
          "output_type": "display_data",
          "data": {
            "image/png": "[encoded data removed]",
            "text/plain": [
              "<Figure size 432x288 with 1 Axes>"
            ]
          },
          "metadata": {
            "needs_background": "light"
          }
        }
      ]
    },
    {
      "cell_type": "markdown",
      "metadata": {
        "id": "36aiMs0iud2S"
      },
      "source": [
        "### With Normalization"
      ]
    },
    {
      "cell_type": "code",
      "metadata": {
        "colab": {
          "base_uri": "https://localhost:8080/",
          "height": 0
        },
        "id": "sxzzMcZRqo1N",
        "outputId": "c1c5c96f-95c2-4bb0-9a9b-9bf76a01f222"
      },
      "source": [
        "train_predict_evaluate(LogisticRegression(max_iter=100000,C=1.0,penalty='l2',solver='saga'),X_train_normalized,y_train,X_test_normalized)"
      ],
      "execution_count": 30,
      "outputs": [
        {
          "output_type": "stream",
          "name": "stdout",
          "text": [
            "Accuracy:  0.7062937062937062\n",
            "Precision:  0.7142857142857143\n",
            "Recall:  0.7333333333333333\n",
            "F1 Score:  0.7236842105263158\n",
            "Confusion Matrix:\n",
            " [[46 22]\n",
            " [20 55]]\n"
          ]
        },
        {
          "output_type": "display_data",
          "data": {
            "image/png": "[encoded data removed]",
            "text/plain": [
              "<Figure size 432x288 with 1 Axes>"
            ]
          },
          "metadata": {
            "needs_background": "light"
          }
        }
      ]
    },
    {
      "cell_type": "markdown",
      "metadata": {
        "id": "bYT34VkEzXhQ"
      },
      "source": [
        "# K-Fold Cross Validation"
      ]
    },
    {
      "cell_type": "code",
      "metadata": {
        "id": "4NHTmFu6F5mt"
      },
      "source": [
        "def cross_validation(model,X,y):\n",
        "  scores = cross_validate(model, X, y, cv=5,scoring=('accuracy','precision','recall','f1'))\n",
        "\n",
        "  metrics = []\n",
        "  metrics.append(np.mean(scores['test_accuracy']))\n",
        "  metrics.append(np.mean(scores['test_precision']))\n",
        "  metrics.append(np.mean(scores['test_recall']))\n",
        "  metrics.append(np.mean(scores['test_f1']))\n",
        "\n",
        "  print(\"Accuracy: \",metrics[0])\n",
        "  print(\"Precision: \",metrics[1])\n",
        "  print(\"Recall: \",metrics[2])\n",
        "  print(\"F1 Score: \",metrics[3])\n",
        "\n",
        "  return metrics"
      ],
      "execution_count": 31,
      "outputs": []
    },
    {
      "cell_type": "code",
      "metadata": {
        "id": "K9ZGmXzWHnsn"
      },
      "source": [
        "metrics = []"
      ],
      "execution_count": 32,
      "outputs": []
    },
    {
      "cell_type": "markdown",
      "metadata": {
        "id": "rsTPmPJBDYFr"
      },
      "source": [
        "### Without Scaling"
      ]
    },
    {
      "cell_type": "code",
      "metadata": {
        "colab": {
          "base_uri": "https://localhost:8080/"
        },
        "id": "6l4bsmaB0igR",
        "outputId": "4ac6c55f-af76-4d02-dda3-9a516e5dd977"
      },
      "source": [
        "metrics.append(cross_validation(LogisticRegression(max_iter=100000),X,y))"
      ],
      "execution_count": 33,
      "outputs": [
        {
          "output_type": "stream",
          "name": "stdout",
          "text": [
            "Accuracy:  0.5632474804031354\n",
            "Precision:  0.5473931623931623\n",
            "Recall:  0.7299645390070922\n",
            "F1 Score:  0.62551419911233\n"
          ]
        }
      ]
    },
    {
      "cell_type": "markdown",
      "metadata": {
        "id": "iVkk_V7tDbfC"
      },
      "source": [
        "### With Standardization"
      ]
    },
    {
      "cell_type": "code",
      "metadata": {
        "colab": {
          "base_uri": "https://localhost:8080/"
        },
        "id": "hOjeaHu83Wqy",
        "outputId": "ee838704-afe9-4a8b-ef8c-92a18c61af63"
      },
      "source": [
        "metrics.append(cross_validation(LogisticRegression(max_iter=100000,C=0.1,penalty='l2',solver='newton-cg'),X_standardized,y))"
      ],
      "execution_count": 34,
      "outputs": [
        {
          "output_type": "stream",
          "name": "stdout",
          "text": [
            "Accuracy:  0.6855095184770437\n",
            "Precision:  0.6904516523665459\n",
            "Recall:  0.675354609929078\n",
            "F1 Score:  0.6819829370394856\n"
          ]
        }
      ]
    },
    {
      "cell_type": "markdown",
      "metadata": {
        "id": "NGQAVDx6DfXK"
      },
      "source": [
        "### With Normalization"
      ]
    },
    {
      "cell_type": "code",
      "metadata": {
        "colab": {
          "base_uri": "https://localhost:8080/"
        },
        "id": "G16F89KqDM3i",
        "outputId": "4c92b189-eb00-4cb1-8557-99f3ba407906"
      },
      "source": [
        "metrics.append(cross_validation(LogisticRegression(max_iter=100000,C=1.0,penalty='l2',solver='saga'),X_normalized,y))"
      ],
      "execution_count": 35,
      "outputs": [
        {
          "output_type": "stream",
          "name": "stdout",
          "text": [
            "Accuracy:  0.6981634938409854\n",
            "Precision:  0.7029201924672308\n",
            "Recall:  0.6966312056737589\n",
            "F1 Score:  0.6971087303364408\n"
          ]
        }
      ]
    },
    {
      "cell_type": "markdown",
      "metadata": {
        "id": "etAeXaJeNLWA"
      },
      "source": [
        "# Performance and Comparison Plots"
      ]
    },
    {
      "cell_type": "code",
      "metadata": {
        "colab": {
          "base_uri": "https://localhost:8080/",
          "height": 143
        },
        "id": "ZL6Rs_eQIRrp",
        "outputId": "4dc83526-6cf3-4cb6-9c0f-f64ca3aee4a6"
      },
      "source": [
        "mdf = pd.DataFrame(metrics,columns=[\"Accuracy\",\"Precision\",\"Recall\",\"F1 Score\"],index=[\"Without Scaling\",\"With Standardization\",\"With Normalization\"])\n",
        "mdf.head()"
      ],
      "execution_count": 36,
      "outputs": [
        {
          "output_type": "execute_result",
          "data": {
            "text/html": [
              "<div>\n",
              "<style scoped>\n",
              "    .dataframe tbody tr th:only-of-type {\n",
              "        vertical-align: middle;\n",
              "    }\n",
              "\n",
              "    .dataframe tbody tr th {\n",
              "        vertical-align: top;\n",
              "    }\n",
              "\n",
              "    .dataframe thead th {\n",
              "        text-align: right;\n",
              "    }\n",
              "</style>\n",
              "<table border=\"1\" class=\"dataframe\">\n",
              "  <thead>\n",
              "    <tr style=\"text-align: right;\">\n",
              "      <th></th>\n",
              "      <th>Accuracy</th>\n",
              "      <th>Precision</th>\n",
              "      <th>Recall</th>\n",
              "      <th>F1 Score</th>\n",
              "    </tr>\n",
              "  </thead>\n",
              "  <tbody>\n",
              "    <tr>\n",
              "      <th>Without Scaling</th>\n",
              "      <td>0.563247</td>\n",
              "      <td>0.547393</td>\n",
              "      <td>0.729965</td>\n",
              "      <td>0.625514</td>\n",
              "    </tr>\n",
              "    <tr>\n",
              "      <th>With Standardization</th>\n",
              "      <td>0.685510</td>\n",
              "      <td>0.690452</td>\n",
              "      <td>0.675355</td>\n",
              "      <td>0.681983</td>\n",
              "    </tr>\n",
              "    <tr>\n",
              "      <th>With Normalization</th>\n",
              "      <td>0.698163</td>\n",
              "      <td>0.702920</td>\n",
              "      <td>0.696631</td>\n",
              "      <td>0.697109</td>\n",
              "    </tr>\n",
              "  </tbody>\n",
              "</table>\n",
              "</div>"
            ],
            "text/plain": [
              "                      Accuracy  Precision    Recall  F1 Score\n",
              "Without Scaling       0.563247   0.547393  0.729965  0.625514\n",
              "With Standardization  0.685510   0.690452  0.675355  0.681983\n",
              "With Normalization    0.698163   0.702920  0.696631  0.697109"
            ]
          },
          "metadata": {},
          "execution_count": 36
        }
      ]
    },
    {
      "cell_type": "code",
      "metadata": {
        "colab": {
          "base_uri": "https://localhost:8080/",
          "height": 265
        },
        "id": "Eu3JAXUnJ-x2",
        "outputId": "7ce5b8da-5fab-4a70-b337-2357b403ba23"
      },
      "source": [
        "mdf['Accuracy'].plot()\n",
        "plt.ylabel(\"Accuracy\")\n",
        "plt.show()"
      ],
      "execution_count": 37,
      "outputs": [
        {
          "output_type": "display_data",
          "data": {
            "image/png": "[encoded data removed]",
            "text/plain": [
              "<Figure size 432x288 with 1 Axes>"
            ]
          },
          "metadata": {
            "needs_background": "light"
          }
        }
      ]
    },
    {
      "cell_type": "code",
      "metadata": {
        "colab": {
          "base_uri": "https://localhost:8080/",
          "height": 265
        },
        "id": "Yoh-sO_JLtm0",
        "outputId": "f6f1281b-1c6e-4f10-c544-8414bdcb9687"
      },
      "source": [
        "mdf['Precision'].plot()\n",
        "plt.ylabel(\"Precision\")\n",
        "plt.show()"
      ],
      "execution_count": 38,
      "outputs": [
        {
          "output_type": "display_data",
          "data": {
            "image/png": "[encoded data removed]",
            "text/plain": [
              "<Figure size 432x288 with 1 Axes>"
            ]
          },
          "metadata": {
            "needs_background": "light"
          }
        }
      ]
    },
    {
      "cell_type": "code",
      "metadata": {
        "colab": {
          "base_uri": "https://localhost:8080/",
          "height": 265
        },
        "id": "mOcyFNGbLwyn",
        "outputId": "8bc9c9be-a1b3-410b-817b-97c99fd05a78"
      },
      "source": [
        "mdf['Recall'].plot()\n",
        "plt.ylabel(\"Recall\")\n",
        "plt.show()"
      ],
      "execution_count": 39,
      "outputs": [
        {
          "output_type": "display_data",
          "data": {
            "image/png": "[encoded data removed]",
            "text/plain": [
              "<Figure size 432x288 with 1 Axes>"
            ]
          },
          "metadata": {
            "needs_background": "light"
          }
        }
      ]
    },
    {
      "cell_type": "code",
      "metadata": {
        "colab": {
          "base_uri": "https://localhost:8080/",
          "height": 267
        },
        "id": "8pVMkoSvEEvT",
        "outputId": "818b58db-3739-466c-eff0-d0708ced26f1"
      },
      "source": [
        "mdf['F1 Score'].plot()\n",
        "plt.ylabel(\"F1 Score\")\n",
        "plt.show()"
      ],
      "execution_count": 40,
      "outputs": [
        {
          "output_type": "display_data",
          "data": {
            "image/png": "[encoded data removed]",
            "text/plain": [
              "<Figure size 432x288 with 1 Axes>"
            ]
          },
          "metadata": {
            "needs_background": "light"
          }
        }
      ]
    },
    {
      "cell_type": "code",
      "metadata": {
        "id": "y3Tpi9BjDorH"
      },
      "source": [
        ""
      ],
      "execution_count": 40,
      "outputs": []
    },
    {
      "cell_type": "markdown",
      "metadata": {
        "id": "hdkbZmi7Wxla"
      },
      "source": [
        "# Oversampling"
      ]
    },
    {
      "cell_type": "code",
      "metadata": {
        "id": "p7cl0nqUWxlb"
      },
      "source": [
        "X=X2\n",
        "y=Y2"
      ],
      "execution_count": 41,
      "outputs": []
    },
    {
      "cell_type": "markdown",
      "metadata": {
        "id": "a8cR7jp1Wxlb"
      },
      "source": [
        "# Spliting into Train and Test Sets"
      ]
    },
    {
      "cell_type": "code",
      "metadata": {
        "id": "ckgf3zw2Wxlb"
      },
      "source": [
        "X_train, X_test, y_train, y_test = train_test_split(X,y,test_size=0.3,random_state=1)"
      ],
      "execution_count": 42,
      "outputs": []
    },
    {
      "cell_type": "markdown",
      "metadata": {
        "id": "X3Al1P3SWxlb"
      },
      "source": [
        "# Feature Scaling"
      ]
    },
    {
      "cell_type": "markdown",
      "metadata": {
        "id": "-OXXlIPqWxlb"
      },
      "source": [
        "PCA"
      ]
    },
    {
      "cell_type": "code",
      "metadata": {
        "colab": {
          "base_uri": "https://localhost:8080/",
          "height": 312
        },
        "id": "jPOgQVTvWxlb",
        "outputId": "2d7da1ed-e51c-4e2a-de8a-ff9454be5ae7"
      },
      "source": [
        "pca = PCA(n_components=2, random_state=0)\n",
        "X_train_pca = pca.fit_transform(X_train)\n",
        "print('20 PCs explain ', np.cumsum(pca.explained_variance_ratio_)*100, '% of variance cumulatively')\n",
        "# scree plot\n",
        "PC_values = np.arange(pca.n_components_) + 1\n",
        "plt.plot(PC_values, pca.explained_variance_ratio_, 'ro-', linewidth=2)\n",
        "plt.title('Scree Plot')\n",
        "plt.xlabel('Principal Component')\n",
        "plt.ylabel('Proportion of Variance Explained')\n",
        "plt.show()"
      ],
      "execution_count": 43,
      "outputs": [
        {
          "output_type": "stream",
          "name": "stdout",
          "text": [
            "20 PCs explain  [72.0048171  99.77248109] % of variance cumulatively\n"
          ]
        },
        {
          "output_type": "display_data",
          "data": {
            "image/png": "[encoded data removed]",
            "text/plain": [
              "<Figure size 432x288 with 1 Axes>"
            ]
          },
          "metadata": {
            "needs_background": "light"
          }
        }
      ]
    },
    {
      "cell_type": "markdown",
      "metadata": {
        "id": "3IyIkCdGWxlb"
      },
      "source": [
        "Standardization"
      ]
    },
    {
      "cell_type": "code",
      "metadata": {
        "colab": {
          "base_uri": "https://localhost:8080/",
          "height": 365
        },
        "id": "VByMl1s5Wxlc",
        "outputId": "958fbf8f-a281-4e48-d06b-956c6fe8ceca"
      },
      "source": [
        "standard_scaler = StandardScaler()\n",
        "\n",
        "pca_std = PCA(n_components=20, random_state=0)\n",
        "X_train_standardized = pca_std.fit_transform(standard_scaler.fit_transform(X_train))\n",
        "print('20 PCs explain ', np.cumsum(pca_std.explained_variance_ratio_)*100, '% of variance cumulatively')\n",
        "# scree plot\n",
        "PC_values = np.arange(pca_std.n_components_) + 1\n",
        "plt.plot(PC_values, pca_std.explained_variance_ratio_, 'ro-', linewidth=2)\n",
        "plt.title('Scree Plot')\n",
        "plt.xlabel('Principal Component')\n",
        "plt.ylabel('Proportion of Variance Explained')\n",
        "plt.show()\n",
        "X_test_standardized = pca_std.transform(standard_scaler.transform(X_test))\n",
        "\n",
        "X_standardized = pca_std.transform(standard_scaler.fit_transform(X))"
      ],
      "execution_count": 44,
      "outputs": [
        {
          "output_type": "stream",
          "name": "stdout",
          "text": [
            "20 PCs explain  [16.64465197 23.58747178 29.84784841 35.39372339 40.35079016 44.67005664\n",
            " 48.56277173 52.35230055 56.02047014 59.61604873 63.08993843 66.47912883\n",
            " 69.75557924 72.92265112 75.95912735 78.92913152 81.82658034 84.6202276\n",
            " 87.25717622 89.81093824] % of variance cumulatively\n"
          ]
        },
        {
          "output_type": "display_data",
          "data": {
            "image/png": "[encoded data removed]",
            "text/plain": [
              "<Figure size 432x288 with 1 Axes>"
            ]
          },
          "metadata": {
            "needs_background": "light"
          }
        }
      ]
    },
    {
      "cell_type": "markdown",
      "metadata": {
        "id": "H6kMpdoaWxlc"
      },
      "source": [
        "Normalization"
      ]
    },
    {
      "cell_type": "code",
      "metadata": {
        "colab": {
          "base_uri": "https://localhost:8080/",
          "height": 347
        },
        "id": "wfjXAuIZWxlc",
        "outputId": "d71a9722-ef49-470f-ca39-1cdd851199a6"
      },
      "source": [
        "min_max_scaler = MinMaxScaler()\n",
        "\n",
        "pca_norm = PCA(n_components=17, random_state=0)\n",
        "X_train_normalized = pca_norm.fit_transform(min_max_scaler.fit_transform(X_train))\n",
        "print('17 PCs explain ', np.cumsum(pca_norm.explained_variance_ratio_)*100, '% of variance cumulatively')\n",
        "# scree plot\n",
        "PC_values = np.arange(pca_norm.n_components_) + 1\n",
        "plt.plot(PC_values, pca_norm.explained_variance_ratio_, 'ro-', linewidth=2)\n",
        "plt.title('Scree Plot')\n",
        "plt.xlabel('Principal Component')\n",
        "plt.ylabel('Proportion of Variance Explained')\n",
        "plt.show()\n",
        "X_test_normalized = pca_norm.transform(min_max_scaler.transform(X_test))\n",
        "\n",
        "X_normalized = pca_norm.transform(min_max_scaler.fit_transform(X))"
      ],
      "execution_count": 45,
      "outputs": [
        {
          "output_type": "stream",
          "name": "stdout",
          "text": [
            "17 PCs explain  [ 9.99039652 19.50265107 27.87547577 34.91437668 41.54863366 47.16013872\n",
            " 52.37699663 57.42392261 61.95387303 65.91516331 69.62470578 73.16976549\n",
            " 76.20145628 79.04762956 81.82726103 84.41792803 86.85682217] % of variance cumulatively\n"
          ]
        },
        {
          "output_type": "display_data",
          "data": {
            "image/png": "[encoded data removed]",
            "text/plain": [
              "<Figure size 432x288 with 1 Axes>"
            ]
          },
          "metadata": {
            "needs_background": "light"
          }
        }
      ]
    },
    {
      "cell_type": "markdown",
      "metadata": {
        "id": "k0g3wG1VWxlc"
      },
      "source": [
        "Full datasets"
      ]
    },
    {
      "cell_type": "code",
      "metadata": {
        "id": "Si6zQpgOWxlc"
      },
      "source": [
        "X_train = X_train_pca\n",
        "X_test = pca.transform(X_test)\n",
        "X = pca.transform(X)"
      ],
      "execution_count": 46,
      "outputs": []
    },
    {
      "cell_type": "markdown",
      "metadata": {
        "id": "YSeD4tMwWxlc"
      },
      "source": [
        "# Hyper-parameter Tuning Using Grid Search CV"
      ]
    },
    {
      "cell_type": "code",
      "metadata": {
        "id": "wGoIudaTWxld"
      },
      "source": [
        "def tune_hyperparameters(model,X,y):\n",
        "  param_grid = {\"C\":np.logspace(-3,3,7), \"penalty\":[\"l1\",\"l2\"],\"solver\":['newton-cg', 'lbfgs', 'liblinear', 'sag', 'saga']}\n",
        "  grid_search = GridSearchCV(model,param_grid=param_grid)\n",
        "  grid_search.fit(X,y)\n",
        "  print(\"Best Params: \",grid_search.best_params_)"
      ],
      "execution_count": 47,
      "outputs": []
    },
    {
      "cell_type": "markdown",
      "metadata": {
        "id": "OH9Wxw9oWxld"
      },
      "source": [
        "### With Standardization"
      ]
    },
    {
      "cell_type": "code",
      "metadata": {
        "colab": {
          "base_uri": "https://localhost:8080/"
        },
        "id": "5cYItfXEWxld",
        "outputId": "dc6157e9-df8b-4ff0-ef91-4e332f2eab43"
      },
      "source": [
        "tune_hyperparameters(LogisticRegression(max_iter=100000),X_train_standardized,y_train)"
      ],
      "execution_count": 48,
      "outputs": [
        {
          "output_type": "stream",
          "name": "stdout",
          "text": [
            "Best Params:  {'C': 0.1, 'penalty': 'l2', 'solver': 'liblinear'}\n"
          ]
        },
        {
          "output_type": "stream",
          "name": "stderr",
          "text": [
            "/usr/local/lib/python3.7/dist-packages/sklearn/model_selection/_search.py:972: UserWarning: One or more of the test scores are non-finite: [       nan        nan 0.51390467        nan 0.51390467 0.73289604\n",
            " 0.73289604 0.72710899 0.73405546 0.73289604        nan        nan\n",
            " 0.67554494        nan 0.68423389 0.75318087 0.75318087 0.75201977\n",
            " 0.75318087 0.75318087        nan        nan 0.75085867        nan\n",
            " 0.74912457 0.75376225 0.75376225 0.75434196 0.75376225 0.75376225\n",
            "        nan        nan 0.75318757        nan 0.75260786 0.75260618\n",
            " 0.75260618 0.75260618 0.75260618 0.75260618        nan        nan\n",
            " 0.75202647        nan 0.75260618 0.75318589 0.75318589 0.75318589\n",
            " 0.75318589 0.75318589        nan        nan 0.75318589        nan\n",
            " 0.75318589 0.75318589 0.75318589 0.75318589 0.75318589 0.75318589\n",
            "        nan        nan 0.75318589        nan 0.75318589 0.75318589\n",
            " 0.75318589 0.75318589 0.75318589 0.75318589]\n",
            "  category=UserWarning,\n"
          ]
        }
      ]
    },
    {
      "cell_type": "markdown",
      "metadata": {
        "id": "2vXztTpaWxld"
      },
      "source": [
        "### With Normalization"
      ]
    },
    {
      "cell_type": "code",
      "metadata": {
        "colab": {
          "base_uri": "https://localhost:8080/"
        },
        "id": "amZR7Sa_Wxld",
        "outputId": "fc87e6bb-9705-4f85-d547-9718f6a28830"
      },
      "source": [
        "tune_hyperparameters(LogisticRegression(max_iter=100000),X_train_normalized,y_train)"
      ],
      "execution_count": 49,
      "outputs": [
        {
          "output_type": "stream",
          "name": "stdout",
          "text": [
            "Best Params:  {'C': 1.0, 'penalty': 'l1', 'solver': 'liblinear'}\n"
          ]
        },
        {
          "output_type": "stream",
          "name": "stderr",
          "text": [
            "/usr/local/lib/python3.7/dist-packages/sklearn/model_selection/_search.py:972: UserWarning: One or more of the test scores are non-finite: [       nan        nan 0.51390467        nan 0.49709307 0.68887325\n",
            " 0.68887325 0.73464857 0.69003267 0.68887325        nan        nan\n",
            " 0.67092234        nan 0.68019268 0.73522661 0.73522661 0.73464522\n",
            " 0.73522661 0.73522661        nan        nan 0.73232973        nan\n",
            " 0.7363877  0.74333585 0.74333585 0.74333585 0.74333585 0.74333585\n",
            "        nan        nan 0.74564966        nan 0.74564966 0.74390718\n",
            " 0.74390718 0.74390718 0.74390718 0.74390718        nan        nan\n",
            " 0.74275111        nan 0.74275111 0.74275111 0.74275111 0.74275111\n",
            " 0.74275111 0.74275111        nan        nan 0.74275111        nan\n",
            " 0.74275111 0.74275111 0.74275111 0.74275111 0.74275111 0.74275111\n",
            "        nan        nan 0.74275111        nan 0.74275111 0.74275111\n",
            " 0.74275111 0.74275111 0.74275111 0.74275111]\n",
            "  category=UserWarning,\n"
          ]
        }
      ]
    },
    {
      "cell_type": "markdown",
      "metadata": {
        "id": "hGTit_-OWxld"
      },
      "source": [
        "# Performing Logistic Regression"
      ]
    },
    {
      "cell_type": "code",
      "metadata": {
        "id": "A3AKqHCyWxle"
      },
      "source": [
        "def train_predict_evaluate(model,X_train,y_train,X_test):\n",
        "  model.fit(X_train,y_train)\n",
        "  y_pred = model.predict(X_test)\n",
        "\n",
        "  print(\"Accuracy: \",accuracy_score(y_test,y_pred))\n",
        "  print(\"Precision: \",precision_score(y_test,y_pred))\n",
        "  print(\"Recall: \",recall_score(y_test,y_pred))\n",
        "  print(\"F1 Score: \",f1_score(y_test,y_pred))\n",
        "  print(\"Confusion Matrix:\\n\",confusion_matrix(y_test,y_pred))\n",
        "\n",
        "  \n",
        "  fpr,tpr,thresholds = roc_curve(y_test,y_pred)\n",
        "  plt.plot(fpr, tpr,color='green',label='ROC curve (area = %0.2f)' % auc(fpr,tpr))\n",
        "  plt.plot([0, 1], [0, 1], color='orange', linestyle='--')\n",
        "  plt.xlabel(\"False Positive Rate\")\n",
        "  plt.ylabel(\"True Positive Rate\")\n",
        "  plt.title(\"ROC Curve\")\n",
        "  plt.legend(loc=\"lower right\")\n",
        "  plt.show()"
      ],
      "execution_count": 50,
      "outputs": []
    },
    {
      "cell_type": "markdown",
      "metadata": {
        "id": "_uY5F1faWxle"
      },
      "source": [
        "### Without scaling"
      ]
    },
    {
      "cell_type": "code",
      "metadata": {
        "colab": {
          "base_uri": "https://localhost:8080/",
          "height": 417
        },
        "id": "l23hYJf4Wxle",
        "outputId": "7c4f2da1-c3e8-4db3-f792-2d5a67b0fed2"
      },
      "source": [
        "train_predict_evaluate(LogisticRegression(max_iter=100000),X_train,y_train,X_test)"
      ],
      "execution_count": 51,
      "outputs": [
        {
          "output_type": "stream",
          "name": "stdout",
          "text": [
            "Accuracy:  0.6013513513513513\n",
            "Precision:  0.596116504854369\n",
            "Recall:  0.7791878172588832\n",
            "F1 Score:  0.6754675467546755\n",
            "Confusion Matrix:\n",
            " [[138 208]\n",
            " [ 87 307]]\n"
          ]
        },
        {
          "output_type": "display_data",
          "data": {
            "image/png": "[encoded data removed]",
            "text/plain": [
              "<Figure size 432x288 with 1 Axes>"
            ]
          },
          "metadata": {
            "needs_background": "light"
          }
        }
      ]
    },
    {
      "cell_type": "markdown",
      "metadata": {
        "id": "Nlem5l8oWxle"
      },
      "source": [
        "### With Standardization"
      ]
    },
    {
      "cell_type": "code",
      "metadata": {
        "colab": {
          "base_uri": "https://localhost:8080/",
          "height": 417
        },
        "id": "NiBMvzX4Wxle",
        "outputId": "59898ea2-acd8-41bf-dc55-4a21ac4b510c"
      },
      "source": [
        "train_predict_evaluate(LogisticRegression(max_iter=100000,C=0.1,penalty='l2',solver='newton-cg'),X_train_standardized,y_train,X_test_standardized)"
      ],
      "execution_count": 52,
      "outputs": [
        {
          "output_type": "stream",
          "name": "stdout",
          "text": [
            "Accuracy:  0.745945945945946\n",
            "Precision:  0.7682291666666666\n",
            "Recall:  0.748730964467005\n",
            "F1 Score:  0.7583547557840616\n",
            "Confusion Matrix:\n",
            " [[257  89]\n",
            " [ 99 295]]\n"
          ]
        },
        {
          "output_type": "display_data",
          "data": {
            "image/png": "[encoded data removed]",
            "text/plain": [
              "<Figure size 432x288 with 1 Axes>"
            ]
          },
          "metadata": {
            "needs_background": "light"
          }
        }
      ]
    },
    {
      "cell_type": "markdown",
      "metadata": {
        "id": "YaDwlO4MWxle"
      },
      "source": [
        "### With Normalization"
      ]
    },
    {
      "cell_type": "code",
      "metadata": {
        "colab": {
          "base_uri": "https://localhost:8080/",
          "height": 417
        },
        "id": "IH93MuUGWxlf",
        "outputId": "1e9472fc-3828-46e0-82da-52c67c39f8e4"
      },
      "source": [
        "train_predict_evaluate(LogisticRegression(max_iter=100000,C=1.0,penalty='l2',solver='saga'),X_train_normalized,y_train,X_test_normalized)"
      ],
      "execution_count": 53,
      "outputs": [
        {
          "output_type": "stream",
          "name": "stdout",
          "text": [
            "Accuracy:  0.7594594594594595\n",
            "Precision:  0.7783505154639175\n",
            "Recall:  0.766497461928934\n",
            "F1 Score:  0.772378516624041\n",
            "Confusion Matrix:\n",
            " [[260  86]\n",
            " [ 92 302]]\n"
          ]
        },
        {
          "output_type": "display_data",
          "data": {
            "image/png": "[encoded data removed]",
            "text/plain": [
              "<Figure size 432x288 with 1 Axes>"
            ]
          },
          "metadata": {
            "needs_background": "light"
          }
        }
      ]
    },
    {
      "cell_type": "markdown",
      "metadata": {
        "id": "wbR5giUnWxlf"
      },
      "source": [
        "# K-Fold Cross Validation"
      ]
    },
    {
      "cell_type": "code",
      "metadata": {
        "id": "UAXvRRJgWxlf"
      },
      "source": [
        "def cross_validation(model,X,y):\n",
        "  scores = cross_validate(model, X, y, cv=5,scoring=('accuracy','precision','recall','f1'))\n",
        "\n",
        "  metrics = []\n",
        "  metrics.append(np.mean(scores['test_accuracy']))\n",
        "  metrics.append(np.mean(scores['test_precision']))\n",
        "  metrics.append(np.mean(scores['test_recall']))\n",
        "  metrics.append(np.mean(scores['test_f1']))\n",
        "\n",
        "  print(\"Accuracy: \",metrics[0])\n",
        "  print(\"Precision: \",metrics[1])\n",
        "  print(\"Recall: \",metrics[2])\n",
        "  print(\"F1 Score: \",metrics[3])\n",
        "\n",
        "  return metrics"
      ],
      "execution_count": 54,
      "outputs": []
    },
    {
      "cell_type": "code",
      "metadata": {
        "id": "Lrw4g4MIWxlf"
      },
      "source": [
        "metrics = []"
      ],
      "execution_count": 55,
      "outputs": []
    },
    {
      "cell_type": "markdown",
      "metadata": {
        "id": "PibknhTbWxlf"
      },
      "source": [
        "### Without Scaling"
      ]
    },
    {
      "cell_type": "code",
      "metadata": {
        "colab": {
          "base_uri": "https://localhost:8080/"
        },
        "id": "4S7j8cWuWxlf",
        "outputId": "1a2475f6-65d5-49c0-b873-647e1fc7df88"
      },
      "source": [
        "metrics.append(cross_validation(LogisticRegression(max_iter=100000),X,y))"
      ],
      "execution_count": 56,
      "outputs": [
        {
          "output_type": "stream",
          "name": "stdout",
          "text": [
            "Accuracy:  0.5811071601612865\n",
            "Precision:  0.5607615321992407\n",
            "Recall:  0.7510286034034429\n",
            "F1 Score:  0.641858251317811\n"
          ]
        }
      ]
    },
    {
      "cell_type": "markdown",
      "metadata": {
        "id": "Yd2es2bmWxlf"
      },
      "source": [
        "### With Standardization"
      ]
    },
    {
      "cell_type": "code",
      "metadata": {
        "colab": {
          "base_uri": "https://localhost:8080/"
        },
        "id": "TNWp-MTLWxlf",
        "outputId": "2e04bc7e-60c3-4e59-db9e-c00e5c2dd4cc"
      },
      "source": [
        "metrics.append(cross_validation(LogisticRegression(max_iter=100000,C=0.1,penalty='l2',solver='newton-cg'),X_standardized,y))"
      ],
      "execution_count": 57,
      "outputs": [
        {
          "output_type": "stream",
          "name": "stdout",
          "text": [
            "Accuracy:  0.7583094497047738\n",
            "Precision:  0.7519551273125045\n",
            "Recall:  0.7713011421612193\n",
            "F1 Score:  0.7613949395897649\n"
          ]
        }
      ]
    },
    {
      "cell_type": "markdown",
      "metadata": {
        "id": "2yf2ryQLWxlg"
      },
      "source": [
        "### With Normalization"
      ]
    },
    {
      "cell_type": "code",
      "metadata": {
        "colab": {
          "base_uri": "https://localhost:8080/"
        },
        "id": "RRurK47eWxlg",
        "outputId": "f70d5b18-f7b0-479a-f10d-fa47382734d4"
      },
      "source": [
        "metrics.append(cross_validation(LogisticRegression(max_iter=100000,C=1.0,penalty='l2',solver='saga'),X_normalized,y))"
      ],
      "execution_count": 58,
      "outputs": [
        {
          "output_type": "stream",
          "name": "stdout",
          "text": [
            "Accuracy:  0.7534421167601482\n",
            "Precision:  0.7490862549789382\n",
            "Recall:  0.7631875185148613\n",
            "F1 Score:  0.7557588810677445\n"
          ]
        }
      ]
    },
    {
      "cell_type": "markdown",
      "metadata": {
        "id": "b_I2Qv9gWxlg"
      },
      "source": [
        "# Performance and Comparison Plots"
      ]
    },
    {
      "cell_type": "code",
      "metadata": {
        "colab": {
          "base_uri": "https://localhost:8080/",
          "height": 143
        },
        "id": "CFIWwXkNWxlg",
        "outputId": "4f01369f-888e-4566-fc56-dd834448c4db"
      },
      "source": [
        "mdf = pd.DataFrame(metrics,columns=[\"Accuracy\",\"Precision\",\"Recall\",\"F1 Score\"],index=[\"Without Scaling\",\"With Standardization\",\"With Normalization\"])\n",
        "mdf.head()"
      ],
      "execution_count": 59,
      "outputs": [
        {
          "output_type": "execute_result",
          "data": {
            "text/html": [
              "<div>\n",
              "<style scoped>\n",
              "    .dataframe tbody tr th:only-of-type {\n",
              "        vertical-align: middle;\n",
              "    }\n",
              "\n",
              "    .dataframe tbody tr th {\n",
              "        vertical-align: top;\n",
              "    }\n",
              "\n",
              "    .dataframe thead th {\n",
              "        text-align: right;\n",
              "    }\n",
              "</style>\n",
              "<table border=\"1\" class=\"dataframe\">\n",
              "  <thead>\n",
              "    <tr style=\"text-align: right;\">\n",
              "      <th></th>\n",
              "      <th>Accuracy</th>\n",
              "      <th>Precision</th>\n",
              "      <th>Recall</th>\n",
              "      <th>F1 Score</th>\n",
              "    </tr>\n",
              "  </thead>\n",
              "  <tbody>\n",
              "    <tr>\n",
              "      <th>Without Scaling</th>\n",
              "      <td>0.581107</td>\n",
              "      <td>0.560762</td>\n",
              "      <td>0.751029</td>\n",
              "      <td>0.641858</td>\n",
              "    </tr>\n",
              "    <tr>\n",
              "      <th>With Standardization</th>\n",
              "      <td>0.758309</td>\n",
              "      <td>0.751955</td>\n",
              "      <td>0.771301</td>\n",
              "      <td>0.761395</td>\n",
              "    </tr>\n",
              "    <tr>\n",
              "      <th>With Normalization</th>\n",
              "      <td>0.753442</td>\n",
              "      <td>0.749086</td>\n",
              "      <td>0.763188</td>\n",
              "      <td>0.755759</td>\n",
              "    </tr>\n",
              "  </tbody>\n",
              "</table>\n",
              "</div>"
            ],
            "text/plain": [
              "                      Accuracy  Precision    Recall  F1 Score\n",
              "Without Scaling       0.581107   0.560762  0.751029  0.641858\n",
              "With Standardization  0.758309   0.751955  0.771301  0.761395\n",
              "With Normalization    0.753442   0.749086  0.763188  0.755759"
            ]
          },
          "metadata": {},
          "execution_count": 59
        }
      ]
    },
    {
      "cell_type": "code",
      "metadata": {
        "colab": {
          "base_uri": "https://localhost:8080/",
          "height": 265
        },
        "id": "fggmVx_SWxlg",
        "outputId": "ec86c5a4-4aab-4dd2-ecef-793f9e129f60"
      },
      "source": [
        "mdf['Accuracy'].plot()\n",
        "plt.ylabel(\"Accuracy\")\n",
        "plt.show()"
      ],
      "execution_count": 60,
      "outputs": [
        {
          "output_type": "display_data",
          "data": {
            "image/png": "[encoded data removed]",
            "text/plain": [
              "<Figure size 432x288 with 1 Axes>"
            ]
          },
          "metadata": {
            "needs_background": "light"
          }
        }
      ]
    },
    {
      "cell_type": "code",
      "metadata": {
        "colab": {
          "base_uri": "https://localhost:8080/",
          "height": 265
        },
        "id": "dHPQw26ZWxlg",
        "outputId": "fa3b6962-c26c-4e58-d6c9-3051f865c00a"
      },
      "source": [
        "mdf['Precision'].plot()\n",
        "plt.ylabel(\"Precision\")\n",
        "plt.show()"
      ],
      "execution_count": 61,
      "outputs": [
        {
          "output_type": "display_data",
          "data": {
            "image/png": "[encoded data removed]",
            "text/plain": [
              "<Figure size 432x288 with 1 Axes>"
            ]
          },
          "metadata": {
            "needs_background": "light"
          }
        }
      ]
    },
    {
      "cell_type": "code",
      "metadata": {
        "colab": {
          "base_uri": "https://localhost:8080/",
          "height": 265
        },
        "id": "sfE-OF-SWxlg",
        "outputId": "9605857f-37bf-4ecb-db79-191442b107d1"
      },
      "source": [
        "mdf['Recall'].plot()\n",
        "plt.ylabel(\"Recall\")\n",
        "plt.show()"
      ],
      "execution_count": 62,
      "outputs": [
        {
          "output_type": "display_data",
          "data": {
            "image/png": "[encoded data removed]",
            "text/plain": [
              "<Figure size 432x288 with 1 Axes>"
            ]
          },
          "metadata": {
            "needs_background": "light"
          }
        }
      ]
    },
    {
      "cell_type": "code",
      "metadata": {
        "colab": {
          "base_uri": "https://localhost:8080/",
          "height": 265
        },
        "id": "g2gE5as8Wxlg",
        "outputId": "fe1ee827-1a11-4c0f-c3b6-9eb8869388ea"
      },
      "source": [
        "mdf['F1 Score'].plot()\n",
        "plt.ylabel(\"F1 Score\")\n",
        "plt.show()"
      ],
      "execution_count": 63,
      "outputs": [
        {
          "output_type": "display_data",
          "data": {
            "image/png": "[encoded data removed]",
            "text/plain": [
              "<Figure size 432x288 with 1 Axes>"
            ]
          },
          "metadata": {
            "needs_background": "light"
          }
        }
      ]
    },
    {
      "cell_type": "code",
      "metadata": {
        "id": "arhQn8LEWxlh"
      },
      "source": [
        ""
      ],
      "execution_count": 63,
      "outputs": []
    }
  ]
}